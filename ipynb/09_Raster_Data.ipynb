{
 "cells": [
  {
   "cell_type": "markdown",
   "metadata": {},
   "source": [
    "# Lesson 9. Raster Data\n",
    "\n",
    "## Preparation\n",
    "\n",
    "1. Open the repo at <https://github.com/dlab-berkeley/Geospatial-Fundamentals-in-R-with-sf>\n",
    "    - Download and unzip the zip file\n",
    "    - Take note of where the folder is located\n",
    "\n",
    "2. Start your Jupyter. Notebook and open **09_Raster_data.ipynb**\n",
    "\n",
    "3. Install the required libraries, if you do not have them already\n"
   ]
  },
  {
   "cell_type": "code",
   "execution_count": null,
   "metadata": {},
   "outputs": [],
   "source": [
    "our_packages<- c(\"ggplot2\", \"sf\", \"tmap\", \"raster\")\n",
    "for (i in our_packages) {\n",
    "  if ( i %in% rownames(installed.packages()) == FALSE) {\n",
    "    install.packages(i)\n",
    "  }\n",
    "}\n"
   ]
  },
  {
   "cell_type": "markdown",
   "metadata": {},
   "source": [
    "5. Open the slides, **./docs/09_Raster_data.html**, in your browser (or click the \"Part 3 Slides\" link the repo).\n",
    "\n",
    "### Part III Overview\n",
    "\n",
    "- Review basic raster concepts\n",
    "- Read in our previous spatial data and new raster data\n",
    "- Make some raster and combined raster-vector maps\n",
    "- Run some raster and raster-vector operations and analyses\n",
    "\n",
    "### R Spatial Libraries\n",
    "\n",
    "Let's load the libraries we will use"
   ]
  },
  {
   "cell_type": "code",
   "execution_count": null,
   "metadata": {},
   "outputs": [],
   "source": [
    "library(sf)     # simple features objects and methods\n",
    "library(tmap)   # mapping spatial objects\n",
    "library(raster) # reading in and operating on rasters\n"
   ]
  },
  {
   "cell_type": "markdown",
   "metadata": {},
   "source": [
    " \n",
    "### Set your working directory\n",
    "\n",
    "Use `setwd` to set your working directory to the location of the tutorial files.\n",
    "\n",
    "For example:\n"
   ]
  },
  {
   "cell_type": "code",
   "execution_count": null,
   "metadata": {},
   "outputs": [],
   "source": [
    "path = \"~/Documents/repos/Geospatial-Fundamentals-in-R-with-sf\"\n",
    "setwd(path)\n"
   ]
  },
  {
   "cell_type": "markdown",
   "metadata": {},
   "source": [
    "## Load some files from Parts I and II\n",
    "\n",
    "### SF Census Tracts\n"
   ]
  },
  {
   "cell_type": "code",
   "execution_count": null,
   "metadata": {},
   "outputs": [],
   "source": [
    "# Read in the 'sftracts_wpop' shapefile\n",
    "SFtracts <- st_read(\"./notebook_data/part_3\", \"sftracts_wpop\")\n"
   ]
  },
  {
   "cell_type": "markdown",
   "metadata": {},
   "source": [
    "### SF Properties 2015\n",
    "\n"
   ]
  },
  {
   "cell_type": "code",
   "execution_count": null,
   "metadata": {},
   "outputs": [],
   "source": [
    "# Read in from CSV file\n",
    "SFhomes <- read.csv('./notebook_data/part_3/sf_properties.csv', \n",
    "                    stringsAsFactors = FALSE)\n",
    "# subset the data\n",
    "SFhomes15 <- subset(SFhomes, as.numeric(SalesYear) == 2015)\n",
    "\n",
    "# coerce to an `sf` object\n",
    "SFhomes15_sf <- st_as_sf(SFhomes15, coords = c('lon', 'lat'),\n",
    "                                                  crs = 4326)\n",
    "#Reproject to the SFtracts projection\n",
    "#NOTE: We're overwriting the previous SFhomes15_sf object here! This is\n",
    "#fine to do if we want, but we should always beware.\n",
    "SFhomes15_sf = st_transform(SFhomes15_sf, st_crs(SFtracts))\n",
    "\n",
    "#check projection equality\n",
    "st_crs(SFhomes15_sf) == st_crs(SFtracts)\n"
   ]
  },
  {
   "cell_type": "markdown",
   "metadata": {},
   "source": [
    "## Section 1: Raster Data in R\n",
    "\n",
    "### Read in a Raster\n",
    "\n",
    "Using the fabulous `raster` package\n"
   ]
  },
  {
   "cell_type": "code",
   "execution_count": null,
   "metadata": {},
   "outputs": [],
   "source": [
    "# Reading in and plotting raster files\n",
    "\n",
    "#read in a Bay Area DEM (Digital Elevation Model)\n",
    "#(from http://www.webgis.com/terr_pages/CA/dem1/sanfrancisco.html)\n",
    "DEM = raster('./notebook_data/part_3/san_francisco-e.DEM')\n"
   ]
  },
  {
   "cell_type": "markdown",
   "metadata": {},
   "source": [
    "### Plot it\n",
    "\n",
    "Make a quick map of the data to check it out\n"
   ]
  },
  {
   "cell_type": "code",
   "execution_count": null,
   "metadata": {},
   "outputs": [],
   "source": [
    "#plot it\n",
    "plot(DEM)\n"
   ]
  },
  {
   "cell_type": "markdown",
   "metadata": {},
   "source": [
    "### Explore the Structure\n",
    "\n",
    "To see a summary of the structure and content of a `RasterLayer` object,\n",
    "we can just enter the object's name.\n"
   ]
  },
  {
   "cell_type": "code",
   "execution_count": null,
   "metadata": {},
   "outputs": [],
   "source": [
    "DEM\n",
    "\n"
   ]
  },
  {
   "cell_type": "markdown",
   "metadata": {},
   "source": [
    "You can view more detail in the RStudio Environment pane.\n",
    "\n",
    "\n",
    "\n",
    "A raster should really just be a matrix of data, with metadata assiging\n",
    "it the correct location on the Earth's surface, right?\n",
    "\n",
    "In a `raster` object, the data and metadata will all be saved in their own\n",
    "'slots', which are indexed by '@' rather than '$'.\n",
    "\n",
    "('Slots' are components used to organize 'S4' objects. 'S4' is a data-type commonly\n",
    "used by third-party packages to define their own special data structures.)\n",
    "\n",
    "\n",
    "\n",
    "\n",
    "Here's some of the important metadata.\n"
   ]
  },
  {
   "cell_type": "code",
   "execution_count": null,
   "metadata": {},
   "outputs": [],
   "source": [
    "DEM@extent\n",
    "DEM@crs\n",
    "DEM@ncols\n"
   ]
  },
  {
   "cell_type": "markdown",
   "metadata": {},
   "source": [
    "And notice that the `DEM` object is indeed an 'S4' object.\n"
   ]
  },
  {
   "cell_type": "code",
   "execution_count": null,
   "metadata": {},
   "outputs": [],
   "source": [
    "class(DEM)\n",
    "typeof(DEM)\n"
   ]
  },
  {
   "cell_type": "markdown",
   "metadata": {},
   "source": [
    "Note that a `raster` object's structural organizaion and string-representation (the bit that is printed\n",
    "to the screen when you call the variable's name) are fundamentally different\n",
    "from those of `sf` objects.\n",
    "\n",
    "\n",
    "<br>\n",
    "\n",
    "For example, a `RasterLayer` has information on the resolution.\n"
   ]
  },
  {
   "cell_type": "code",
   "execution_count": null,
   "metadata": {},
   "outputs": [],
   "source": [
    "DEM\n",
    "\n"
   ]
  },
  {
   "cell_type": "markdown",
   "metadata": {},
   "source": [
    "What does the resolution mean?\n"
   ]
  },
  {
   "cell_type": "code",
   "execution_count": null,
   "metadata": {},
   "outputs": [],
   "source": [
    "(DEM@extent@xmax - DEM@extent@xmin) / DEM@ncols\n",
    "(DEM@extent@ymax - DEM@extent@ymin) / DEM@nrows\n",
    "DEM\n"
   ]
  },
  {
   "cell_type": "markdown",
   "metadata": {},
   "source": [
    "It's the cell-size! That is, the real-world distance of the x and y sides of\n",
    "each cell (i.e. pixel) in our `RasterLayer`, expressed in the distance units\n",
    "of the object (as determined by its projection).\n",
    "\n",
    "\n",
    "\n",
    "As for our matrix of data, it should live somewhere inside the `@data` slot, right?\n"
   ]
  },
  {
   "cell_type": "code",
   "execution_count": null,
   "metadata": {},
   "outputs": [],
   "source": [
    "str(DEM@data)\n",
    "\n"
   ]
  },
  {
   "cell_type": "markdown",
   "metadata": {},
   "source": [
    "\n",
    "There's a bunch of stuff there. Let's take a look at the `@data@values` slot...\n"
   ]
  },
  {
   "cell_type": "code",
   "execution_count": null,
   "metadata": {},
   "outputs": [],
   "source": [
    "DEM@data@values\n",
    "\n"
   ]
  },
  {
   "cell_type": "markdown",
   "metadata": {},
   "source": [
    "\n",
    "What happened there? How can our data be `logical(0)`?\n",
    "Where's our data?\n"
   ]
  },
  {
   "cell_type": "code",
   "execution_count": null,
   "metadata": {},
   "outputs": [],
   "source": [
    "DEM@data@inmemory\n",
    "DEM@data@fromdisk\n"
   ]
  },
  {
   "cell_type": "markdown",
   "metadata": {},
   "source": [
    "It appears our data was not all read into memory. Instead, our `RasterLayer` object\n",
    "contains a pointer to where that data is held on disk (to save memory).\n",
    "\n",
    "\n",
    "How do we see the values, then?\n",
    "\n",
    "Well, we can still subset the values, using two-dimensional subsetting notation, just\n",
    "as we'd expect for a matrix.\n"
   ]
  },
  {
   "cell_type": "code",
   "execution_count": null,
   "metadata": {},
   "outputs": [],
   "source": [
    "DEM[10:15, 20:30]\n",
    "\n"
   ]
  },
  {
   "cell_type": "markdown",
   "metadata": {},
   "source": [
    "And we'll get back a vector of the values from that subsetted matrix, unfolded.\n",
    "\n",
    "We can even subset the entire thing, getting back all of the values.\n"
   ]
  },
  {
   "cell_type": "code",
   "execution_count": null,
   "metadata": {},
   "outputs": [],
   "source": [
    "DEM[,]\n",
    "\n"
   ]
  },
  {
   "cell_type": "markdown",
   "metadata": {},
   "source": [
    "And we could even then turn that vector back into a matrix of the proper dimensions.\n"
   ]
  },
  {
   "cell_type": "code",
   "execution_count": null,
   "metadata": {},
   "outputs": [],
   "source": [
    "#coerce our whole raser's dataset to a matrix, with the appropriate number\n",
    "#of columns, and \n",
    "matrix(DEM[,], ncol = ncol(DEM), byrow = TRUE)\n"
   ]
  },
  {
   "cell_type": "markdown",
   "metadata": {},
   "source": [
    "Notice that we were able to use `ncol` on our `RasterLayer` object, because in some \n",
    "basic senses it behaves like a `matrix`, much as a `Spatial*DataFrame` behaves in some\n",
    "senses like a `data.frame`.\n",
    "\n",
    "\n",
    "\n",
    "Can we create a new `RasterLayer` object from a matrix?\n"
   ]
  },
  {
   "cell_type": "code",
   "execution_count": null,
   "metadata": {},
   "outputs": [],
   "source": [
    "test = raster(matrix(DEM[,], ncol = ncol(DEM), byrow = TRUE))\n",
    "test\n"
   ]
  },
  {
   "cell_type": "markdown",
   "metadata": {},
   "source": [
    "We do get a new `RasterLayer`! However, notice that it of course has no\n",
    "projection, and has incorrect extent and resolution.\n",
    "\n",
    "\n",
    "\n",
    "You can imagine that you could then use\n",
    "the DEM object's information to assign the new `RasterLayer` its appropriate metadata\n",
    "(much like what we did with unprojected point data that we read in from a CSV and\n",
    "coerced to an `sf` object).\n",
    "\n",
    "Because there's a much easier way to do all of this...\n",
    "\n",
    "\n",
    "\n",
    "\n",
    "\n",
    "Our subsetting operation can actually take a `drop = FALSE` argument!\n"
   ]
  },
  {
   "cell_type": "code",
   "execution_count": null,
   "metadata": {},
   "outputs": [],
   "source": [
    "DEM[10:15, 20:30, drop = FALSE]\n",
    "\n"
   ]
  },
  {
   "cell_type": "markdown",
   "metadata": {},
   "source": [
    "And this gives us back a new RasterLayer object! \n",
    "\n",
    "In essence, this makes the subsetting operation more or less like a basic **clipping** function.\n",
    "\n",
    "\n",
    "Here's what that gave us:\n"
   ]
  },
  {
   "cell_type": "code",
   "execution_count": null,
   "metadata": {},
   "outputs": [],
   "source": [
    "test = DEM[10:15, 20:30, drop = FALSE]\n",
    "plot(test)\n"
   ]
  },
  {
   "cell_type": "markdown",
   "metadata": {},
   "source": [
    "\n",
    "And now what does the `@data@values` slot look like in our new object now?\n"
   ]
  },
  {
   "cell_type": "code",
   "execution_count": null,
   "metadata": {},
   "outputs": [],
   "source": [
    "test@data@values\n",
    "\n"
   ]
  },
  {
   "cell_type": "markdown",
   "metadata": {},
   "source": [
    "\n",
    "\n",
    "That makes sense, because our test object didn't come from a file, so R\n",
    "didn't leave its data on disk.\n"
   ]
  },
  {
   "cell_type": "code",
   "execution_count": null,
   "metadata": {},
   "outputs": [],
   "source": [
    "test@data@inmemory\n",
    "test@data@fromdisk\n"
   ]
  },
  {
   "cell_type": "markdown",
   "metadata": {},
   "source": [
    "### CRS Transformations\n",
    "\n",
    "Check the CRS (aka projection) of the DEM raster data.\n",
    "\n",
    "Transform (or reproject) the Tracts vector data to match it.\n"
   ]
  },
  {
   "cell_type": "code",
   "execution_count": null,
   "metadata": {},
   "outputs": [],
   "source": [
    "#check out its CRS\n",
    "st_crs(DEM)\n",
    "\n",
    "#or just its proj4string\n",
    "proj4string(DEM)\n",
    "\n",
    "#reproject tracts to our DEM projection\n",
    "SFtracts_NAD = st_transform(SFtracts, st_crs(DEM))\n"
   ]
  },
  {
   "cell_type": "markdown",
   "metadata": {},
   "source": [
    "You can reproject the DEM with `raster::projectRaster`\n",
    "\n",
    "Note how the syntax is similar to `sf::st_transform`\n"
   ]
  },
  {
   "cell_type": "code",
   "execution_count": null,
   "metadata": {},
   "outputs": [],
   "source": [
    "DEM_WGS = projectRaster(DEM, projectExtent(DEM, st_crs(SFtracts)))\n",
    "\n"
   ]
  },
  {
   "cell_type": "markdown",
   "metadata": {},
   "source": [
    "Oops! What went wrong?\n",
    "\n",
    "That's not a very informative error message...\n",
    "\n",
    "Let's read the docs!\n"
   ]
  },
  {
   "cell_type": "code",
   "execution_count": null,
   "metadata": {},
   "outputs": [],
   "source": [
    "?projectRaster\n",
    "\n"
   ]
  },
  {
   "cell_type": "markdown",
   "metadata": {},
   "source": [
    "Looks like projectRaster expects the `crs` argument needs to be an object\n",
    "of the (uppercase) 'CRS' class.\n",
    "\n",
    "Is it?\n"
   ]
  },
  {
   "cell_type": "code",
   "execution_count": null,
   "metadata": {},
   "outputs": [],
   "source": [
    "class(st_crs(SFtracts))\n",
    "\n"
   ]
  },
  {
   "cell_type": "markdown",
   "metadata": {},
   "source": [
    "We need to be careful when working between the `raster` and `sf` packages, because\n",
    "`raster` is older and still depends on `sp`.\n",
    "\n",
    "This object is of the (lowercase) `crs` class, which is a class defined by the `sf` package!\n",
    "\n",
    "However, we can actually just extract the proj4string from our `crs`-class object\n",
    "and use that as our argument instead!\n"
   ]
  },
  {
   "cell_type": "code",
   "execution_count": null,
   "metadata": {},
   "outputs": [],
   "source": [
    "st_crs(SFtracts)$proj4string\n",
    "\n"
   ]
  },
  {
   "cell_type": "markdown",
   "metadata": {},
   "source": [
    "So let's try that again, giving the proj4string as our argument:\n"
   ]
  },
  {
   "cell_type": "code",
   "execution_count": null,
   "metadata": {},
   "outputs": [],
   "source": [
    "DEM_WGS = projectRaster(DEM, projectExtent(DEM, st_crs(SFtracts)$proj4string))\n",
    "\n"
   ]
  },
  {
   "cell_type": "markdown",
   "metadata": {},
   "source": [
    "Then  we can check equivalence.\n"
   ]
  },
  {
   "cell_type": "code",
   "execution_count": null,
   "metadata": {},
   "outputs": [],
   "source": [
    "st_crs(SFtracts_NAD) == st_crs(DEM)\n",
    "st_crs(DEM_WGS) == st_crs(SFtracts)\n"
   ]
  },
  {
   "cell_type": "markdown",
   "metadata": {},
   "source": [
    "\n",
    "What happened now?\n",
    "\n",
    "It appears that `sp` and `sf` are using the same EPSG codes\n",
    "but building slightly different proj4string representations, \n",
    "perhaps because of differences in the projection databases used by the two.\n"
   ]
  },
  {
   "cell_type": "code",
   "execution_count": null,
   "metadata": {},
   "outputs": [],
   "source": [
    "st_crs(DEM_WGS)\n",
    "st_crs(SFtracts)\n"
   ]
  },
  {
   "cell_type": "markdown",
   "metadata": {},
   "source": [
    "\n",
    "That should be alright though, as long as we know that our\n",
    "EPSG codes are identical, because each code identifies a\n",
    "materially distinct CRS.\n"
   ]
  },
  {
   "cell_type": "code",
   "execution_count": null,
   "metadata": {},
   "outputs": [],
   "source": [
    "st_crs(DEM_WGS)$epsg == st_crs(SFtracts)$epsg\n",
    "\n"
   ]
  },
  {
   "cell_type": "markdown",
   "metadata": {},
   "source": [
    "---\n",
    "\n",
    "## About the `sp` package\n",
    "\n",
    "As we mentiond in Part I, `sp` was for a long time the primary geospatial package in R.\n",
    "`sf` has now eclipsed this package (along with the 'rgdal' and 'rgeos' packages).\n",
    "However, as you can see, not all geospatial packages have made the transition already.\n",
    "\n",
    "\n",
    "You may sometimes run into issues such as the one we just experienced, where you can find an easy workaround.\n",
    "Other times, however, you may actually need to work with `sp` objects instead of `sf` ones.\n",
    "Luckily, this is easy!\n",
    "\n",
    "\n",
    "\n",
    "To convert __from `sf` to `sp`__, `sf` provides the `as_Spatial` function.\n",
    "Let's convert `SFhomes15_sf`, then look at its string representation.\n",
    "Note that it looks very similar to the metadata of a `raster` object.\n"
   ]
  },
  {
   "cell_type": "code",
   "execution_count": null,
   "metadata": {},
   "outputs": [],
   "source": [
    "SFhomes15_sp = as_Spatial(SFhomes15_sf)\n",
    "SFhomes15_sp\n"
   ]
  },
  {
   "cell_type": "markdown",
   "metadata": {},
   "source": [
    "And look at its structure, which is also similar.\n"
   ]
  },
  {
   "cell_type": "code",
   "execution_count": null,
   "metadata": {},
   "outputs": [],
   "source": [
    "str(SFhomes15_sp)\n",
    "\n"
   ]
  },
  {
   "cell_type": "markdown",
   "metadata": {},
   "source": [
    "That makes sense, because the `raster` and `sp` packages are designed to feel as\n",
    "standardized and consistent as possible.\n",
    "\n",
    "There _are_ differences, however!\n",
    "\n",
    "Some are just stylistic:\n",
    "\n",
    "- `@bbox` instead of `@extent`\n",
    "- `@proj4string` instead of `@crs`\n",
    "\n",
    "Some come from the difference between the vector and raster data models:\n",
    "\n",
    "- no `dimensions` attribute\n",
    "- no `resolution` (this _is_ a concept for vector data, but is not key metadata)\n",
    "- the `@data` slot is a `data.frame` (a.k.a. an \"attribute table\")\n",
    "\n",
    "\n",
    "\n",
    "`sp` creates objects that pertain to any of a number of classes,\n",
    "which conform to the `Spatial*DataFrame` convention:\n",
    "\n",
    "- `SpatialPointsDataFrame`\n",
    "- `SpatialLinesDataFrame`\n",
    "- `SpatialPolygonsDataFrame`\n",
    "- etc.\n",
    "\n",
    "\n",
    "\n",
    "`Spatial` objects can then be transformed, subsetted, analyzed, and plotted,\n",
    "using a variety of packages that may not be compatible (yet?) with `sf`.\n",
    "\n",
    "Here's a plot:\n"
   ]
  },
  {
   "cell_type": "code",
   "execution_count": null,
   "metadata": {},
   "outputs": [],
   "source": [
    "plot(SFhomes15_sp)\n",
    "\n"
   ]
  },
  {
   "cell_type": "markdown",
   "metadata": {},
   "source": [
    "And if you need to convert __from `sp` to `sf`__,\n",
    "there's a function for that too (which we already saw in Part 1!).\n"
   ]
  },
  {
   "cell_type": "code",
   "execution_count": null,
   "metadata": {},
   "outputs": [],
   "source": [
    "SFhomes15_sfagain = st_as_sf(SFhomes15_sp)\n",
    "plot(SFhomes15_sfagain['totvalue'])\n"
   ]
  },
  {
   "cell_type": "markdown",
   "metadata": {},
   "source": [
    "\n",
    "We will not go into any further detail on `sp` in this workshop.\n",
    "\n",
    "However, if you find you need to learn more then please visit our\n",
    "[former R geospatial workshop](https://github.com/dlab-geo/r-geospatial-workshop),\n",
    "which is based on `sp`.\n",
    "\n",
    "(It uses the same data and runs more or less the same operations as this workshop,\n",
    "so it should be easy to follow and should highlight all the differences between `sf` and `sp`.)\n",
    "\n",
    "\n",
    "### Cropping Rasters\n",
    "\n",
    "Since the raster data covers a larger area than our vector data / area of interest,\n",
    "we can **clip**, or **crop**, it using the `raster::crop` function.\n"
   ]
  },
  {
   "cell_type": "code",
   "execution_count": null,
   "metadata": {},
   "outputs": [],
   "source": [
    "# clip the WGS CRS version of the rasters to SFtracts \n",
    "DEM_WGS_crop = crop(DEM_WGS, SFtracts)\n",
    "\n",
    "# Clip the NAD CRS version\n",
    "DEM_crop = crop(DEM, SFtracts_NAD)\n"
   ]
  },
  {
   "cell_type": "markdown",
   "metadata": {},
   "source": [
    "### Plot Cropped Raster data\n",
    "\n",
    "You can plot raster and vector\n"
   ]
  },
  {
   "cell_type": "code",
   "execution_count": null,
   "metadata": {},
   "outputs": [],
   "source": [
    "plot(DEM_WGS_crop)\n",
    " \n"
   ]
  },
  {
   "cell_type": "markdown",
   "metadata": {},
   "source": [
    "### Plot Raster & Vector Data\n",
    "\n",
    "And we can plot raster and vector data together!\n",
    "\n",
    "Here we plot the NAD CRS version.\n"
   ]
  },
  {
   "cell_type": "code",
   "execution_count": null,
   "metadata": {},
   "outputs": [],
   "source": [
    "#plot together\n",
    "plot(DEM_WGS_crop)\n",
    "plot(st_geometry(SFtracts), add = T, col = NA)\n"
   ]
  },
  {
   "cell_type": "markdown",
   "metadata": {},
   "source": [
    "### Masking Raster Data\n",
    "\n",
    "Notice that the clipping (or cropping) operation reduced our dataset\n",
    "to just the extent of the census-tract dataset.\n",
    "\n",
    "But it still left us with\n",
    "values outside of the census tracts themselves (because they are areas outside\n",
    "the city of San Francisco).\n",
    "\n",
    "\n",
    "\n",
    "For some purposes, we may want to get rid of those\n",
    "values as well. \n",
    "\n",
    "We can do this with an operation called **masking**.\n"
   ]
  },
  {
   "cell_type": "code",
   "execution_count": null,
   "metadata": {},
   "outputs": [],
   "source": [
    "DEM_WGS_crop_masked = mask(DEM_WGS_crop, SFtracts)\n",
    "\n"
   ]
  },
  {
   "cell_type": "markdown",
   "metadata": {},
   "source": [
    "\n",
    "Here's what that gives us, compared to the unmasked object:\n"
   ]
  },
  {
   "cell_type": "code",
   "execution_count": null,
   "metadata": {},
   "outputs": [],
   "source": [
    "DEM_WGS_crop_masked\n",
    "DEM_WGS_crop\n"
   ]
  },
  {
   "cell_type": "markdown",
   "metadata": {},
   "source": [
    "\n",
    "\n",
    "Still a rectangular grid of cells (because a raster will __always__ be rectangular).\n",
    "\n",
    "Still has the same `nrow` and `ncol` as the unmasked object. \n",
    "\n",
    "What masking did was to set the cells that lie outside our dataset to NAs.\n",
    "\n",
    "\n"
   ]
  },
  {
   "cell_type": "code",
   "execution_count": null,
   "metadata": {},
   "outputs": [],
   "source": [
    "plot(DEM_WGS_crop_masked)\n",
    "plot(st_geometry(SFtracts), add = T, col = NA)\n"
   ]
  },
  {
   "cell_type": "markdown",
   "metadata": {},
   "source": [
    "### Plotting rasters in `tmap`\n",
    "\n",
    "We can make an interactive plot using `tmap`\n"
   ]
  },
  {
   "cell_type": "code",
   "execution_count": null,
   "metadata": {},
   "outputs": [],
   "source": [
    "my_map <- tm_shape(DEM_WGS_crop_masked) +\n",
    "  tm_raster() +\n",
    "tm_shape(SFtracts) + \n",
    "  tm_borders()\n",
    "\n",
    "# Set mode to interactive\n",
    "tmap_mode(\"view\")\n"
   ]
  },
  {
   "cell_type": "markdown",
   "metadata": {},
   "source": [
    "\n",
    "### View Map\n"
   ]
  },
  {
   "cell_type": "code",
   "execution_count": null,
   "metadata": {},
   "outputs": [],
   "source": [
    "my_map\n",
    "\n"
   ]
  },
  {
   "cell_type": "markdown",
   "metadata": {},
   "source": [
    "### Writing Raster Data\n",
    "\n",
    "And now that we've manipulated our data as desired, we can write it to disk\n",
    "if we like!\n"
   ]
  },
  {
   "cell_type": "code",
   "execution_count": null,
   "metadata": {},
   "outputs": [],
   "source": [
    "#write our reprojected, cropped data to the data directory, using the Geotiff format\n",
    "#(and allow R to overwrite if file already exists)\n",
    "writeRaster(DEM_WGS_crop_masked, filename=\"./outdata/DEM_reproject_crop.tif\", format=\"GTiff\", overwrite = T)\n"
   ]
  },
  {
   "cell_type": "markdown",
   "metadata": {},
   "source": [
    "## Section 2: Raster Operations and Spatial Analysis\n",
    "\n",
    "### Challenge section\n",
    "\n",
    "This section will feature a number of challenges, to get you practicing some of the\n",
    "material we've already covered today.\n",
    "\n",
    "### Extract elevation values\n",
    "\n",
    "We can use the raster::extract function to get the elevation values for each tract.\n"
   ]
  },
  {
   "cell_type": "code",
   "execution_count": null,
   "metadata": {},
   "outputs": [],
   "source": [
    "# get the elevation for every cell in each of the census tracts\n",
    "elev = extract(DEM_WGS_crop, SFtracts)\n",
    "\n",
    "#what did that give us?\n",
    "head(elev)\n"
   ]
  },
  {
   "cell_type": "markdown",
   "metadata": {},
   "source": [
    "### What is the output?\n",
    "\n",
    "Check out the data in the `elev` object\n"
   ]
  },
  {
   "cell_type": "code",
   "execution_count": null,
   "metadata": {},
   "outputs": [],
   "source": [
    "length(elev)\n",
    "nrow(SFtracts)\n"
   ]
  },
  {
   "cell_type": "markdown",
   "metadata": {},
   "source": [
    "It's a vector of the elevations for all the cells within each census tract!\n",
    "\n",
    "\n",
    "### Average Raster value by Vector shape\n",
    "\n",
    "Let's get each tract's average elevation\n"
   ]
  },
  {
   "cell_type": "code",
   "execution_count": null,
   "metadata": {},
   "outputs": [],
   "source": [
    "mean_elev = lapply(elev, mean, na.rm = T)\n",
    "head(mean_elev)\n"
   ]
  },
  {
   "cell_type": "markdown",
   "metadata": {},
   "source": [
    "### Add elevation to Vector object\n",
    "\n",
    "Let's add this to the SFtracts_NAD `data.frame`.\n",
    "\n",
    "__Note__: the order remains the same, so we can just add this right in!\n"
   ]
  },
  {
   "cell_type": "code",
   "execution_count": null,
   "metadata": {},
   "outputs": [],
   "source": [
    "SFtracts$mean_elev = unlist(mean_elev)\n",
    "\n"
   ]
  },
  {
   "cell_type": "markdown",
   "metadata": {},
   "source": [
    "\n",
    "### Map it\n"
   ]
  },
  {
   "cell_type": "code",
   "execution_count": null,
   "metadata": {},
   "outputs": [],
   "source": [
    "#what did we get?\n",
    "elev_map <- tm_shape(SFtracts) + \n",
    "  tm_polygons(col = 'mean_elev') +\n",
    "  tm_layout(\"The pain of biking in SF, by census tract\", \n",
    "            inner.margins=c(0,0,.1,0), title.size=4.8)\n"
   ]
  },
  {
   "cell_type": "code",
   "execution_count": null,
   "metadata": {},
   "outputs": [],
   "source": [
    "elev_map\n",
    "\n"
   ]
  },
  {
   "cell_type": "markdown",
   "metadata": {},
   "source": [
    "### One step Re-do\n",
    "\n",
    "We can also pass a function argument to `raster::extract`\n"
   ]
  },
  {
   "cell_type": "code",
   "execution_count": null,
   "metadata": {},
   "outputs": [],
   "source": [
    "elev = extract(DEM_WGS_crop, SFtracts, fun=mean)\n",
    "\n",
    "#what did that give us?\n",
    "head(elev)\n"
   ]
  },
  {
   "cell_type": "markdown",
   "metadata": {},
   "source": [
    "### Questions?\n",
    "\n",
    "Do you see the difference between those two approaches?\n",
    "\n",
    "1. Mapping a vector layer on top of a raster layer (i.e. `my_map`)\n",
    "2. Summarizing raster values by vector polygons, then mapping the polygons (`elev_map`)\n"
   ]
  },
  {
   "cell_type": "code",
   "execution_count": null,
   "metadata": {},
   "outputs": [],
   "source": [
    "my_map + elev_map\n",
    "\n"
   ]
  },
  {
   "cell_type": "markdown",
   "metadata": {},
   "source": [
    "## Challenge 1: Read in and check out new data\n",
    "\n",
    "You have another raster dataset in your `./data` directory. The file is called\n",
    "`nlcd2011_sf.tif`.\n",
    "\n",
    "This is data from the [National Land Cover Database (NLCD)](https://www.mrlc.gov/nlcd11_leg.php).\n",
    "\n",
    "It's 2011 data that was downloaded from [here](https://viewer.nationalmap.gov/basic).\n",
    "\n",
    "Read that file in as an object called `nlcd`, and plot it.\n",
    "\n",
    "\n",
    "### Solution\n"
   ]
  },
  {
   "cell_type": "code",
   "execution_count": null,
   "metadata": {},
   "outputs": [],
   "source": [
    "#read in nlcd data\n",
    "nlcd = raster('./notebook_data/part_3/nlcd2011_sf.tif')\n",
    "\n",
    "#plot nlcd\n",
    "plot(nlcd)\n"
   ]
  },
  {
   "cell_type": "markdown",
   "metadata": {},
   "source": [
    "### Let's see what's in the NLCD data\n",
    "\n"
   ]
  },
  {
   "cell_type": "code",
   "execution_count": null,
   "metadata": {},
   "outputs": [],
   "source": [
    "freq(nlcd)\n",
    "\n"
   ]
  },
  {
   "cell_type": "markdown",
   "metadata": {},
   "source": [
    "### ... and a barplot\n",
    "\n",
    "(__Note__: The colors in this barplot have no relation to the colors in our maps!\n",
    "Just pay attention to the categories on the x-axis.)\n"
   ]
  },
  {
   "cell_type": "code",
   "execution_count": null,
   "metadata": {},
   "outputs": [],
   "source": [
    "barplot(nlcd)\n",
    "\n"
   ]
  },
  {
   "cell_type": "markdown",
   "metadata": {},
   "source": [
    "### What do those values mean?\n",
    "\n",
    "This is a categorical raster. Each cell on the raster holds a discrete (integer) value, coding a particular type of land-cover (rather than a continuous value, like we saw with our elevation data above).\n",
    "\n",
    "Where do we do to figure out what the codes mean?\n",
    "This should come with the metadarad that ships with your data,\n",
    "or that is provided at the website where you downloaded it.\n",
    "\n",
    "[Here](https://www.mrlc.gov/data/legends/national-land-cover-database-2011-nlcd2011-legend)'s the NLCD legend.\n",
    "\n",
    "\n",
    "## Challenge 2: Reproject and crop our NLCD data\n",
    "\n",
    "Now that we've read in our NCLD data, check if we need to reproject it (we want it to be in the same projection as our `SFtracts` object), and project it if need be.\n",
    "\n",
    "Then crop it to the extent of our `SFtracts` object.\n",
    "\n",
    "### Solution\n"
   ]
  },
  {
   "cell_type": "code",
   "execution_count": null,
   "metadata": {},
   "outputs": [],
   "source": [
    "#check projection equality\n",
    "st_crs(nlcd) == st_crs(SFtracts)\n",
    "\n",
    "#reproject\n",
    "nlcd_WGS = projectRaster(nlcd, projectExtent(nlcd, st_crs(SFtracts)$proj4string))\n",
    "\n",
    "#check projection equality again\n",
    "st_crs(nlcd_WGS) == st_crs(SFtracts)\n",
    "\n",
    "#crop\n",
    "nlcd_WGS_crop = crop(nlcd_WGS, SFtracts)\n"
   ]
  },
  {
   "cell_type": "markdown",
   "metadata": {},
   "source": [
    "### Plot the new raster\n",
    "\n"
   ]
  },
  {
   "cell_type": "code",
   "execution_count": null,
   "metadata": {},
   "outputs": [],
   "source": [
    "plot(nlcd_WGS_crop)\n",
    "\n"
   ]
  },
  {
   "cell_type": "markdown",
   "metadata": {},
   "source": [
    "### Recovering our plot formatting\n",
    "\n",
    "Notice that the colors of our original, which conveniently represented the NLCD class\n",
    "colors from their website, are lost after reprojecting and cropping our raster.\n",
    "\n",
    "Those colors were controlled by information in the original file,\n",
    "which was read into the `@legend` slot. Here's the info (with hexadecimal format for color codes, e.g. '#00F900'):\n"
   ]
  },
  {
   "cell_type": "code",
   "execution_count": null,
   "metadata": {},
   "outputs": [],
   "source": [
    "nlcd@legend\n",
    "\n"
   ]
  },
  {
   "cell_type": "markdown",
   "metadata": {},
   "source": [
    "### Recover our plot formatting\n",
    "\n",
    "What's the `@legend` slot in our reproject, cropped object look like?\n"
   ]
  },
  {
   "cell_type": "code",
   "execution_count": null,
   "metadata": {},
   "outputs": [],
   "source": [
    "nlcd_WGS_crop@legend\n",
    "\n"
   ]
  },
  {
   "cell_type": "markdown",
   "metadata": {},
   "source": [
    "### Recover our plot formatting\n",
    "\n",
    "Well that's a bummer...\n",
    "\n",
    "Is there a way we could transfer that information over to our reprojected, cropped raster?\n",
    "\n",
    "## Challenge 3: Transferring our `@legend` info\n",
    "Try to figure out how to transfer the `@legend` info from the original raster object to our new object. Then plot the new object to see if it worked.\n",
    "\n",
    "### Solution\n",
    "\n",
    "Nice! Not necessary... but nice!\n"
   ]
  },
  {
   "cell_type": "code",
   "execution_count": null,
   "metadata": {},
   "outputs": [],
   "source": [
    "nlcd_WGS_crop@legend = nlcd@legend\n",
    "plot(nlcd_WGS_crop)\n"
   ]
  },
  {
   "cell_type": "markdown",
   "metadata": {},
   "source": [
    "### Aaalllmoost...\n",
    "\n",
    "Looking good!\n",
    "\n",
    "But what are all those funky-colored speckles?\n",
    "\n",
    "Turns out that raster reprojection requires interpolation of values, in order\n",
    "to bring one grid's values to another, unaligned grid's values.\n",
    "\n",
    "By default, `raster` uses bilinear interpolation to do this. But this doesn't\n",
    "make sense for categorical variables, because it returns non-sensical fractional\n",
    "categorical values!\n",
    "\n",
    "We can change this behavior by telling `raster::projectRaster` to use nearest-neighbor\n",
    "interpolation instead. (As the documentation mentions, this is better suited\n",
    "to categorical data.)\n",
    "\n",
    "So let's do that:\n"
   ]
  },
  {
   "cell_type": "code",
   "execution_count": null,
   "metadata": {},
   "outputs": [],
   "source": [
    "#reproject again, this time using nearest-neighbor interpolation\n",
    "nlcd_WGS = projectRaster(nlcd, projectExtent(nlcd, st_crs(SFtracts)$proj4string),\n",
    "                         method='ngb')\n",
    "#check projection equality again\n",
    "st_crs(nlcd_WGS) == st_crs(SFtracts)\n",
    "#crop again\n",
    "nlcd_WGS_crop = crop(nlcd_WGS, SFtracts)\n",
    "#grab our legend again\n",
    "nlcd_WGS_crop@legend = nlcd@legend\n",
    "#plot to check again\n",
    "plot(nlcd_WGS_crop)\n"
   ]
  },
  {
   "cell_type": "markdown",
   "metadata": {},
   "source": [
    "Much better!\n"
   ]
  },
  {
   "cell_type": "code",
   "execution_count": null,
   "metadata": {},
   "outputs": [],
   "source": [
    "#reproject again, this time using nearest-neighbor interpolation\n",
    "nlcd_WGS = projectRaster(nlcd, projectExtent(nlcd, st_crs(SFtracts)$proj4string),\n",
    "                         method='ngb')\n",
    "\n",
    "#check projection equality again\n",
    "st_crs(nlcd_WGS)$epsg == st_crs(SFtracts)$epsg\n",
    "\n",
    "#crop\n",
    "nlcd_WGS_crop = crop(nlcd_WGS, SFtracts)\n",
    "\n",
    "#grab our legend again\n",
    "nlcd_WGS_crop@legend = nlcd@legend\n",
    "\n",
    "#double-check by plotting\n",
    "plot(nlcd_WGS_crop)\n"
   ]
  },
  {
   "cell_type": "markdown",
   "metadata": {},
   "source": [
    "### Reclassifying rasters\n",
    "\n",
    "When we're working with a categorical raster, we'll often want to reclass our data. We may want to do this because:\n",
    "\n",
    "- Our original data has more classifications than we actually need for our analysis.\n",
    "- We want to represent the classifications we do have by a different numerical scheme because it somehow makes our analysis more convenient.\n",
    "\n",
    "### Reclass the NLCD\n",
    "\n",
    "Let's reclass our NLCD data. First we'll need to define a reclassification\n",
    "matrix with 3 columns (low, high, to):\n"
   ]
  },
  {
   "cell_type": "code",
   "execution_count": null,
   "metadata": {},
   "outputs": [],
   "source": [
    "?reclassify\n",
    "\n"
   ]
  },
  {
   "cell_type": "markdown",
   "metadata": {},
   "source": [
    "\n",
    "### Define reclassification matrix \n"
   ]
  },
  {
   "cell_type": "code",
   "execution_count": null,
   "metadata": {},
   "outputs": [],
   "source": [
    "reclass_vec <- c(0, 20, NA, # water will be set to NA (i.e. 'left out' of our analysis)\n",
    "                20, 21, 1, # we'll treat developed open space as greenspace, based on NLCD description\n",
    "                21, 30, 0, # developed and hardscape will have 0s\n",
    "                30, 31, NA, \n",
    "                31, Inf, 1) # greensapce will have 1s\n",
    "reclass_vec\n",
    "reclass_m <- matrix(reclass_vec, ncol = 3, byrow = TRUE)\n",
    "reclass_m\n"
   ]
  },
  {
   "cell_type": "markdown",
   "metadata": {},
   "source": [
    "\n",
    "### Reclassify the raster \n"
   ]
  },
  {
   "cell_type": "code",
   "execution_count": null,
   "metadata": {},
   "outputs": [],
   "source": [
    "nlcd_green <- reclassify(nlcd_WGS_crop, reclass_m)\n",
    "\n"
   ]
  },
  {
   "cell_type": "markdown",
   "metadata": {},
   "source": [
    "What did we get?\n"
   ]
  },
  {
   "cell_type": "code",
   "execution_count": null,
   "metadata": {},
   "outputs": [],
   "source": [
    "freq(nlcd_green)\n",
    "\n"
   ]
  },
  {
   "cell_type": "code",
   "execution_count": null,
   "metadata": {},
   "outputs": [],
   "source": [
    "barplot(nlcd_green)\n",
    "\n"
   ]
  },
  {
   "cell_type": "code",
   "execution_count": null,
   "metadata": {},
   "outputs": [],
   "source": [
    "plot(nlcd_green)\n",
    "\n"
   ]
  },
  {
   "cell_type": "markdown",
   "metadata": {},
   "source": [
    "## Challenge 4: Extract reclassed NLCD data to our tract polygons\n",
    "\n",
    "Just like we did earlier with our elevation data, let's extract our reclassed\n",
    "NLCD data to our census-tract polygons.\n",
    "\n",
    "### Solution\n"
   ]
  },
  {
   "cell_type": "code",
   "execution_count": null,
   "metadata": {},
   "outputs": [],
   "source": [
    "#extract the mean nlcd_simple values to tract polygons\n",
    "greenspace = extract(nlcd_green, SFtracts, fun=mean)\n"
   ]
  },
  {
   "cell_type": "markdown",
   "metadata": {},
   "source": [
    "### What did we get?\n",
    "\n"
   ]
  },
  {
   "cell_type": "code",
   "execution_count": null,
   "metadata": {},
   "outputs": [],
   "source": [
    "greenspace\n",
    "\n"
   ]
  },
  {
   "cell_type": "markdown",
   "metadata": {},
   "source": [
    "### Why?\n",
    "\n",
    "What's with all the NAs?\n",
    "\n",
    "Remember, we set all water cells to NA, to ignore them in our analysis.\n",
    "\n",
    "## Challenge 5: How do we get extract to ignore our NAs?\n",
    "\n",
    "Try to run the same command again, but telling the extract function to ignore NAs.\n",
    "\n",
    "### Solution\n",
    "\n",
    "The `na.rm` argument will do this for us. See how the docs indicate that it is set to FALSE by default? \n"
   ]
  },
  {
   "cell_type": "code",
   "execution_count": null,
   "metadata": {},
   "outputs": [],
   "source": [
    "?raster::extract\n",
    "\n"
   ]
  },
  {
   "cell_type": "markdown",
   "metadata": {},
   "source": [
    "Good to know!  Also good to know that this is a common\n",
    "argument across a variety of R operations.\n",
    "\n",
    "### Solution\n"
   ]
  },
  {
   "cell_type": "code",
   "execution_count": null,
   "metadata": {},
   "outputs": [],
   "source": [
    "#extract the mean nlcd_simple values to tract polygons,\n",
    "#this time setting na.rm to TRUE\n",
    "greenspace = extract(nlcd_green, SFtracts, fun=mean, na.rm = T)\n",
    "\n",
    "#and add to our SFtracts dataframe (which we can do because order is preserved)\n",
    "SFtracts$prop_greenspace = greenspace\n"
   ]
  },
  {
   "cell_type": "markdown",
   "metadata": {},
   "source": [
    "### Get the mean home values in each tract\n",
    "\n",
    "Pulling code from the end of Part II of this workshop, let's aggregate our homes data to the tract level too.\n"
   ]
  },
  {
   "cell_type": "code",
   "execution_count": null,
   "metadata": {},
   "outputs": [],
   "source": [
    "#aggregate totvalue to SFtracts\n",
    "SFtracts_w_mean_val = aggregate(x = SFhomes15_sf['totvalue'],\n",
    "                                by = SFtracts,\n",
    "                                FUN = mean)\n",
    "#and add the totvalue column to our SFtracts dataframe\n",
    "SFtracts$mean_totvalue = SFtracts_w_mean_val$totvalue\n"
   ]
  },
  {
   "cell_type": "code",
   "execution_count": null,
   "metadata": {},
   "outputs": [],
   "source": [
    "qtm(SFtracts_w_mean_val, fill = 'totvalue')\n",
    "\n"
   ]
  },
  {
   "cell_type": "markdown",
   "metadata": {},
   "source": [
    "### Predicting home values\n",
    "\n",
    "Do mean elevation and proportion greenspace predict mean home values?\n",
    "\n",
    "(__Note__: This is not a statistically valid model! Just a stand-in for downstream analysis.)\n"
   ]
  },
  {
   "cell_type": "code",
   "execution_count": null,
   "metadata": {},
   "outputs": [],
   "source": [
    "mod = lm(mean_totvalue ~ mean_elev + prop_greenspace, data = SFtracts)\n",
    "summary(mod)\n"
   ]
  },
  {
   "cell_type": "markdown",
   "metadata": {},
   "source": [
    "Not at the census-tract level. But that's kind of coarse...\n",
    "\n",
    "What if we want to do the analysis at the property level?\n",
    "\n",
    "Here's a workflow that puts together a bunch of what we've learned over\n",
    "Parts I to III of the workshop!\n"
   ]
  },
  {
   "cell_type": "code",
   "execution_count": null,
   "metadata": {},
   "outputs": [],
   "source": [
    "#Take a random subset of our 2015 homes, to save on computer time\n",
    "SFhomes15_sample = SFhomes15_sf[sample(seq(nrow(SFhomes15_sf)),\n",
    "                                replace = FALSE, size = 2000), ]\n"
   ]
  },
  {
   "cell_type": "markdown",
   "metadata": {},
   "source": [
    "\n",
    "\n",
    "Now let's reproject all our data to a UTM projection, so that we units of meters rather \n",
    "than decimal degrees.\n"
   ]
  },
  {
   "cell_type": "code",
   "execution_count": null,
   "metadata": {},
   "outputs": [],
   "source": [
    "#reproject\n",
    "SFhomes15_utm <- st_transform(SFhomes15_sample, 26910)\n",
    "DEM_utm = projectRaster(DEM,\n",
    "                        projectExtent(DEM,\n",
    "                                      st_crs(SFhomes15_utm)$proj4string))\n",
    "nlcd_green_utm = projectRaster(nlcd_green,\n",
    "                               projectExtent(nlcd_green,\n",
    "                                             st_crs(SFhomes15_utm)$proj4string))\n",
    "\n",
    "#check projections\n",
    "st_crs(SFhomes15_utm) == st_crs(DEM_utm)\n",
    "st_crs(SFhomes15_utm) == st_crs(nlcd_green_utm)\n"
   ]
  },
  {
   "cell_type": "markdown",
   "metadata": {},
   "source": [
    "\n",
    "\n",
    "Now let's buffer all our homes with a 100-meter buffer, then sum the greenspace within\n",
    "those buffers.\n"
   ]
  },
  {
   "cell_type": "code",
   "execution_count": null,
   "metadata": {},
   "outputs": [],
   "source": [
    "#create buffer\n",
    "SFhomes15_utm_buff = st_buffer(SFhomes15_utm, dist = 100)\n",
    "\n",
    "#sum the greenspace within the buffers \n",
    "#NOTE: This will take a couple minutes to run...\n",
    "greenspace_homes = extract(nlcd_green_utm, SFhomes15_utm_buff, fun = mean, na.rm = T)\n",
    "\n",
    "#add that as a column in our SFhomes15_utm dataframe\n",
    "SFhomes15_utm$greenspace = greenspace_homes\n"
   ]
  },
  {
   "cell_type": "markdown",
   "metadata": {},
   "source": [
    "\n",
    "And now let's extract the elevation at each home.\n"
   ]
  },
  {
   "cell_type": "code",
   "execution_count": null,
   "metadata": {},
   "outputs": [],
   "source": [
    "#extract the elevation to the homes\n",
    "#NOTE: no need for fun or na.rm arguments here, because the homes\n",
    "#and points, not polygons, so only a single cell will extract to each\n",
    "elev_homes = extract(DEM_utm, SFhomes15_utm)\n",
    "\n",
    "#add that as a column in our SFhomes15_utm dataframe too\n",
    "SFhomes15_utm$elev = elev_homes\n"
   ]
  },
  {
   "cell_type": "markdown",
   "metadata": {},
   "source": [
    "\n",
    "**Now**, how about that regression model?\n"
   ]
  },
  {
   "cell_type": "code",
   "execution_count": null,
   "metadata": {},
   "outputs": [],
   "source": [
    "mod = lm(totvalue ~ elev + greenspace, data = SFhomes15_utm)\n",
    "\n"
   ]
  },
  {
   "cell_type": "markdown",
   "metadata": {},
   "source": [
    "\n",
    "\n",
    "Mehhh... Some signal for elevation, but a very low $R^{2}$.\n",
    "\n",
    "But again, this is **just a stand-in analysis** (and lacks various considerations and adjustments for statistical validity).\n"
   ]
  },
  {
   "cell_type": "code",
   "execution_count": null,
   "metadata": {},
   "outputs": [],
   "source": [
    "summary(mod)\n",
    "\n"
   ]
  },
  {
   "cell_type": "markdown",
   "metadata": {},
   "source": [
    "### Questions?\n",
    "\n",
    "\n",
    "## Section 3: RasterStacks and RasterBricks\n",
    "\n",
    "### RasterStacks\n",
    "\n",
    "What about working with multiple rasters?\n",
    "\n",
    "### Fog data\n",
    "\n",
    "Data on summertime coastal fog in CA (a.k.a. Karl)\n"
   ]
  },
  {
   "cell_type": "code",
   "execution_count": null,
   "metadata": {},
   "outputs": [],
   "source": [
    "#(from http://climate.calcommons.org/dataset/monthly-summertime-fog)\n",
    "#(units are in average hours per day)\n",
    "karl_files = unique(gsub('.aux.xml', '', list.files('./notebook_data/Part_3/CalMnYr')))\n",
    "karl_files = karl_files[grep('flcc', karl_files)]\n",
    "\n",
    "# Take  a look\n",
    "karl_files\n"
   ]
  },
  {
   "cell_type": "markdown",
   "metadata": {},
   "source": [
    "Read all of the KARL files into one RasterStack object\n"
   ]
  },
  {
   "cell_type": "code",
   "execution_count": null,
   "metadata": {},
   "outputs": [],
   "source": [
    "karl <- stack(paste0('./notebook_data/part_3/CalMnYr/', karl_files))\n",
    "\n",
    "# look at what we made!\n",
    "karl\n"
   ]
  },
  {
   "cell_type": "markdown",
   "metadata": {},
   "source": [
    "**A RasterStack object** -  literally what it sounds like!\n",
    "\n",
    "### Plot the Stack\n"
   ]
  },
  {
   "cell_type": "code",
   "execution_count": null,
   "metadata": {},
   "outputs": [],
   "source": [
    "#plot a few\n",
    "plot(karl)\n"
   ]
  },
  {
   "cell_type": "markdown",
   "metadata": {},
   "source": [
    "### CRS\n",
    "\n",
    "What's the projection of the RasterStack?\n"
   ]
  },
  {
   "cell_type": "code",
   "execution_count": null,
   "metadata": {},
   "outputs": [],
   "source": [
    "#what's the projection?\n",
    "st_crs(karl)\n"
   ]
  },
  {
   "cell_type": "markdown",
   "metadata": {},
   "source": [
    "### CRS Transformation\n",
    "\n",
    "Let's reproject this\n"
   ]
  },
  {
   "cell_type": "code",
   "execution_count": null,
   "metadata": {},
   "outputs": [],
   "source": [
    "karl_WGS = projectRaster(karl, projectExtent(karl, st_crs(SFtracts)$proj4string))\n",
    "\n",
    "# check resultant CRS\n",
    "st_crs(karl_WGS) == st_crs(SFtracts)\n"
   ]
  },
  {
   "cell_type": "markdown",
   "metadata": {},
   "source": [
    "###  What did we get?\n",
    "\n",
    "What type of spatial object did that give us?\n"
   ]
  },
  {
   "cell_type": "code",
   "execution_count": null,
   "metadata": {},
   "outputs": [],
   "source": [
    "karl_WGS\n",
    "\n"
   ]
  },
  {
   "cell_type": "markdown",
   "metadata": {},
   "source": [
    "### RasterBrick\n",
    "\n",
    "A RasterBrick. What does that mean?\n"
   ]
  },
  {
   "cell_type": "code",
   "execution_count": null,
   "metadata": {},
   "outputs": [],
   "source": [
    "# See the documentation!\n",
    "?raster::brick\n"
   ]
  },
  {
   "cell_type": "markdown",
   "metadata": {},
   "source": [
    "### Crop the Brick\n",
    "\n",
    "Crop it to the extent of our area of interest - SF\n"
   ]
  },
  {
   "cell_type": "code",
   "execution_count": null,
   "metadata": {},
   "outputs": [],
   "source": [
    "# Crop it to SFtracts\n",
    "karl_WGS_crop = crop(karl_WGS, SFtracts)\n",
    "\n",
    "#Note that R vectorized that operation across our entire RasterBrick, the same way that it vectorizes many operations, e.g. 3<4 vs 3< seq(4)\n"
   ]
  },
  {
   "cell_type": "markdown",
   "metadata": {},
   "source": [
    "### Plot it\n",
    "\n"
   ]
  },
  {
   "cell_type": "code",
   "execution_count": null,
   "metadata": {},
   "outputs": [],
   "source": [
    "# now let's make our same plot again\n",
    "par(mfrow = c(1,2))\n",
    "plot(karl_WGS[[7]])\n",
    "plot(st_geometry(SFtracts), add = T, reset=F, key.pos = NULL, col = NA)\n",
    "plot(karl_WGS_crop[[7]])\n",
    "plot(st_geometry(SFtracts), add = T, reset = F, key.pos = NULL, col = NA)\n"
   ]
  },
  {
   "cell_type": "markdown",
   "metadata": {},
   "source": [
    "### Mean Fog\n",
    "\n",
    "Let's mean the karl values across the RasterBrick\n"
   ]
  },
  {
   "cell_type": "code",
   "execution_count": null,
   "metadata": {},
   "outputs": [],
   "source": [
    "# Mean values\n",
    "mean_karl_WGS_crop = mean(karl_WGS_crop)\n"
   ]
  },
  {
   "cell_type": "markdown",
   "metadata": {},
   "source": [
    "\n",
    "What did that give us?\n"
   ]
  },
  {
   "cell_type": "code",
   "execution_count": null,
   "metadata": {},
   "outputs": [],
   "source": [
    "mean_karl_WGS_crop\n",
    "\n"
   ]
  },
  {
   "cell_type": "markdown",
   "metadata": {},
   "source": [
    "### RasterBrick to Raster\n",
    "\n",
    "When we computed the mean of a RasterBrick we got back a RasterLayer object! That makes sense, because we took cellwise means across all Layers in our Brick.\n",
    "\n",
    "**This is called raster algebra**\n",
    "\n",
    "### Plot it\n"
   ]
  },
  {
   "cell_type": "code",
   "execution_count": null,
   "metadata": {},
   "outputs": [],
   "source": [
    "plot(mean_karl_WGS_crop)\n",
    "plot(st_geometry(SFtracts), add = T, col = NA)\n"
   ]
  },
  {
   "cell_type": "markdown",
   "metadata": {},
   "source": [
    "### BUT\n",
    "\n",
    "Not all common operations successfully run as raster algebra\n"
   ]
  },
  {
   "cell_type": "code",
   "execution_count": null,
   "metadata": {},
   "outputs": [],
   "source": [
    "# This won't work\n",
    "sd_karl_WGS_crop = sd(karl_WGS_crop)\n"
   ]
  },
  {
   "cell_type": "markdown",
   "metadata": {},
   "source": [
    "\n",
    "Let's try this instead\n"
   ]
  },
  {
   "cell_type": "code",
   "execution_count": null,
   "metadata": {},
   "outputs": [],
   "source": [
    "sd_karl_WGS_crop = calc(karl_WGS_crop, sd)\n",
    "\n"
   ]
  },
  {
   "cell_type": "code",
   "execution_count": null,
   "metadata": {},
   "outputs": [],
   "source": [
    "#plot that too\n",
    "par(mfrow = c(1,2))\n",
    "plot(mean_karl_WGS_crop, main=\"mean summer fog hours\")\n",
    "plot(st_geometry(SFtracts), add = T, reset=F, key.pos=NULL, col = NA)\n",
    "plot(sd_karl_WGS_crop, main=\"sd summer fog hours\")\n",
    "plot(st_geometry(SFtracts), add = T, reset=F, key.pos=NULL, col = NA)\n"
   ]
  },
  {
   "cell_type": "markdown",
   "metadata": {},
   "source": [
    "### Thoughts...\n",
    "\n",
    "Looks like the foggiest neighborhoods also have the highest variation in fog, \n",
    "but some less foggy neighborhoods on the east side of the city\n",
    "(e.g. The Inner Mission, Bayview) also vary quite a bit\n",
    "\n",
    "### Extract Mean Values\n",
    "\n",
    "Extract fog values to our tracts\n"
   ]
  },
  {
   "cell_type": "code",
   "execution_count": null,
   "metadata": {},
   "outputs": [],
   "source": [
    "SFtracts$mean_karl = extract(mean_karl_WGS_crop, SFtracts, mean)\n",
    "\n"
   ]
  },
  {
   "cell_type": "markdown",
   "metadata": {},
   "source": [
    "### Explore Spatial Relationships\n",
    "\n",
    "Maybe fogginess is a function of elevation? That would make sense, right?\n"
   ]
  },
  {
   "cell_type": "code",
   "execution_count": null,
   "metadata": {},
   "outputs": [],
   "source": [
    "# Linear regression model\n",
    "mod = lm(mean_karl ~ mean_elev, data = SFtracts)\n"
   ]
  },
  {
   "cell_type": "markdown",
   "metadata": {},
   "source": [
    "\n",
    "### View results\n"
   ]
  },
  {
   "cell_type": "code",
   "execution_count": null,
   "metadata": {},
   "outputs": [],
   "source": [
    "summary(mod)\n",
    "\n"
   ]
  },
  {
   "cell_type": "markdown",
   "metadata": {},
   "source": [
    "### Comments\n",
    "\n",
    "Neat!\n",
    "\n",
    "Census-tract mean elevation has a significant, positive effect on\n",
    "mean fogginess (with each meter increase in elevation causing on average\n",
    "a .011 hour, or about 39-second increase in time spent in fog on an average\n",
    "summer day.\n",
    "\n",
    "Though this barely explains about 3.5% of the variance in our data!\n",
    "\n",
    "Of course, again, these are __not statistically valid models!__ Just analytical stand-ins.\n",
    "\n",
    "### Questions?\n",
    "\n",
    "**Additional Resources**\n",
    "\n",
    "- The [`raster` package vignettes](https://cran.r-project.org/web/packages/raster/vignettes/Raster.pdf)\n",
    " - A [National Ecological Observatory Network tutorial](https://www.neonscience.org/raster-data-r)\n",
    "- A [National Center for Ecological Analysis and Synthesis tutorial](https://nceas.github.io/oss-lessons/spatial-data-gis-law/4-tues-spatial-analysis-in-r.html)\n",
    "- A [Waginingen University & Research tutorial](https://geoscripting-wur.github.io/IntroToRaster/)\n"
   ]
  }
 ],
 "metadata": {
  "anaconda-cloud": "",
  "kernelspec": {
   "display_name": "R",
   "language": "R",
   "name": "ir"
  },
  "language_info": {
   "codemirror_mode": "r",
   "file_extension": ".r",
   "mimetype": "text/x-r-source",
   "name": "R",
   "pygments_lexer": "r",
   "version": "4.0.3"
  }
 },
 "nbformat": 4,
 "nbformat_minor": 1
}
