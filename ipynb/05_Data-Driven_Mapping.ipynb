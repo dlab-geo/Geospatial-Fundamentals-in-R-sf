{
 "cells": [
  {
   "cell_type": "markdown",
   "metadata": {},
   "source": [
    "# Lesson 5. Data-driven Mapping\n",
    "\n",
    "*Data-driven mapping* refers to the process of using data values to determine the symbology of mapped features. Color, shape, and size are the three most common symbology types used in data-driven mapping.\n",
    "Data-driven maps are often refered to as thematic maps.\n",
    "\n",
    "\n",
    "- 5.1 Choropleth Maps\n",
    "- 5.2 Issues with Visualization\n",
    "- 5.3 Classification Schemes\n",
    "- 5.4 Point Maps\n",
    "- 5.5 Mapping Categorical Data\n",
    "- 5.6 Recap\n",
    "- **Exercise**: Data-Driven Mapping\n",
    "\n",
    "<br>\n",
    "<font color='grey'>\n",
    "    <b>Instructor Notes</b>\n",
    "\n",
    "- Datasets used\n",
    "    - 'notebook_data/california_counties/CaliforniaCounties.shp'\n",
    "    - 'notebook_data/alco_schools.csv'\n",
    "    - 'notebook_data/transportation/BerkeleyBikeBlvds.geojson'\n",
    "- Expected time to complete\n",
    "    - Lecture + Questions: 30 minutes\n",
    "    - Exercises: 15 minutes\n",
    "</font>\n",
    "\n",
    "\n",
    "### Types of Thematic Maps\n",
    "\n",
    "There are two primary types of maps used to convey data values:\n",
    "\n",
    "- `Choropleth maps`: set the color of areas (polygons) by data value\n",
    "- `Point symbol maps`: set the color or size of points by data value\n",
    "\n",
    "We will discuss both of these types of maps in more detail in this lesson. But let's take a quick look at choropleth maps. \n"
   ]
  },
  {
   "cell_type": "code",
   "execution_count": null,
   "metadata": {},
   "outputs": [],
   "source": [
    "library(sf)\n",
    "library(tmap)\n"
   ]
  },
  {
   "cell_type": "markdown",
   "metadata": {},
   "source": [
    "# 5.1 Choropleth Maps\n",
    "Choropleth maps are the most common type of thematic map.\n",
    "\n",
    "Let's take a look at how we can use an `sf` data.frame to make a choropleth map.\n",
    "\n",
    "We'll start by reloading our counties dataset from Day 1.\n"
   ]
  },
  {
   "cell_type": "code",
   "execution_count": null,
   "metadata": {},
   "outputs": [],
   "source": [
    "counties = st_read('notebook_data/california_counties/CaliforniaCounties.shp')\n",
    "\n"
   ]
  },
  {
   "cell_type": "markdown",
   "metadata": {},
   "source": [
    "\n"
   ]
  },
  {
   "cell_type": "code",
   "execution_count": null,
   "metadata": {},
   "outputs": [],
   "source": [
    "head(counties)\n",
    "\n"
   ]
  },
  {
   "cell_type": "markdown",
   "metadata": {},
   "source": [
    "\n"
   ]
  },
  {
   "cell_type": "code",
   "execution_count": null,
   "metadata": {},
   "outputs": [],
   "source": [
    "colnames(counties)\n",
    "\n"
   ]
  },
  {
   "cell_type": "markdown",
   "metadata": {},
   "source": [
    "Here's a plain map of our polygons.\n",
    "\n"
   ]
  },
  {
   "cell_type": "code",
   "execution_count": null,
   "metadata": {},
   "outputs": [],
   "source": [
    "plot(counties$geometry)\n",
    "\n"
   ]
  },
  {
   "cell_type": "markdown",
   "metadata": {},
   "source": [
    "Now, for comparison, let's create a choropleth map by setting the color of the county based on the values in the population per square mile (`POP12_SQMI`) column.\n",
    "\n",
    "First of all, remember that `sf`'s plot method does this by default! So, here's the quickest way to make a choropleth:\n"
   ]
  },
  {
   "cell_type": "code",
   "execution_count": null,
   "metadata": {},
   "outputs": [],
   "source": [
    "plot(counties['POP12_SQMI'])\n",
    "\n"
   ]
  },
  {
   "cell_type": "markdown",
   "metadata": {},
   "source": [
    "However, we can use `tmap`, our nicer mapping package, to do thematic mapping such as this and have greater control over the visualization details.\n",
    "\n",
    "In `tmap`, instead of setting the `col` argument to a static color identifier (e.g. 'red', '#ef03a5'), we can set it to the name of the column by which we want our polygons colored (e.g. 'POP12_SQMI').\n"
   ]
  },
  {
   "cell_type": "code",
   "execution_count": null,
   "metadata": {},
   "outputs": [],
   "source": [
    "tm_shape(counties) + \n",
    "  tm_polygons(col='POP12_SQMI')\n"
   ]
  },
  {
   "cell_type": "markdown",
   "metadata": {},
   "source": [
    "Of course, we can also use tmap's interactive mapping mode instead!\n",
    "\n",
    "(In this case, let's make our layer partially transparent, i.e. `alpha = 0.5`, so that we can see our basemap through our polygons.)\n"
   ]
  },
  {
   "cell_type": "code",
   "execution_count": null,
   "metadata": {},
   "outputs": [],
   "source": [
    "ttm()\n",
    "\n",
    "tm_shape(counties) +\n",
    "  tm_polygons(col='POP12_SQMI', alpha=0.5)\n"
   ]
  },
  {
   "cell_type": "markdown",
   "metadata": {},
   "source": [
    "That's really the heart of it. To set the color of the features based on the values in a column, set the `col` argument to the column name in the `sf` data.frame (cast as a string!).\n",
    "\n",
    "---------------------------------------\n",
    "\n",
    "By default map colors are linearly scaled to data values. This is called a `proportional color map`.\n",
    "\n",
    "- The great thing about `proportional color maps` is that you can visualize the full range of data values.\n"
   ]
  },
  {
   "cell_type": "code",
   "execution_count": null,
   "metadata": {},
   "outputs": [],
   "source": [
    "tm_shape(counties) + \n",
    "  tm_polygons(col = 'POP12_SQMI', alpha  = 0.5,\n",
    "              title = \"Population Density per mi^2\")\n"
   ]
  },
  {
   "cell_type": "markdown",
   "metadata": {},
   "source": [
    "<img src=\"http://www.pngall.com/wp-content/uploads/2016/03/Light-Bulb-Free-PNG-Image.png\" width=\"20\" align=left >  **Question**\n",
    "\n",
    "Why are we plotting `POP12_SQMI` instead of `POP2012`?\n",
    "\n",
    "\n",
    "### Note: Types of Color Maps\n",
    "\n",
    "There are a few different types of color maps (or color palettes), each of which has a different purpose:\n",
    "- *diverging* - a \"diverging\" set of colors are used so emphasize mid-range values as well as extremes.\n",
    "- *sequential* - usually with a single color hue to emphasize changes in magnitude, where darker colors typically mean higher values\n",
    "- *qualitative* - a diverse set of colors to identify categories and avoid implying quantitative significance.\n",
    "\n",
    "<img src=\"http://www.gnuplotting.org/figs/colorbrewer.png\"></img>\n",
    "\n",
    "> **Pro-tip**: Sites like [ColorBrewer](https://colorbrewer2.org/#type=sequential&scheme=Blues&n=3) let's you play around with different types of color maps.\n",
    "\n",
    "# 5.2 Issues with Visualization\n",
    "\n",
    "### Types of choropleth data\n",
    "\n",
    "There are several types of quantitative data variables that can be used to create a choropleth map. Let's consider these in terms of our ACS data.\n",
    "\n",
    "- **Count**\n",
    "    - counts, aggregated by feature\n",
    "        - *e.g. population within a census tract*\n",
    "\n",
    "- **Density**\n",
    "    - count, aggregated by feature, normalized by feature area\n",
    "        - *e.g. population per square mile within a census tract*\n",
    "\n",
    "- **Proportions / Percentages**\n",
    "    - value in a specific category divided by total value across in all categories\n",
    "        - *e.g. proportion of the tract population that is white compared to the total tract population*\n",
    "\n",
    "- **Rates / Ratios**\n",
    "    - value in one category divided by value in another category\n",
    "        - *e.g. homeowner-to-renter ratio would be calculated as the number of homeowners (c_owners/ c_renters)*\n",
    "\n",
    "### Interpretability of plotted data\n",
    "The goal of a choropleth map is to use color to visualize the spatial distribution of a quantitative variable.\n",
    "\n",
    "Brighter or richer colors are typically used to signify higher values.\n",
    "\n",
    "A big problem with choropleth maps is that our eyes are drawn to the color of larger areas, even if the values being mapped in one or more smaller areas are more important.\n",
    "\n",
    "\n",
    "We see just this sort of problem in our population-density map. \n",
    "\n",
    "***Why does our map not look that interesting?*** Take a look at the histogram below, then consider the following question.\n"
   ]
  },
  {
   "cell_type": "code",
   "execution_count": null,
   "metadata": {},
   "outputs": [],
   "source": [
    "hist(counties$POP12_SQMI,breaks=40, main = 'Population Density per mi^2')\n",
    "\n"
   ]
  },
  {
   "cell_type": "markdown",
   "metadata": {},
   "source": [
    "<img src=\"http://www.pngall.com/wp-content/uploads/2016/03/Light-Bulb-Free-PNG-Image.png\" width=\"20\" align=left >  **Question**\n",
    "\n",
    "What county does that outlier represent? What problem does that pose?\n",
    "\n",
    "\n",
    "# 5.3 Classification schemes\n",
    "\n",
    "Let's try to make our map more interpretable!\n",
    "\n",
    "The common alternative to a proportionial color map is to use a **classification scheme** to create a **graduated color map**. This is the standard way to create a **choropleth map**.\n",
    "\n",
    "A **classification scheme** is a method for binning continuous data values into 4-7 classes (the default is 5) and map those classes to a color palette. \n",
    "\n",
    "### The commonly used classifications schemes:\n",
    "\n",
    "- **Equal intervals**\n",
    "    - equal-size data ranges (e.g., values within 0-10, 10-20, 20-30, etc.)\n",
    "    - <u>pros</u>:\n",
    "        - best for data spread across entire range of values\n",
    "        - easily understood by map readers\n",
    "    - <u>cons</u>:\n",
    "        - but avoid if you have highly skewed data or a few big outliers\n",
    " \n",
    " \n",
    "- **Quantiles**\n",
    "    - equal number of observations in each bin\n",
    "    - <u>pros</u>:\n",
    "        - looks nice, becuase it best spreads colors across full set of data values\n",
    "        - thus, it's often the default scheme for mapping software\n",
    "    - <u>cons</u>:\n",
    "        - bin ranges based on the number of observations, not on the data values\n",
    "        - thus, different classes can have very similar or very different values.\n",
    " \n",
    " \n",
    "- **Natural breaks**\n",
    "    - minimize within-class variance and maximize between-class differences\n",
    "    - e.g. 'fisher-jenks'\n",
    "    - </u>pros</u>:\n",
    "        - great for exploratory data analysis, because it can identify natural groupings\n",
    "    - <u>cons</u>:\n",
    "        - class breaks are best fit to one dataset, so the same bins can't always be used for multiple years\n",
    " \n",
    " \n",
    "- **Manual** \n",
    "    - classifications are user-defined\n",
    "    - <u>pros</u>: \n",
    "        - especially useful if you want to slightly change the breaks produced by another scheme\n",
    "        - can be used as a fixed set of breaks to compare data over time\n",
    "    - <u>cons</u>:\n",
    "        - more work involved\n",
    "\n",
    "### Classification schemes and `sf` data.frames\n",
    "\n",
    "Classification schemes can be implemented using the `tmap` geometry functions (`tm_polygons`, `tm_dots`, etc.) by setting a value for the **style** argument.\n",
    "\n",
    "Here is a list of some of the `classification styles` names that we could use (from the docs: `?tm_polygons`):\n",
    "-  `equal`, `quantile`,`fisher`, `jenks`,`fixed`, `kmeans`, `pretty`.\n",
    "\n",
    "For more information about these classification schemes see sources such as [this page](https://geocompr.robinlovelace.net/adv-map.html) in the Lovelace, Nowosad, and Muenchow ebook, or check out the help docs.\n",
    "\n",
    "--------------------------\n",
    "\n",
    "### Classification schemes in action\n",
    "\n",
    "Let's redo the last map using the `quantile` classification scheme.\n",
    "\n",
    "- What is different about the code? About the output map?\n"
   ]
  },
  {
   "cell_type": "code",
   "execution_count": null,
   "metadata": {},
   "outputs": [],
   "source": [
    "# Plot population density - mile^2\n",
    "tm_shape(counties) + \n",
    "  tm_polygons(col = 'POP12_SQMI',\n",
    "              style=\"quantile\",\n",
    "              alpha=0.5,\n",
    "              title=\"Population Density per mi^2\")\n"
   ]
  },
  {
   "cell_type": "markdown",
   "metadata": {},
   "source": [
    "### User Defined Classification Schemes\n",
    "\n",
    "You may get pretty close to your final map without being completely satisfied. In this case you can manually define a classification scheme.\n",
    "\n",
    "Let's customize our map with a `user-defined` classification scheme where we manually set the breaks for the bins using the `classification_kwds` argument.\n"
   ]
  },
  {
   "cell_type": "code",
   "execution_count": null,
   "metadata": {},
   "outputs": [],
   "source": [
    "tm_shape(counties) + \n",
    "  tm_polygons(col = 'POP12_SQMI',\n",
    "              palette = \"YlGn\", \n",
    "              style='fixed',\n",
    "              breaks = c(0, 50, 100, 200, 300, 400, max(counties$POP12_SQMI)),\n",
    "              title = \"Population Density per Sq Mile\")\n"
   ]
  },
  {
   "cell_type": "markdown",
   "metadata": {},
   "source": [
    "Since we are customizing our plot, we can also edit our legend to specify the text, so that it's easier to read.\n",
    "\n",
    "- We'll use `tm_add_legend` to build our own customized legend.\n"
   ]
  },
  {
   "cell_type": "code",
   "execution_count": null,
   "metadata": {},
   "outputs": [],
   "source": [
    "tm_shape(counties) + \n",
    "  tm_polygons(col = 'POP12_SQMI',\n",
    "              palette = \"YlGn\", \n",
    "              style='fixed',\n",
    "              breaks = c(0, 50, 100, 200, 300, 400, max(counties$POP12_SQMI)),\n",
    "              legend.show = F) +\n",
    "tm_add_legend('fill', col = RColorBrewer::brewer.pal(6, \"YlGn\"),\n",
    "              border.col = \"black\",\n",
    "              title = \"Population Density per Sq Mile\",\n",
    "              labels = c('<50','50 to 100','100 to 200','200 to 300','300 to 400','>400'))\n"
   ]
  },
  {
   "cell_type": "markdown",
   "metadata": {},
   "source": [
    "### Let's plot a ratio\n",
    "\n",
    "If we look at the columns in our dataset, we see we have a number of variables\n",
    "from which we can calculate proportions, rates, and the like.\n",
    "\n",
    "Let's try that out:\n"
   ]
  },
  {
   "cell_type": "code",
   "execution_count": null,
   "metadata": {},
   "outputs": [],
   "source": [
    "head(counties)\n",
    "\n"
   ]
  },
  {
   "cell_type": "markdown",
   "metadata": {},
   "source": [
    "\n"
   ]
  },
  {
   "cell_type": "code",
   "execution_count": null,
   "metadata": {},
   "outputs": [],
   "source": [
    "# calculate percent hispanic as a new column\n",
    "counties$pct_hispanic = counties$HISPANIC/counties$POP2012 * 100\n",
    "\n",
    "# Plot percent hispanic as choropleth\n",
    "tm_shape(counties) + \n",
    "  tm_polygons(col = 'pct_hispanic',\n",
    "              palette = 'Blues', \n",
    "              style = 'fixed',\n",
    "              breaks= c(0,20,40,60,80,100),\n",
    "              border.col = \"darkgrey\",\n",
    "              lwd = 1.5,\n",
    "              legend.show=F) + \n",
    "tm_add_legend('fill', col = RColorBrewer::brewer.pal(5, \"Blues\"),\n",
    "              border.col = \"darkgrey\",\n",
    "              title = \"Percent Hispanic Population\",\n",
    "              labels = c('<20%','20% - 40%','40% - 60%','60% - 80%','80% - 100%'))\n"
   ]
  },
  {
   "cell_type": "markdown",
   "metadata": {},
   "source": [
    "<img src=\"http://www.pngall.com/wp-content/uploads/2016/03/Light-Bulb-Free-PNG-Image.png\" width=\"20\" align=left >  **Question**\n",
    "\n",
    "1. What new options and operations have we added to our code?\n",
    "1. Based on our code, what title would you give this plot to describe what it displays?\n",
    "1. How many values do we specify in the `breaks` vector, and how many bins are in the map legend? Why?\n",
    "\n",
    "\n",
    "# 5.4 Point maps\n",
    "\n",
    "Choropleth maps are great, but mapping using point symbols enables us to visualize our spatial data in another way. \n",
    "\n",
    "If you know both mapping methods you can expand how much information you can show in one map. \n",
    "\n",
    "For example, point maps are a great way to map `counts` because the varying sizes of areas are deemphasized.\n",
    "\n",
    "\n",
    "\n",
    "Let's read in some point data on Alameda County schools.\n"
   ]
  },
  {
   "cell_type": "code",
   "execution_count": null,
   "metadata": {},
   "outputs": [],
   "source": [
    "schools_df = read.csv('notebook_data/alco_schools.csv')\n",
    "head(schools_df)\n"
   ]
  },
  {
   "cell_type": "markdown",
   "metadata": {},
   "source": [
    "We got it from a plain CSV file, let's coerce it to an `sf` data.frame.\n",
    "\n"
   ]
  },
  {
   "cell_type": "code",
   "execution_count": null,
   "metadata": {},
   "outputs": [],
   "source": [
    "schools_sf = st_as_sf(schools_df, \n",
    "                      coords = c('X','Y'),\n",
    "                      crs = 4326)\n"
   ]
  },
  {
   "cell_type": "markdown",
   "metadata": {},
   "source": [
    "Then we can map it.\n",
    "\n"
   ]
  },
  {
   "cell_type": "code",
   "execution_count": null,
   "metadata": {},
   "outputs": [],
   "source": [
    "plot(schools_sf)\n",
    "\n"
   ]
  },
  {
   "cell_type": "markdown",
   "metadata": {},
   "source": [
    "### Proportional Color Maps\n",
    "\n",
    "**Proportional color maps** linearly scale the `color` of a point symbol by the data values.\n",
    "\n",
    "Let's try this by creating a map of `API`. API stands for *Academic Performance Index*, which is a measurement system that looks at the performance of an individual school.\n"
   ]
  },
  {
   "cell_type": "code",
   "execution_count": null,
   "metadata": {},
   "outputs": [],
   "source": [
    "tm_shape(schools_sf) + \n",
    "  tm_dots(col=\"API\", palette=\"YlOrRd\", size=0.5,\n",
    "          title=\"Alameda County, School API scores\")\n"
   ]
  },
  {
   "cell_type": "markdown",
   "metadata": {},
   "source": [
    "When you see that continuous color bar in the legend you know that the mapping of data values to colors is not classified.\n",
    "\n",
    "\n",
    "### Graduated Color Maps\n",
    "\n",
    "We can also create **graduated color maps** by binning data values before associating them with colors. These are just like choropleth maps, except that the term \"choropleth\" is only used with polygon data. \n",
    "\n",
    "Graduated color maps use the same syntax as the choropleth maps above - you create them by setting a value for `style`. \n",
    "\n",
    "Below, we copy the code we used above to create a choropleth, but we change the name of the `sf` data.frame to use the points datase. \n"
   ]
  },
  {
   "cell_type": "code",
   "execution_count": null,
   "metadata": {},
   "outputs": [],
   "source": [
    "# Plot percent non-white with graduated colors\n",
    "tm_shape(schools_sf) +\n",
    "  tm_dots(col='API', size=0.15,\n",
    "          palette='Reds', style='fixed',\n",
    "          breaks=c(0, 200, 400, 600, 800, 1000),\n",
    "          border.col='grey',\n",
    "          legend.show=F) + \n",
    "tm_add_legend('fill', title='Alameda County, school API scores',\n",
    "              labels = c('<200', '[200,400)', '[400,600)', '[600,800)', '>800'),\n",
    "              col = RColorBrewer::brewer.pal(5, \"Reds\"))\n"
   ]
  },
  {
   "cell_type": "markdown",
   "metadata": {},
   "source": [
    "As you can see, the syntax for a choropleth and graduated color map is the same,\n",
    "although some options only apply to one or the other.\n",
    "\n",
    "For example, uncomment the `size` parameter above sets the size of our dots, but such an argument would make\n",
    "no sense for a choropleth map!\n",
    "\n",
    "\n",
    "### Graduated symbol maps\n",
    "\n",
    "\n",
    "`Graduated symbol maps` are also a great method for mapping points.  These are just like graduated color maps but instead of associating symbol color with data values they associate point size. Similarly,graduated symbol maps use `classification schemes` to set the size of point symbols. \n",
    "\n",
    "> We demonstrate how to make graduated symbol maps along with some other mapping techniques in the `Optional Mapping notebook` which we encourage you to explore on your own. (***Coming Soon***)\n",
    "\n",
    "\n",
    "## 5.5 Mapping Categorical Data\n",
    "\n",
    "\n",
    "Mapping categorical data, also called qualitative data, is a bit more straightforward. There is no need to scale or classify data values. The goal of the color map is to provide a contrasting set of colors so as to clearly delineate different categories. Here's a point-based example:\n"
   ]
  },
  {
   "cell_type": "code",
   "execution_count": null,
   "metadata": {},
   "outputs": [],
   "source": [
    "tm_shape(schools_sf) + \n",
    "  tm_dots(col='Org', size=0.15, palette='Spectral')\n"
   ]
  },
  {
   "cell_type": "markdown",
   "metadata": {},
   "source": [
    "## 5.6 Recap\n",
    "\n",
    "We learned about important data driven mapping strategies and mapping concepts\n",
    "\n",
    "- Choropleth Maps\n",
    "- Point maps\n",
    "- Color schemes \n",
    "- Classifications\n",
    "\n",
    "# Exercise: Data-Driven Mapping\n",
    "\n",
    "Point and polygons are not the only geometry-types that we can use in data-driven mapping!\n",
    "\n",
    "Run the next cell to load a dataset containing Berkeley's bicycle boulevards (which we'll be using more in the following notebook).\n",
    "\n",
    "Then in the following cell, write your own code to:\n",
    "\n",
    "1. plot the bike boulevards;\n",
    "2. color them by status (find the correct column in the head of the dataframe, displayed below);\n",
    "3. color them using a fitting, good-looking qualitative colormap that you choose from [The Matplotlib Colormap Reference](https://matplotlib.org/3.1.1/gallery/color/colormap_reference.html);\n",
    "4. set the line width to 10 (check the plot method's documentation to find the right argument for this!);\n",
    "\n",
    "Then answer the questions posed in the last cell.\n",
    "\n",
    "<br>\n",
    "\n",
    "\n",
    "To see the solution, look at the hidden text below.\n"
   ]
  },
  {
   "cell_type": "code",
   "execution_count": null,
   "metadata": {},
   "outputs": [],
   "source": [
    "bike_blvds = st_read('notebook_data/transportation/BerkeleyBikeBlvds.geojson')\n",
    "head(bike_blvds)\n"
   ]
  },
  {
   "cell_type": "markdown",
   "metadata": {},
   "source": [
    "\n"
   ]
  },
  {
   "cell_type": "code",
   "execution_count": null,
   "metadata": {},
   "outputs": [],
   "source": [
    "# YOUR CODE HERE:\n",
    "\n"
   ]
  },
  {
   "cell_type": "markdown",
   "metadata": {},
   "source": [
    "## Solution hidden here!\n",
    "\n",
    "<!--\n",
    "\n",
    "# SOLUTION:\n",
    "\n",
    "tm_shape(bike_blvds) + \n",
    "  tm_lines(col='Status', palette='Dark2', lwd=10)\n",
    "\n",
    "\n",
    "-->\n",
    "\n",
    "-------------------------------------\n",
    "\n",
    "<img src=\"http://www.pngall.com/wp-content/uploads/2016/03/Light-Bulb-Free-PNG-Image.png\" width=\"20\" align=left >  **Question**\n",
    "\n",
    "1. What does that map indicate about the status of the Berkeley bike boulevards?\n",
    "2. What does that map indicate about the status of your Berkeley bike-boulevard *dataset*?\n",
    "\n",
    "\n",
    "---\n",
    "<div style=\"display:inline-block;vertical-align:middle;\">\n",
    "<a href=\"https://dlab.berkeley.edu/\" target=\"_blank\"><img src =\"assets/images/dlab_logo.png\" width=\"75\" align=\"left\">\n",
    "</a>\n",
    "</div>\n",
    "\n",
    "<div style=\"display:inline-block;vertical-align:middle;\">\n",
    "<div style=\"font-size:larger\">&nbsp;D-Lab @ University of California - Berkeley</div>\n",
    "<div>&nbsp;Team Geo<div>\n",
    "</div>\n",
    "        \n"
   ]
  }
 ],
 "metadata": {
  "anaconda-cloud": "",
  "kernelspec": {
   "display_name": "R",
   "language": "R",
   "name": "ir"
  },
  "language_info": {
   "codemirror_mode": "r",
   "file_extension": ".r",
   "mimetype": "text/x-r-source",
   "name": "R",
   "pygments_lexer": "r",
   "version": "4.0.3"
  }
 },
 "nbformat": 4,
 "nbformat_minor": 1
}
