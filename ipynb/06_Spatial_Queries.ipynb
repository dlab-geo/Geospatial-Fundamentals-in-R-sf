{
    "cells": [
        {
            "cell_type": "markdown",
            "metadata": {},
            "source": [
                "# Lesson 6. Spatial Queries\n",
                "\n",
                "In spatial analysis, our goal is not just to make nice maps,\n",
                "but to actually run analyses that leverage the explicitly spatial\n",
                "nature of our data. The process of doing this is known as \n",
                "**spatial analysis**.\n",
                "\n",
                "To construct spatial analyses, we string together series of spatial\n",
                "operations in such a way that the end result answers our question of interest.\n",
                "There are many such spatial operations. These are known as **spatial queries**.\n",
                "\n",
                "\n",
                "- 6.0 Load and prep some data\n",
                "- 6.1 Measurement Queries\n",
                "- 6.2 Relationship Queries\n",
                "- **Exercise**: Spatial Relationship Query\n",
                "- 6.3 Proximity Analysis\n",
                "- **Exercise**: Proximity Analysis\n",
                "- 6.4 Recap\n",
                "\n",
                "\n",
                "\n",
                "\n",
                "\n",
                "<br>\n",
                "<font color='grey'>\n",
                "    <b>Instructor Notes<\/b>\n",
                "\n",
                "- Datasets used\n",
                "    - 'notebook_data/census/Tracts/cb_2013_06_tract_500k.zip'\n",
                "    - 'notebook_data/protected_areas/CPAD_2020a_Units.shp'\n",
                "    - 'notebook_data/berkeley/BerkeleyCityLimits.shp'\n",
                "    - 'notebook_data/alco_schools.csv'\n",
                "    - 'notebook_data/transportation/BerkeleyBikeBlvds.geojson'\n",
                "    - 'notebook_data/transportation/bart.csv'\n",
                "\n",
                "- Expected time to complete\n",
                "    - Lecture + Questions: 45 minutes\n",
                "    - Exercises: 20 minutes\n",
                "<\/font>\n",
                "\n",
                "-------------------\n",
                "\n",
                "We will start by reviewing the most\n",
                "fundamental set, which we'll refer to as **spatial queries**.\n",
                "These can be divided into:\n",
                "\n",
                "- <u>Measurement queries<\/u>\n",
                "    - What is feature A's **length**?\n",
                "    - What is feature A's **area**?\n",
                "    - What is feature A's **perimeter**?\n",
                "    - What is feature A's **distance** from feature B?\n",
                "    - etc.\n",
                "- <u>Relationship queries<\/u>\n",
                "    - Is feature A **within** feature B?\n",
                "    - Does feature A **intersect** with feature B?\n",
                "    - Does feature A **cross** feature B?\n",
                "    - etc.\n",
                "    \n",
                "We'll work through examples of each of those types of queries.\n",
                "\n",
                "Then we'll see an example of a very common spatial analysis that \n",
                "is a conceptual amalgam of those two types: **proximity analysis**.\n"
            ]
        },
        {
            "cell_type": "code",
            "execution_count": null,
            "metadata": {},
            "outputs": [],
            "source": [
                "library(sf)\n",
                "library(tmap)\n"
            ]
        },
        {
            "cell_type": "markdown",
            "metadata": {},
            "source": [
                "# 6.0 Load and prep some data\n",
                "\n",
                "Let's read in our census tracts data again.\n"
            ]
        },
        {
            "cell_type": "code",
            "execution_count": null,
            "metadata": {},
            "outputs": [],
            "source": [
                "census_tracts = st_read(\"notebook_data/census/Tracts/cb_2013_06_tract_500k.shp\")\n",
                "plot(census_tracts$geometry)\n"
            ]
        },
        {
            "cell_type": "markdown",
            "metadata": {},
            "source": "\n"
        },
        {
            "cell_type": "code",
            "execution_count": null,
            "metadata": {},
            "outputs": [],
            "source": [
                "head(census_tracts)\n",
                "\n"
            ]
        },
        {
            "cell_type": "markdown",
            "metadata": {},
            "source": [
                "Then we'll grab just the Alameda Country tracts.\n",
                "\n"
            ]
        },
        {
            "cell_type": "code",
            "execution_count": null,
            "metadata": {},
            "outputs": [],
            "source": [
                "census_tracts_ac = census_tracts[census_tracts$COUNTYFP=='001',]\n",
                "plot(census_tracts_ac)\n"
            ]
        },
        {
            "cell_type": "markdown",
            "metadata": {},
            "source": [
                "# 6.1 Measurement Queries\n",
                "\n",
                "We'll start off with some simple measurement queries.\n",
                "\n",
                "For example, here's how we can get the areas of each of our census tracts.\n"
            ]
        },
        {
            "cell_type": "code",
            "execution_count": null,
            "metadata": {},
            "outputs": [],
            "source": [
                "st_area(census_tracts_ac)\n",
                "\n"
            ]
        },
        {
            "cell_type": "markdown",
            "metadata": {},
            "source": [
                "Okay! \n",
                "\n",
                "We got... \n",
                "\n",
                "numbers!\n",
                "\n",
                "...?\n",
                "\n",
                "<img src=\"http://www.pngall.com/wp-content/uploads/2016/03/Light-Bulb-Free-PNG-Image.png\" width=\"20\" align=left >  **Question**\n",
                "\n",
                "1. What do those numbers mean?\n",
                "2. What are the units?\n",
                "3. And if we're not sure, how might be find out?\n",
                "\n",
                "\n",
                "Let's take a look at our CRS.\n"
            ]
        },
        {
            "cell_type": "code",
            "execution_count": null,
            "metadata": {},
            "outputs": [],
            "source": [
                "st_crs(census_tracts_ac)\n",
                "\n"
            ]
        },
        {
            "cell_type": "markdown",
            "metadata": {},
            "source": [
                "Wow! We're working in an unprojected CRS, with units of decimal degrees, but `sf` automatically gave us area measurements in square meters (rather than the rather irrational square degrees).\n",
                "\n",
                "How did it do this? For unprojected CRS, `sf` calculates geodetic measurements (i.e. travel-distances across the earth's curved surface). It uses the `st_geod_area` function for this; see docs for details.\n",
                "\n",
                "------------------\n",
                "\n",
                "**That said, when doing spatial analysis, we will almost always want to work in a projected CRS\n",
                "that has natural distance units, such as meters!**\n",
                "\n",
                "Time to project!\n",
                "\n",
                "(As previously, we'll use UTM Zone 10N with a NAD83 data.\n",
                "This is a good choice for our region of interest.)\n"
            ]
        },
        {
            "cell_type": "code",
            "execution_count": null,
            "metadata": {},
            "outputs": [],
            "source": [
                "census_tracts_ac_utm10 = st_transform(census_tracts_ac, 26910)\n",
                "\n"
            ]
        },
        {
            "cell_type": "markdown",
            "metadata": {},
            "source": "\n"
        },
        {
            "cell_type": "code",
            "execution_count": null,
            "metadata": {},
            "outputs": [],
            "source": [
                "st_crs(census_tracts_ac_utm10)\n",
                "\n"
            ]
        },
        {
            "cell_type": "markdown",
            "metadata": {},
            "source": [
                "Now let's try our area calculation again.\n",
                "\n"
            ]
        },
        {
            "cell_type": "code",
            "execution_count": null,
            "metadata": {},
            "outputs": [],
            "source": [
                "st_area(census_tracts_ac_utm10)\n",
                "\n"
            ]
        },
        {
            "cell_type": "markdown",
            "metadata": {},
            "source": [
                "What if we compare areas calculated from our unprojected and projected CRS?\n",
                "\n"
            ]
        },
        {
            "cell_type": "code",
            "execution_count": null,
            "metadata": {},
            "outputs": [],
            "source": [
                "print(st_area(census_tracts_ac)[[1]])\n",
                "print(st_area(census_tracts_ac_utm10)[[1]])\n"
            ]
        },
        {
            "cell_type": "markdown",
            "metadata": {},
            "source": [
                "Hmmm... The numbers are a bit different...\n",
                "\n",
                "----------------------------\n",
                "\n",
                "You may have noticed that our census tracts already have an area column in them.\n",
                "\n",
                "Let's also compare those two results to this column.\n"
            ]
        },
        {
            "cell_type": "code",
            "execution_count": null,
            "metadata": {},
            "outputs": [],
            "source": [
                "print(st_area(census_tracts_ac)[[1]])\n",
                "print(st_area(census_tracts_ac_utm10)[[1]])\n",
                "print(census_tracts$ALAND[1])\n"
            ]
        },
        {
            "cell_type": "markdown",
            "metadata": {},
            "source": [
                "<img src=\"http://www.pngall.com/wp-content/uploads/2016/03/Light-Bulb-Free-PNG-Image.png\" width=\"20\" align=left >  **Question**\n",
                "\n",
                "What explains the discrepancy? Which areas are correct? Which are incorrect?\n",
                "\n",
                "\n",
                "We can also sum the area for Alameda county by wrapping our area calculation in a call to `sum`.\n"
            ]
        },
        {
            "cell_type": "code",
            "execution_count": null,
            "metadata": {},
            "outputs": [],
            "source": [
                "sum(st_area(census_tracts_ac_utm10))\n",
                "\n"
            ]
        },
        {
            "cell_type": "markdown",
            "metadata": {},
            "source": [
                "We can actually look up how large Alameda County is to check our work.The county is 739 miles<sup>2<\/sup>, which is around 1,914,001,213 meters<sup>2<\/sup>. I'd say we're pretty close!\n",
                "\n",
                "------------\n",
                "\n",
                "Also, you may have been wondering how R is managing to tell us the units of our measurements.\n",
                "\n",
                "It turns out that `sf` depends on the `units` package to track units. \n",
                "\n",
                "This is super convenient! But there is a gotcha:\n"
            ]
        },
        {
            "cell_type": "code",
            "execution_count": null,
            "metadata": {},
            "outputs": [],
            "source": [
                "# convert to square kilometers\n",
                "sum(st_area(census_tracts_ac_utm10)) / (1000^2)\n"
            ]
        },
        {
            "cell_type": "markdown",
            "metadata": {},
            "source": [
                "Oops! Our manual conversion to square kilometers gave us the right number but kept the now-wrong units!\n",
                "\n",
                "Here's the proper way to convert:\n"
            ]
        },
        {
            "cell_type": "code",
            "execution_count": null,
            "metadata": {},
            "outputs": [],
            "source": [
                "units::set_units(sum(st_area(census_tracts_ac_utm10)), km^2)\n",
                "\n"
            ]
        },
        {
            "cell_type": "markdown",
            "metadata": {},
            "source": [
                "Much nicer! In case you're wondering how we knew the right abbreviation to use for kilometers,\n",
                "check out the leftmost column in this reference table:\n"
            ]
        },
        {
            "cell_type": "code",
            "execution_count": null,
            "metadata": {},
            "outputs": [],
            "source": [
                "# View(units::valid_udunits())\n",
                "\n"
            ]
        },
        {
            "cell_type": "markdown",
            "metadata": {},
            "source": [
                "As it turns out, we can similarly use another attribute\n",
                "to get the features' lengths.\n",
                "\n",
                "**NOTE**: In this case, given we're\n",
                "dealing with polygons, this is equivalent to getting the features' perimeters.\n"
            ]
        },
        {
            "cell_type": "code",
            "execution_count": null,
            "metadata": {},
            "outputs": [],
            "source": [
                "st_length(census_tracts_ac_utm10)\n",
                "\n"
            ]
        },
        {
            "cell_type": "markdown",
            "metadata": {},
            "source": [
                "# 6.2 Relationship Queries\n",
                "\n",
                "\n",
                "[Spatial relationship queries](https://en.wikipedia.org/wiki/Spatial_relation) consider how two geometries or sets of geometries relate to one another in space. \n",
                "\n",
                "<img src=\"https://upload.wikimedia.org/wikipedia/commons/5/55/TopologicSpatialRelarions2.png\" height=\"300px\"><\/img>\n",
                "\n",
                "Here is a list of some of the more commonly used `sf` spatial relationship operations.\n",
                "\n",
                "- st_within\n",
                "- st_contains\n",
                "- st_intersects\n",
                "\n",
                "<br>\n",
                "However, there are several other spatial relationship predicates, though some are more complex to properly employ. For example the following two operations only work with geometries that are completely aligned.\n",
                "\n",
                "- st_touches\n",
                "- st_equals\n",
                "\n",
                "\n",
                "All of these predicates takes the form:\n",
                "\n",
                "    st_<predicate>(x, y)\n",
                "    \n",
                "For example:\n",
                "\n",
                "    st_within(homes, cities)\n",
                "    \n",
                "to check whether homes are within cities.\n",
                "\n",
                "------------------\n",
                "\n",
                "---------------\n",
                "\n",
                "Also, please keep in mind that there is no need to memorize these predicates and their functions!\n",
                "\n",
                "[Here](https://github.com/rstudio/cheatsheets/blob/master/sf.pdf) is a fantastic `sf` cheatsheet that lists and briefly explains all these common functions (and many more).\n",
                "\n",
                "--------------------------------\n",
                "\n",
                "Let's load a new dataset to demonstrate these queries.\n",
                "\n",
                "This is a dataset containing all the protected areas (parks and the like) in California.\n"
            ]
        },
        {
            "cell_type": "code",
            "execution_count": null,
            "metadata": {},
            "outputs": [],
            "source": [
                "pas = st_read('./notebook_data/protected_areas/CPAD_2020a_Units.shp')\n",
                "\n"
            ]
        },
        {
            "cell_type": "markdown",
            "metadata": {},
            "source": [
                "Does this need to be reprojected too?\n",
                "\n"
            ]
        },
        {
            "cell_type": "code",
            "execution_count": null,
            "metadata": {},
            "outputs": [],
            "source": [
                "st_crs(pas)\n",
                "\n"
            ]
        },
        {
            "cell_type": "markdown",
            "metadata": {},
            "source": [
                "Yes it does!\n",
                "\n",
                "Let's reproject it.\n"
            ]
        },
        {
            "cell_type": "code",
            "execution_count": null,
            "metadata": {},
            "outputs": [],
            "source": [
                "pas_utm10 = st_transform(pas, 26910)\n",
                "\n"
            ]
        },
        {
            "cell_type": "markdown",
            "metadata": {},
            "source": [
                "One common use for spatial queries is for spatial subsetting of data.\n",
                "\n",
                "In our case, lets use **intersects** to\n",
                "find all of the parks that have land in Alameda County.\n"
            ]
        },
        {
            "cell_type": "code",
            "execution_count": null,
            "metadata": {},
            "outputs": [],
            "source": [
                "pas_in_ac = st_intersects(pas_utm10, census_tracts_ac_utm10)\n",
                "\n"
            ]
        },
        {
            "cell_type": "markdown",
            "metadata": {},
            "source": [
                "What did we get? Lets print it and see:\n",
                "\n"
            ]
        },
        {
            "cell_type": "code",
            "execution_count": null,
            "metadata": {},
            "outputs": [],
            "source": [
                "pas_in_ac\n",
                "\n"
            ]
        },
        {
            "cell_type": "markdown",
            "metadata": {},
            "source": [
                "This may not look like the large matrix of logicals that we expected. \n",
                "\n",
                "As it turns out, this is a special data structure, defined by `sf`, that provides a terse representation of that sparse matrix (in which each protected area row number has a vector containing the census-tract row numbers of all census tracts that it intersects). \n",
                "\n",
                "If we set the `sparse` argument to `FALSE` (the docs say it defaults to `TRUE`) then we should get different behavior.\n"
            ]
        },
        {
            "cell_type": "code",
            "execution_count": null,
            "metadata": {},
            "outputs": [],
            "source": [
                "pas_in_ac = st_intersects(pas_utm10, census_tracts_ac_utm10, sparse=F)\n",
                "pas_in_ac\n"
            ]
        },
        {
            "cell_type": "markdown",
            "metadata": {},
            "source": [
                "Okay! That looks more interpretable.\n",
                "\n",
                "We could certainly summarize either of those two data structures, then use it to subset our protected areas dataset, keeping only the protected areas that interset with Alameda County's census tracts.\n",
                "\n",
                "However, it turns out that `sf` has a different function, `st_intersection`, that will do that for us all at once. It will take our two `sf` objects (`x` and `y`), then return a new `sf` object containing only the features of `x` that intersect `y`! Let's try it:\n"
            ]
        },
        {
            "cell_type": "code",
            "execution_count": null,
            "metadata": {},
            "outputs": [],
            "source": [
                "pas_in_ac = st_intersection(pas_utm10, census_tracts_ac_utm10)\n",
                "\n"
            ]
        },
        {
            "cell_type": "markdown",
            "metadata": {},
            "source": [
                "Great! Now, if we scroll the resulting `sf` object we'll see that \n",
                "the `COUNTY` column of our resulting subset gives us a good sanity check on our results.\n"
            ]
        },
        {
            "cell_type": "code",
            "execution_count": null,
            "metadata": {},
            "outputs": [],
            "source": [
                "head(pas_in_ac)\n",
                "\n"
            ]
        },
        {
            "cell_type": "markdown",
            "metadata": {},
            "source": [
                "An overlay plot can also provide a nice check!\n",
                "\n"
            ]
        },
        {
            "cell_type": "code",
            "execution_count": null,
            "metadata": {},
            "outputs": [],
            "source": [
                "tm_shape(census_tracts_ac_utm10) + \n",
                "  tm_polygons(col='gray') +\n",
                "tm_shape(pas_in_ac) + \n",
                "  tm_polygons(col = 'ACRES', palette = 'YlGn',\n",
                "              border.col = 'black', lwd = 0.4, \n",
                "              alpha = 0.8,\n",
                "              title =  'Protected areas in Alameda County, colored by area')\n"
            ]
        },
        {
            "cell_type": "markdown",
            "metadata": {},
            "source": [
                "# Exercise: Spatial Relationship Query\n",
                "\n",
                "Let's use a spatial relationship query to create a new dataset containing Berkeley schools!\n",
                "\n",
                "Run the next two cells to load datasets containing Berkeley's city boundary and Alameda County's\n",
                "schools and to reproject them to EPSG: 26910.\n",
                "\n",
                "Then in the following cell, write your own code to:\n",
                "1. subset the schools for only those `within` Berkeley\n",
                "2. plot the Berkeley boundary and then the schools as an overlay map\n",
                "\n",
                "To see the solution, look at the hidden text below.\n"
            ]
        },
        {
            "cell_type": "code",
            "execution_count": null,
            "metadata": {},
            "outputs": [],
            "source": [
                "# load the Berkeley boundary\n",
                "berkeley = st_read(\"notebook_data/berkeley/BerkeleyCityLimits.shp\")\n",
                "\n",
                "# transform to EPSG:26910\n",
                "berkeley_utm10 = st_transform(berkeley, 26910)\n",
                "\n",
                "# display\n",
                "head(berkeley_utm10)\n"
            ]
        },
        {
            "cell_type": "markdown",
            "metadata": {},
            "source": "\n"
        },
        {
            "cell_type": "code",
            "execution_count": null,
            "metadata": {},
            "outputs": [],
            "source": [
                "# load the Alameda County schools CSV\n",
                "schools_df = read.csv('notebook_data/alco_schools.csv')\n",
                "\n",
                "# coerce it to an `sf` object and set its CRS\n",
                "schools_sf = st_as_sf(schools_df, coords = c('X', 'Y'), crs = 4326)\n",
                "\n",
                "# transform to EPSG:26910\n",
                "schools_sf_utm10 = st_transform(schools_sf, 26910)\n",
                "\n",
                "# display\n",
                "head(schools_sf_utm10)\n"
            ]
        },
        {
            "cell_type": "markdown",
            "metadata": {},
            "source": "\n"
        },
        {
            "cell_type": "code",
            "execution_count": null,
            "metadata": {},
            "outputs": [],
            "source": [
                "# YOUR CODE HERE:\n",
                "\n"
            ]
        },
        {
            "cell_type": "markdown",
            "metadata": {},
            "source": [
                "## Solution hidden here!\n",
                "\n",
                "<!--\n",
                "\n",
                "# SOLUTION:\n",
                "\n",
                "# get the intersection of the schools and Berkeley\n",
                "schools_in_berkeley = st_intersection(schools_sf_utm10, berkeley_utm10)\n",
                "\n",
                "# plot the Berkeley border\n",
                "tm_shape(berkeley_utm10) +\n",
                "  tm_polygons(col='lightgrey') + \n",
                "tm_shape(schools_in_berkeley) + \n",
                "  tm_dots(col='purple', size=0.1)\n",
                "\n",
                "-->\n",
                "\n",
                "-------------------------------\n",
                "\n",
                "# 6.3 Proximity Analysis\n",
                "\n",
                "Now that we've seen the basic idea of spatial measurement and relationship queries,\n",
                "let's take a look at a common analysis that combines those concepts: **promximity analysis**.\n",
                "\n",
                "Proximity analysis seeks to identify all features in a focal feature set\n",
                "that are within some maximum distance of features in a reference feature set.\n",
                "\n",
                "A common workflow for this analysis is:\n",
                "\n",
                "1. Buffer (i.e. add a margin around) the reference dataset, out to the maximum distance.\n",
                "2. Run a spatial relationship query to find all focal features that intersect (or are within) the buffer.\n",
                "\n",
                "---------------------------------\n",
                "\n",
                "Let's read in our bike boulevard data again.\n",
                "\n",
                "Then we'll find out which of our Berkeley schools are within a block's distance (200 m) of the boulevards.\n"
            ]
        },
        {
            "cell_type": "code",
            "execution_count": null,
            "metadata": {},
            "outputs": [],
            "source": [
                "bike_blvds = st_read('notebook_data/transportation/BerkeleyBikeBlvds.geojson')\n",
                "plot(bike_blvds$geometry)\n"
            ]
        },
        {
            "cell_type": "markdown",
            "metadata": {},
            "source": [
                "Of course, we need to reproject the boulevards to our projected CRS.\n",
                "\n",
                "(We'll aim at the CRS of `census_tracts_ac_utm10`, to be as explicit as possible and make sure we hit our target.)\n"
            ]
        },
        {
            "cell_type": "code",
            "execution_count": null,
            "metadata": {},
            "outputs": [],
            "source": [
                "bike_blvds_utm10 = st_transform(bike_blvds, st_crs(census_tracts_ac_utm10))\n",
                "\n"
            ]
        },
        {
            "cell_type": "markdown",
            "metadata": {},
            "source": [
                "Now we can create our 200 meter bike boulevard buffers.\n",
                "\n"
            ]
        },
        {
            "cell_type": "code",
            "execution_count": null,
            "metadata": {},
            "outputs": [],
            "source": [
                "bike_blvds_buf = st_buffer(bike_blvds_utm10, dist=200)\n",
                "\n"
            ]
        },
        {
            "cell_type": "markdown",
            "metadata": {},
            "source": [
                "Now let's overlay everything.\n",
                "\n"
            ]
        },
        {
            "cell_type": "code",
            "execution_count": null,
            "metadata": {},
            "outputs": [],
            "source": [
                "tm_shape(berkeley_utm10) + \n",
                "  tm_polygons(col = 'lightgrey') + \n",
                "tm_shape(bike_blvds_buf) + \n",
                "  tm_polygons(col = 'pink', alpha = 0.5) +\n",
                "tm_shape(bike_blvds_utm10) + \n",
                "  tm_lines() + \n",
                "tm_shape(schools_sf_utm10) + \n",
                "  tm_dots(col = 'purple', size=0.2)\n"
            ]
        },
        {
            "cell_type": "markdown",
            "metadata": {},
            "source": [
                "Great! Looks like we're all ready to run our intersection to complete the proximity analysis.\n",
                "\n"
            ]
        },
        {
            "cell_type": "code",
            "execution_count": null,
            "metadata": {},
            "outputs": [],
            "source": [
                "schools_near_blvds = st_intersection(schools_sf_utm10, bike_blvds_buf)\n",
                "\n"
            ]
        },
        {
            "cell_type": "markdown",
            "metadata": {},
            "source": [
                "Now let's overlay again, to see if the schools we subsetted make sense.\n",
                "\n"
            ]
        },
        {
            "cell_type": "code",
            "execution_count": null,
            "metadata": {},
            "outputs": [],
            "source": [
                "tm_shape(berkeley_utm10) + \n",
                "  tm_polygons(col = 'lightgrey') + \n",
                "tm_shape(bike_blvds_buf) + \n",
                "  tm_polygons(col = 'pink', alpha = 0.5) +\n",
                "tm_shape(bike_blvds_utm10) + \n",
                "  tm_lines() + \n",
                "tm_shape(schools_sf_utm10) + \n",
                "  tm_dots(col = 'purple', size=0.2) +\n",
                "tm_shape(schools_near_blvds) + \n",
                "  tm_dots(col = 'yellow', size=0.2)\n"
            ]
        },
        {
            "cell_type": "markdown",
            "metadata": {},
            "source": [
                "Also note that if we want to find the pairwise distance matrix of the shortest distances between\n",
                "our schools and the bike boulevards, we can use the `st_distance` function.\n"
            ]
        },
        {
            "cell_type": "code",
            "execution_count": null,
            "metadata": {},
            "outputs": [],
            "source": [
                "st_distance(schools_sf_utm10, bike_blvds_utm10)\n",
                "\n"
            ]
        },
        {
            "cell_type": "markdown",
            "metadata": {},
            "source": [
                "# Exercise: Proximity Analysis\n",
                "\n",
                "Now it's your turn to try out a proximity analysis!\n",
                "\n",
                "Run the next cell to load our BART-system data, reproject it to EPSG: 26910, and subset it to Berkeley.\n",
                "\n",
                "Then in the following cell, write your own code to find all schools within walking distance (1 km) of a BART station.\n",
                "\n",
                "As a reminder, let's break this into steps:\n",
                "1. buffer your Berkeley BART stations to 1 km (**HINT**: remember your units!)\n",
                "2. use the schools' `within` attribute to check whether or not they're within the buffers\n",
                "3. subset the Berkeley schools using the object returned by your spatial relationship query\n",
                "\n",
                "4. as always, plot your results for a good visual check!\n",
                "\n",
                "To see the solution, look at the hidden text below.\n"
            ]
        },
        {
            "cell_type": "code",
            "execution_count": null,
            "metadata": {},
            "outputs": [],
            "source": [
                "# load the BART stations from CSV\n",
                "bart_stations = read.csv('notebook_data/transportation/bart.csv')\n",
                "# coerce to an sf data.frame and set CRS to 4326\n",
                "bart_stations_sf = st_as_sf(bart_stations, \n",
                "                             coords = c('lon', 'lat'),\n",
                "                             crs = 4326)\n",
                "# transform to utm zone 10 n (epsg:26910)\n",
                "bart_stations_sf_utm10 = st_transform(bart_stations_sf, crs=26910)\n",
                "# subset to berkeley\n",
                "berkeley_bart = st_intersection(bart_stations_sf_utm10, berkeley_utm10)\n"
            ]
        },
        {
            "cell_type": "markdown",
            "metadata": {},
            "source": "\n"
        },
        {
            "cell_type": "code",
            "execution_count": null,
            "metadata": {},
            "outputs": [],
            "source": [
                "# YOUR CODE HERE:\n",
                "\n"
            ]
        },
        {
            "cell_type": "markdown",
            "metadata": {},
            "source": [
                "## Solution hidden here!\n",
                "\n",
                "<!--\n",
                "\n",
                "# SOLUTION\n",
                "\n",
                "# buffer the BART stations to 1 km\n",
                "bart_buf = st_buffer(berkeley_bart, 1000)\n",
                "# get schools within the buffers\n",
                "bart_schools = st_intersection(berkeley_schools, bart_buf)\n",
                "\n",
                "# plot the Berkeley boundary (for reference)\n",
                "tm_shape(berkeley_utm10) + \n",
                "  tm_polygons(col='lightgrey') + \n",
                "# plot the BART stations (for reference)\n",
                "tm_shape(berkeley_bart) + \n",
                "  tm_dots(col='green', size=.1) + \n",
                "# add the BART buffers (for check)\n",
                "tm_shape(bart_buf) + \n",
                "  tm_borders(col='lightgreen') + \n",
                "# add all Berkeley schools (for reference)\n",
                "tm_shape(berkeley_schools) + \n",
                "  tm_dots(col='black', size=.1) + \n",
                "# add the schools near BART (for check)\n",
                "tm_shape(bart_schools) + \n",
                "  tm_dots(col='yellow', size=0.25)\n",
                "\n",
                "-->\n",
                "\n",
                "----------------------------------\n",
                "\n",
                "## 6.4 Recap\n",
                "Leveraging what we've learned in our earlier lessons, we got to work with map overlays and start answering questions related to proximity. Key concepts include:\n",
                "\n",
                "- Measuring area and length\n",
                "\t- `st_area`, \n",
                "\t- `st_length`\n",
                "- Relationship Queries\n",
                "\t- `st_intersects`, `st_intersection`\n",
                "\t- `st_within`, etc.\n",
                "- Buffer analysis\n",
                "\t- `st_buffer`\n",
                "\t- `st_distance`\n",
                "\n",
                "---\n",
                "<div style=\"display:inline-block;vertical-align:middle;\">\n",
                "<a href=\"https://dlab.berkeley.edu/\" target=\"_blank\"><img src =\"assets/images/dlab_logo.png\" width=\"75\" align=\"left\">\n",
                "<\/a>\n",
                "<\/div>\n",
                "\n",
                "<div style=\"display:inline-block;vertical-align:middle;\">\n",
                "<div style=\"font-size:larger\">&nbsp;D-Lab @ University of California - Berkeley<\/div>\n",
                "<div>&nbsp;Team Geo<div>\n",
                "<\/div>\n",
                "        \n"
            ]
        }
    ],
    "metadata": {
        "anaconda-cloud": "",
        "kernelspec": {
            "display_name": "R",
            "langauge": "R",
            "name": "ir"
        },
        "language_info": {
            "codemirror_mode": "r",
            "file_extension": ".r",
            "mimetype": "text/x-r-source",
            "name": "R",
            "pygments_lexer": "r",
            "version": "3.4.1"
        }
    },
    "nbformat": 4,
    "nbformat_minor": 1
}
