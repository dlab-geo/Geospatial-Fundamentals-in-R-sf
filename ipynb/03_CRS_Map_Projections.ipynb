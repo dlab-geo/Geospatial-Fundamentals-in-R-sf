{
 "cells": [
  {
   "cell_type": "markdown",
   "metadata": {},
   "source": [
    "# Lesson 3. Coordinate Reference Systems (CRS) & Map Projections\n",
    "\n",
    "Building off of what we learned in the previous notebook, we'll get to understand an integral aspect of geospatial data: Coordinate Reference Systems.\n",
    "\n",
    "- 3.1 California County Shapefile\n",
    "- 3.2 USA State Shapefile\n",
    "- 3.3 Plot the Two Together\n",
    "- 3.4 Coordinate Reference System (CRS)\n",
    "- 3.5 Getting the CRS\n",
    "- 3.6 Setting the CRS\n",
    "- 3.7 Transforming or Reprojecting the CRS\n",
    "- 3.8 Plotting States and Counties Togther\n",
    "- 3.9 Recap\n",
    "- **Exercise**: CRS Management\n",
    "\n",
    "<br>\n",
    "<font color='grey'>\n",
    "    <b>Instructor Notes</b>\n",
    "\n",
    "- Datasets used\n",
    "    - ‘notebook_data/california_counties/CaliforniaCounties.shp’\n",
    "    - ‘notebook_data/us_states/us_states.shp’\n",
    "    - ‘notebook_data/census/Places/cb_2018_06_place_500k.zip’\n",
    "\n",
    "- Expected time to complete\n",
    "    - Lecture + Questions: 45 minutes\n",
    "    - Exercises: 10 minutes\n",
    "</font>\n",
    "\n",
    "### Import Libraries\n"
   ]
  },
  {
   "cell_type": "code",
   "execution_count": null,
   "metadata": {},
   "outputs": [],
   "source": [
    "library(sf)\n",
    "library(tmap)\n"
   ]
  },
  {
   "cell_type": "markdown",
   "metadata": {},
   "source": [
    "## 3.1 California County shapefile\n",
    "Let's go ahead and bring back in our California County shapefile. As before, we can read the file in using `st_read` and plot it straight away.\n"
   ]
  },
  {
   "cell_type": "code",
   "execution_count": null,
   "metadata": {},
   "outputs": [],
   "source": [
    "counties = st_read('notebook_data/california_counties/CaliforniaCounties.shp')\n",
    "plot(counties$geometry, col='darkgreen')\n"
   ]
  },
  {
   "cell_type": "markdown",
   "metadata": {},
   "source": [
    "Even if we have an awesome map like this, sometimes we want to have more geographical context, or we just want additional information. We're going to try **overlaying** our counties `sf` data.frame on our USA states shapefile.\n",
    "\n",
    "## 3.2 USA State shapefile\n",
    "\n",
    "We're going to bring in our states geodataframe, and let's do the usual operations to start exploring our data.\n"
   ]
  },
  {
   "cell_type": "code",
   "execution_count": null,
   "metadata": {},
   "outputs": [],
   "source": [
    "# Read in states shapefile\n",
    "states = st_read('notebook_data/us_states/us_states.shp')\n"
   ]
  },
  {
   "cell_type": "markdown",
   "metadata": {},
   "source": [
    "\n"
   ]
  },
  {
   "cell_type": "code",
   "execution_count": null,
   "metadata": {},
   "outputs": [],
   "source": [
    "# Look at the first few rows\n",
    "head(states)\n"
   ]
  },
  {
   "cell_type": "markdown",
   "metadata": {},
   "source": [
    "\n"
   ]
  },
  {
   "cell_type": "code",
   "execution_count": null,
   "metadata": {},
   "outputs": [],
   "source": [
    "# Count how many rows and columns we have\n",
    "dim(states)\n"
   ]
  },
  {
   "cell_type": "markdown",
   "metadata": {},
   "source": [
    "\n"
   ]
  },
  {
   "cell_type": "code",
   "execution_count": null,
   "metadata": {},
   "outputs": [],
   "source": [
    "# Plot our states data\n",
    "plot(states['STATE'])\n"
   ]
  },
  {
   "cell_type": "markdown",
   "metadata": {},
   "source": [
    "You might have noticed that our plot extends beyond the 50 states. Let's double check what states we have included in our data.\n",
    "\n"
   ]
  },
  {
   "cell_type": "code",
   "execution_count": null,
   "metadata": {},
   "outputs": [],
   "source": [
    "states$STATE\n",
    "\n"
   ]
  },
  {
   "cell_type": "markdown",
   "metadata": {},
   "source": [
    "Beyond the 50 states we seem to have American Samoa, Puerto Rico, Guam, Commonwealth of the Northern Mariana Islands, and United States Virgin Islands included in this geodataframe. To make our map cleaner, let's limit the states to the contiguous states (so we'll also exclude Alaska and Hawaii).\n",
    "\n"
   ]
  },
  {
   "cell_type": "code",
   "execution_count": null,
   "metadata": {},
   "outputs": [],
   "source": [
    "# Define list of non-contiguous states\n",
    "non_contiguous_us = c('American Samoa','Puerto Rico','Guam',\n",
    "                      'Commonwealth of the Northern Mariana Islands',\n",
    "                      'United States Virgin Islands', 'Alaska','Hawaii')\n",
    "# Limit data according to above list\n",
    "states_limited = states[!states$STATE %in% non_contiguous_us, ]\n"
   ]
  },
  {
   "cell_type": "markdown",
   "metadata": {},
   "source": [
    "\n"
   ]
  },
  {
   "cell_type": "code",
   "execution_count": null,
   "metadata": {},
   "outputs": [],
   "source": [
    "# Plot it\n",
    "plot(states_limited['STATE'])\n"
   ]
  },
  {
   "cell_type": "markdown",
   "metadata": {},
   "source": [
    "To prepare for our mapping overlay, let's make our states a nice, light grey color.\n",
    "\n"
   ]
  },
  {
   "cell_type": "code",
   "execution_count": null,
   "metadata": {},
   "outputs": [],
   "source": [
    "plot(states_limited$geometry, col='lightgrey')\n",
    "\n"
   ]
  },
  {
   "cell_type": "markdown",
   "metadata": {},
   "source": [
    "## 3.3 Plot the two together\n",
    "\n",
    "Now that we have both geodataframes in our environment, we can plot both in the same figure.\n",
    "\n",
    "**NOTE**: Once we've created a plot (using base R's `plot` function), we can add more layers to it by calling subsequent `plot` commands and adding the argument `add=T`.\n"
   ]
  },
  {
   "cell_type": "code",
   "execution_count": null,
   "metadata": {},
   "outputs": [],
   "source": [
    "plot(counties$geometry, col='darkgreen')\n",
    "plot(states_limited$geometry, col='lightgrey', add=T)\n"
   ]
  },
  {
   "cell_type": "markdown",
   "metadata": {},
   "source": [
    "Oh no, what happened here? Where's our CA data?\n",
    "\n",
    "<img src=\"http://www.pngall.com/wp-content/uploads/2016/03/Light-Bulb-Free-PNG-Image.png\" width=\"20\" align=left >  **Question** Without looking ahead, what do you think happened?\n",
    "\n",
    "\n",
    "\n",
    "<br>\n",
    "<br>\n",
    "If you look at the coordinate values associated with the polygons in our two datasets, you'll see that the county data has much larger-magnitude numbers than our states data. It's represented in some different type of unit other than decimal degrees!\n"
   ]
  },
  {
   "cell_type": "code",
   "execution_count": null,
   "metadata": {},
   "outputs": [],
   "source": [
    "print(counties$geometry[[1]])\n",
    "\n"
   ]
  },
  {
   "cell_type": "markdown",
   "metadata": {},
   "source": [
    "\n"
   ]
  },
  {
   "cell_type": "code",
   "execution_count": null,
   "metadata": {},
   "outputs": [],
   "source": [
    "print(states_limited$geometry[[1]])\n",
    "\n"
   ]
  },
  {
   "cell_type": "markdown",
   "metadata": {},
   "source": [
    "In fact, that means if we zoom in really close into our plot we'll probably see the states data plotted.\n",
    "\n",
    "Let's do this by limiting the extent of our plot using `xlim` and `ylim` arguments.\n"
   ]
  },
  {
   "cell_type": "code",
   "execution_count": null,
   "metadata": {},
   "outputs": [],
   "source": [
    "plot(counties$geometry, col='darkgreen', xlim = c(-140,-50), ylim = c(20,50))\n",
    "plot(states_limited$geometry, col='lightgrey', add=T)\n"
   ]
  },
  {
   "cell_type": "markdown",
   "metadata": {},
   "source": [
    "This is a key issue that you'll have to resolve time and time again when working with geospatial data!\n",
    "\n",
    "It all revolves around **coordinate reference systems** and **projections**.\n",
    "\n",
    "----------------------------\n",
    "\n",
    "## 3.4 Coordinate Reference Systems (CRS)\n",
    "\n",
    "<img src=\"http://www.pngall.com/wp-content/uploads/2016/03/Light-Bulb-Free-PNG-Image.png\" width=\"20\" align=left >  **Question** Do you have experience with Coordinate Reference Systems?\n",
    "\n",
    "\n",
    "<br><br>As a refresher, a CRS describes how the coordinates in a geospatial dataset relate to locations on the surface of the earth. \n",
    "\n",
    "A `geographic CRS` consists of: \n",
    "- a 3D model of the shape of the earth (a **datum**), approximated as a sphere or spheroid (aka ellipsoid)\n",
    "- the **units** of the coordinate system (e.g, decimal degrees, meters, feet) and \n",
    "- the **origin** (i.e. the 0,0 location), specified as the meeting of the **equator** and the **prime meridian** \n",
    "\n",
    "A `projected CRS` consists of\n",
    "- a geographic CRS\n",
    "- a **map projection** and related parameters used to transform the geographic coordinates to `2D` space.\n",
    "  - a map projection is a mathematical model used to transform coordinate data\n",
    "\n",
    "### A Geographic vs Projected CRS\n",
    "<img src =\"https://www.e-education.psu.edu/natureofgeoinfo/sites/www.e-education.psu.edu.natureofgeoinfo/files/image/projection.gif\" height=\"100\" width=\"500\">\n",
    "\n",
    "#### There are many, many CRSs\n",
    "\n",
    "Theoretically the number of CRSs is unlimited!\n",
    "\n",
    "Why? Primariy, because there are many different definitions of the shape of the earth, multiplied by many different ways to cast its surface into 2 dimensions. Our understanding of the earth's shape and our ability to measure it has changed greatly over time.\n",
    "\n",
    "#### Why are CRSs Important?\n",
    "\n",
    "- You need to know the data about your data (or `metadata`) to use it appropriately.\n",
    "\n",
    "\n",
    "- All projected CRSs introduce distortion in shape, area, and/or distance. So understanding what CRS best maintains the characteristics you need for your area of interest and your analysis is important.\n",
    "\n",
    "\n",
    "- Some analysis methods expect geospatial data to be in a projected CRS\n",
    "\n",
    "- Some R packages, but not all, implement dynamic reprojection from the input CRS to the required CRS and assume a specific CRS (WGS84) when a CRS is not explicitly defined.\n",
    "\n",
    "\n",
    "- Most R spatial libraries, including `sf`, require geospatial data to be in the same CRS if they are being analysed together.\n",
    "\n",
    "#### What you need to know when working with CRSs\n",
    "\n",
    "- What CRSs used in your study area and their main characteristics\n",
    "- How to identify, or `get`, the CRS of a geodataframe\n",
    "- How to `set` the CRS of geodataframe (i.e. define the projection)\n",
    "- Hot to `transform` the CRS of a geodataframe (i.e. reproject the data)\n",
    "\n",
    "### Codes for CRSs commonly used with CA data\n",
    "\n",
    "CRSs are typically referenced by an [EPSG code](http://wiki.gis.com/wiki/index.php/European_Petroleum_Survey_Group).  \n",
    "\n",
    "It's important to know the commonly used CRSs and their EPSG codes for your geographic area of interest.  \n",
    "\n",
    "For example, below is a list of commonly used CRSs for California geospatial data along with their EPSG codes.\n",
    "\n",
    "##### Geographic CRSs\n",
    "-`4326: WGS84` (units decimal degrees) - the most commonly used geographic CRS\n",
    "\n",
    "-`4269: NAD83` (units decimal degrees) - the geographic CRS customized to best fit the USA. This is used by all Census geographic data.\n",
    "\n",
    ">  `NAD83 (epsg:4269)` are approximately the same as `WGS84(epsg:4326)` although locations can differ by up to 1 meter in the continental USA and elsewhere up to 3m. That is not a big issue with census tract data as these data are only accurate within +/-7meters.\n",
    "\n",
    "\n",
    "##### Projected CRSs\n",
    "\n",
    "-`5070: CONUS NAD83` (units meters) projected CRS for mapping the entire contiguous USA (CONUS)\n",
    "\n",
    "-`3857: Web Mercator` (units meters) conformal (shape preserving) CRS used as the default in web mapping\n",
    "\n",
    "-`3310: CA Albers Equal Area, NAD83` (units meters)  projected CRS for CA statewide mapping and spatial analysis\n",
    "\n",
    "-`26910: UTM Zone 10N, NAD83` (units meters) projected CRS for northern CA mapping & analysis\n",
    "\n",
    "-`26911: UTM Zone 11N, NAD83` (units meters) projected CRS for Southern CA mapping & analysis\n",
    "\n",
    "-`102641 to 102646: CA State Plane zones 1-6, NAD83` (units feet) projected CRS used for local analysis.\n",
    "\n",
    "You can find the full CRS details on the website https://www.spatialreference.org\n",
    "\n",
    "## 3.5 Getting the CRS\n",
    "\n",
    "### Getting the CRS of an `sf` data.frame\n",
    "\n",
    "`sf` data.frames have CRS metadata. It can be accessed using the `st_crs` function.\n"
   ]
  },
  {
   "cell_type": "code",
   "execution_count": null,
   "metadata": {},
   "outputs": [],
   "source": [
    "st_crs(counties)\n",
    "\n"
   ]
  },
  {
   "cell_type": "markdown",
   "metadata": {},
   "source": [
    "\n"
   ]
  },
  {
   "cell_type": "code",
   "execution_count": null,
   "metadata": {},
   "outputs": [],
   "source": [
    "st_crs(states_limited)\n",
    "\n"
   ]
  },
  {
   "cell_type": "markdown",
   "metadata": {},
   "source": [
    "As we can clearly see from those two printouts (even if we don't understand all the content!),\n",
    "the CRSs of our two datasets are different! **This explains why we couldn't overlay them correctly!**\n",
    "\n",
    "\n",
    "The above CRS definition specifies a bunch of information, including:\n",
    "\n",
    "- the name of the CRS (`WGS84`), \n",
    "- the axis units (`degree`)\n",
    "- the shape (`datum`),\n",
    "- and the origin (`Prime Meridian`, and the equator)\n",
    "- and the area for which it is best suited (`World`)\n",
    "\n",
    "> Notes:\n",
    ">\n",
    ">    - `geocentric` latitude and longitude assume a spherical (round) model of the shape of the earth\n",
    ">    - `geodetic` latitude and longitude assume a spheriodal (ellipsoidal) model, which is closer to the true shape.\n",
    ">    - `geodesy` is the study of the shape of the earth.\n",
    "\n",
    "## 3.6 Setting the CRS\n",
    "\n",
    "You can also set the CRS of a gdf using the same `st_crs` function, but feeding a value into it.  You would only set the CRS if is not defined or if you think it is incorrectly defined.\n",
    "\n",
    "> In desktop GIS terminology setting the CRS is called **defining the CRS**\n",
    "\n",
    "As an example, we could try to set the CRS of our data to EPSG code 26910 (UTM Zone 10 N, NAD83 datum).\n",
    "\n",
    "Note that `sf` lets us specify CRSs using just the EPSG codes as R integers!\n"
   ]
  },
  {
   "cell_type": "code",
   "execution_count": null,
   "metadata": {},
   "outputs": [],
   "source": [
    "# first set the CRS to None\n",
    "st_crs(states_limited) = 26910\n"
   ]
  },
  {
   "cell_type": "markdown",
   "metadata": {},
   "source": [
    "See that warning message? That's telling us that changing the CRS of a dataset by just replacing the current value using `st_crs` does not actually reproject data.\n",
    "\n",
    "**THIS IS REALLY IMPORTANT!** If we want to reproject a dataset (to reconcile its CRS with that of another dataset, for example), then this is **NOT THE WAY TO DO IT!** \n",
    "\n",
    "We'll see how to correctly reproject a dataset in just a second. In the meantime, **we'd better undo what we just did!**\n"
   ]
  },
  {
   "cell_type": "code",
   "execution_count": null,
   "metadata": {},
   "outputs": [],
   "source": [
    "st_crs(states_limited) = st_crs(states)\n",
    "\n"
   ]
  },
  {
   "cell_type": "markdown",
   "metadata": {},
   "source": [
    "\n"
   ]
  },
  {
   "cell_type": "code",
   "execution_count": null,
   "metadata": {},
   "outputs": [],
   "source": [
    "# Check it again\n",
    "st_crs(states_limited)\n"
   ]
  },
  {
   "cell_type": "markdown",
   "metadata": {},
   "source": [
    "## PHEW! Okay! ... Never do that again! :)\n",
    "\n",
    "## 3.7 Transforming or Reprojecting the CRS\n",
    "You can transform the CRS of a geodataframe with the `st_transform` function.\n",
    "\n",
    "\n",
    "> In desktop GIS terminology transforming the CRS is called **projecting the data** (or **reprojecting the data**)\n",
    "\n",
    "When you do this you'll want to save the output to a new `sf` data.frame.\n"
   ]
  },
  {
   "cell_type": "code",
   "execution_count": null,
   "metadata": {},
   "outputs": [],
   "source": [
    "states_limited_utm10 = st_transform(states_limited, crs=26910)\n",
    "\n"
   ]
  },
  {
   "cell_type": "markdown",
   "metadata": {},
   "source": [
    "Now take a look at the CRS.\n",
    "\n"
   ]
  },
  {
   "cell_type": "code",
   "execution_count": null,
   "metadata": {},
   "outputs": [],
   "source": [
    "st_crs(states_limited_utm10)\n",
    "\n"
   ]
  },
  {
   "cell_type": "markdown",
   "metadata": {},
   "source": [
    "You can see the result immediately by plotting the data.\n",
    "\n"
   ]
  },
  {
   "cell_type": "code",
   "execution_count": null,
   "metadata": {},
   "outputs": [],
   "source": [
    "par(mfrow=c(1,2))\n",
    "\n",
    "# plot geographic sf data.frame\n",
    "plot(states_limited$geometry, asp=1)\n",
    "\n",
    "# plot utm sf data.frame\n",
    "plot(states_limited_utm10$geometry, asp=1)\n"
   ]
  },
  {
   "cell_type": "markdown",
   "metadata": {},
   "source": [
    "\n"
   ]
  },
  {
   "cell_type": "code",
   "execution_count": null,
   "metadata": {},
   "outputs": [],
   "source": [
    "# Your thoughts here\n",
    "\n"
   ]
  },
  {
   "cell_type": "markdown",
   "metadata": {},
   "source": [
    "<img src=\"http://www.pngall.com/wp-content/uploads/2016/03/Light-Bulb-Free-PNG-Image.png\" width=\"20\" align=left >  **Question**\n",
    "\n",
    "1. What two key differences do you see between the two plots above?\n",
    "2. Do either of these plotted USA maps look good?\n",
    "3. Try looking at the common CRS EPSG codes above and see if any of them look better for the whole country than what we have now. Then try transforming the states data to the CRS that you think would be best and plotting it. (Use the code cell two cells below.)\n"
   ]
  },
  {
   "cell_type": "code",
   "execution_count": null,
   "metadata": {},
   "outputs": [],
   "source": [
    "# YOUR CODE HERE\n",
    "\n"
   ]
  },
  {
   "cell_type": "markdown",
   "metadata": {},
   "source": [
    "## Solution hidden here!\n",
    "\n",
    "<!--\n",
    "#SOLUTION \n",
    "states_limited_conus = st_transform(states_limited, crs=5070)\n",
    "plot(states_limited_conus$geometry, asp=1);\n",
    "-->\n",
    "\n",
    "## 3.8 Plotting states and counties together\n",
    "\n",
    "Now that we know what a CRS is and how we can set them, let's convert our counties `sf` data.frame to match up with out states' CRS.\n"
   ]
  },
  {
   "cell_type": "code",
   "execution_count": null,
   "metadata": {},
   "outputs": [],
   "source": [
    "# Convert counties data to UTM 10N, NAD83\n",
    "counties_utm10 = st_transform(counties, crs = 26910)\n"
   ]
  },
  {
   "cell_type": "markdown",
   "metadata": {},
   "source": [
    "\n"
   ]
  },
  {
   "cell_type": "code",
   "execution_count": null,
   "metadata": {},
   "outputs": [],
   "source": [
    "plot(counties_utm10$geometry)\n",
    "\n"
   ]
  },
  {
   "cell_type": "markdown",
   "metadata": {},
   "source": [
    "\n"
   ]
  },
  {
   "cell_type": "code",
   "execution_count": null,
   "metadata": {},
   "outputs": [],
   "source": [
    "# Plot it together!\n",
    "plot(states_limited_utm10$geometry, col = 'lightgrey')\n",
    "plot(counties_utm10$geometry, col='darkgreen', add=T)\n"
   ]
  },
  {
   "cell_type": "markdown",
   "metadata": {},
   "source": [
    "Since we know that the best CRS to plot the contiguous US from the above question is 5070, let's also transform and plot everything in that CRS.\n",
    "\n"
   ]
  },
  {
   "cell_type": "code",
   "execution_count": null,
   "metadata": {},
   "outputs": [],
   "source": [
    "counties_conus = st_transform(counties, crs = 5070)\n",
    "\n"
   ]
  },
  {
   "cell_type": "markdown",
   "metadata": {},
   "source": [
    "\n"
   ]
  },
  {
   "cell_type": "code",
   "execution_count": null,
   "metadata": {},
   "outputs": [],
   "source": [
    "plot(states_limited_conus$geometry, col = 'lightgrey')\n",
    "plot(counties_conus$geometry, col = 'darkgreen', add=T)\n"
   ]
  },
  {
   "cell_type": "markdown",
   "metadata": {},
   "source": [
    "### Overlay maps in `tmap`\n",
    "\n",
    "<br>\n",
    "\n",
    "<img src=\"http://www.pngall.com/wp-content/uploads/2016/03/Light-Bulb-Free-PNG-Image.png\" width=\"20\" align=left >  **Question**\n",
    "\n",
    "You may have noticed that we have not used `tmap` to create any of the overlay maps in this notebook. \"Why?\", you might ask.\n",
    "\n",
    "Check out the code below, then decide whether `tmap` would be a good choice for visually checking whether two datasets have their CRSs correctly reconciled, and why or why not.\n"
   ]
  },
  {
   "cell_type": "code",
   "execution_count": null,
   "metadata": {},
   "outputs": [],
   "source": [
    "print('EPSG CODE, states_limited_utm10')\n",
    "st_crs(states_limited_utm10)$epsg\n",
    "print('EPSG CODE, counties_conus')\n",
    "st_crs(counties_conus)$epsg\n"
   ]
  },
  {
   "cell_type": "markdown",
   "metadata": {},
   "source": [
    "\n"
   ]
  },
  {
   "cell_type": "code",
   "execution_count": null,
   "metadata": {},
   "outputs": [],
   "source": [
    "tm_shape(states_limited_utm10) +\n",
    "  tm_polygons(col='lightgrey') +\n",
    "tm_shape(counties_conus) +\n",
    "  tm_polygons(col='darkgreen')\n"
   ]
  },
  {
   "cell_type": "markdown",
   "metadata": {},
   "source": [
    "`tmap` is such a wonderful, high-level package that it automatically reprojects all of a map's layers on the fly before mapping them!\n",
    "\n",
    "This is a really handy feature, but it means that `tmap` is not useful for visually checking that we have successfully aligned our datasets!\n",
    "\n",
    "## 3.9 Recap\n",
    "\n",
    "In this lesson we learned about...\n",
    "\n",
    "- Coordinate Reference Systems \n",
    "\n",
    "- Getting the CRS of a geodataframe\n",
    "    - `st_crs`\n",
    "    \n",
    "- Transforming/repojecting CRS\n",
    "    - `st_transform`\n",
    "    \n",
    "- Overlaying maps\n",
    "\n",
    "## Exercise: CRS Management\n",
    "\n",
    "Now it's time to take a crack and managing the CRS of a new dataset. In the code cell below, write code to:\n",
    "\n",
    "1. Bring in the CA places data (`notebook_data/census/Places/cb_2018_06_place_500k.zip`)\n",
    "2. Check if the CRS is EPSG code 26910. If not, transform the CRS\n",
    "3. Plot the California counties and places together.\n",
    "\n",
    "To see the solution, look at the hidden text below.\n"
   ]
  },
  {
   "cell_type": "code",
   "execution_count": null,
   "metadata": {},
   "outputs": [],
   "source": [
    "# YOUR CODE HERE\n",
    "\n"
   ]
  },
  {
   "cell_type": "markdown",
   "metadata": {},
   "source": [
    "## Solution hidden here!\n",
    "\n",
    "<!--\n",
    "\n",
    "# SOLUTION\n",
    "\n",
    "# 1. Bring in the CA places data\n",
    "california_places = st_read('notebook_data/census/Places/cb_2018_06_place_500k.shp')\n",
    "head(california_places)\n",
    "\n",
    "# 2. Check and transorm the CRS if needed\n",
    "st_crs(california_places)\n",
    "california_places_utm10 = st_transform(california_places, crs = 26910)\n",
    "\n",
    "# 3. Plot the California counties and places together\n",
    "plot(counties_utm10$geometry, col='lightgrey')\n",
    "plot(california_places_utm10$geometry, col='purple',add = T)\n",
    "\n",
    "-->\n",
    "\n",
    "---\n",
    "<div style=\"display:inline-block;vertical-align:middle;\">\n",
    "<a href=\"https://dlab.berkeley.edu/\" target=\"_blank\"><img src =\"assets/images/dlab_logo.png\" width=\"75\" align=\"left\">\n",
    "</a>\n",
    "</div>\n",
    "\n",
    "<div style=\"display:inline-block;vertical-align:middle;\">\n",
    "<div style=\"font-size:larger\">&nbsp;D-Lab @ University of California - Berkeley</div>\n",
    "<div>&nbsp;Team Geo<div>\n",
    "</div>\n",
    "        \n"
   ]
  }
 ],
 "metadata": {
  "anaconda-cloud": "",
  "kernelspec": {
   "display_name": "R",
   "language": "R",
   "name": "ir"
  },
  "language_info": {
   "codemirror_mode": "r",
   "file_extension": ".r",
   "mimetype": "text/x-r-source",
   "name": "R",
   "pygments_lexer": "r",
   "version": "4.0.3"
  }
 },
 "nbformat": 4,
 "nbformat_minor": 1
}
