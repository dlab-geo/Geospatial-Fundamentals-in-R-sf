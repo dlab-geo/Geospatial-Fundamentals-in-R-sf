{
 "cells": [
  {
   "cell_type": "markdown",
   "metadata": {},
   "source": [
    "# Lesson 2. Introduction to the `sf` package\n",
    "\n",
    "In this lesson we'll learn about `sf`, the package that is core to using geospatial data in R. We'll go through the structure of the data (it's not too different from regular data.frames!), geometries, shapefiles, and how to save your hard work.\n",
    "\n",
    "- 2.1 What is the `sf` package?\n",
    "- 2.2 Read in a shapefile\n",
    "- 2.3 Explore the `sf` object\n",
    "- 2.4 Plot the `sf` object\n",
    "- 2.5 Subset the `sf` object\n",
    "- 2.6 Save your data\n",
    "- 2.7 Recap\n",
    "- **Exercise**: IO, Manipulation, and Mapping\n",
    "\n",
    "<br>\n",
    "<font color='grey'>\n",
    "    <b>Instructor Notes</b>\n",
    "\n",
    "- Datasets used\n",
    "    - 'notebook_data/california_counties/CaliforniaCounties.shp'\n",
    "    - 'notebook_data/census/Places/cb_2018_06_place_500k.zip'\n",
    "\n",
    "- Expected time to complete\n",
    "    - Lecture + Questions: 30 minutes\n",
    "    - Exercises: 5 minutes\n",
    "</font>\n",
    "\n",
    "## 2.1 What is `sf`?\n",
    "\n",
    "### `sf` and related geospatial packages\n",
    "\n",
    "[`sf`](https://r-spatial.github.io/sf/) is a relatively new package that makes it easier to work with geospatial data in R. In the last few years it has grown more powerful and stable. This is really great because the previous means of working with geospatial data in R (the `sp` package) was more complicated. `sf` is now the go-to package for working with `vector` geospatial data in R. \n",
    "\n",
    "> **Protip**: If you work with `raster` data you will want to checkout the [raster](https://cran.r-project.org/web/packages/raster/index.html) package. We will not cover raster data in this tutorial.\n",
    "\n",
    "### `sf` = <u>s</u>imple <u>f</u>eatures\n",
    "`sf` creates geospatial `data.frame`s that retain all of the functionality of R `data.frame`s, but which are extended with a geometry column and with geospatial metadata, making it easy to process your data using both standard table-based operations and explicitly geospatial operations.\n",
    "\n",
    "\n",
    "\n",
    "### Load `sf`\n",
    "\n",
    "Let's start by loading the `sf` library.\n"
   ]
  },
  {
   "cell_type": "code",
   "execution_count": null,
   "metadata": {},
   "outputs": [],
   "source": [
    "library(sf)\n",
    "\n"
   ]
  },
  {
   "cell_type": "markdown",
   "metadata": {},
   "source": [
    "## 2.2 Read in a shapefile\n",
    "\n",
    "As we discussed in the initial geospatial overview, a *shapefile* is one type of geospatial data that holds vector data. \n",
    "\n",
    "> To learn more about ESRI Shapefiles, this is a good place to start: [ESRI Shapefile Wiki Page](https://en.wikipedia.org/wiki/Shapefile) \n",
    "\n",
    "The tricky thing to remember about shapefiles is that they're actually a collection of 3 to 9+ files together. Here's a list of all the files that can make up a shapefile:\n",
    " \n",
    ">`shp`: The main file that stores the feature geometry\n",
    ">\n",
    ">`shx`: The index file that stores the index of the feature geometry  \n",
    ">\n",
    ">`dbf`: The dBASE table that stores the attribute information of features \n",
    ">\n",
    ">`prj`: The file that stores the coordinate system information. (should be required!)\n",
    ">\n",
    ">`xml`: Metadata —Stores information about the shapefile.\n",
    ">\n",
    ">`cpg`: Specifies the code page for identifying the character set to be used.\n",
    "\n",
    "But it remains the most commonly used file format for vector spatial data, and it's really easy to visualize in one go!\n",
    "\n",
    "Let's try it out with California counties, and use `sf` for the first time. `sf::st_read` is a flexible function that let's you read in many different types of geospatial data.\n"
   ]
  },
  {
   "cell_type": "code",
   "execution_count": null,
   "metadata": {},
   "outputs": [],
   "source": [
    "# Read in the counties shapefile\n",
    "counties = st_read('notebook_data/california_counties/CaliforniaCounties.shp')\n"
   ]
  },
  {
   "cell_type": "markdown",
   "metadata": {},
   "source": [
    "\n"
   ]
  },
  {
   "cell_type": "code",
   "execution_count": null,
   "metadata": {},
   "outputs": [],
   "source": [
    "# Plot out California counties\n",
    "plot(counties)\n"
   ]
  },
  {
   "cell_type": "markdown",
   "metadata": {},
   "source": [
    "Wow! That gives us a plot grid of up to the first 9 attributes (i.e. columns) in our dataset.\n",
    "\n",
    "And what if we just want to plot a single variable?\n"
   ]
  },
  {
   "cell_type": "code",
   "execution_count": null,
   "metadata": {},
   "outputs": [],
   "source": [
    "plot(counties['MED_AGE_M'])\n",
    "\n"
   ]
  },
  {
   "cell_type": "markdown",
   "metadata": {},
   "source": [
    "Wow! So easy! We just made a **choropleth** map of median male age, by county!\n",
    "\n",
    "We're off to a running start.\n",
    "\n",
    "## 2.3 Explore the `sf data.frame`\n",
    "\n",
    "Before we get in too deep, let's discuss what a `sf data.frame` is, and how it's different from a plain `data.frame`.\n",
    "\n",
    "### The `sf data.frame`\n",
    "\n",
    "An `sf data.frame`, a.k.a. an `sf` object, is just like a plain `data.frame`, but with an extra geometry column. The `sf` package then has a variety of geospatial functions that use that geometry column. \n",
    "\n",
    "I repeat because it's important:\n",
    "\n",
    "> `An sf object is a plain data.frame with a geometry column added.`\n",
    "\n",
    "> This means all the normal operations that we can run on `data.frame`s will also work on `sf` objects!\n",
    "\n",
    "With that in mind, let's start exploring our `sf` object just like we would a dataset in a plain `data.frame`.\n"
   ]
  },
  {
   "cell_type": "code",
   "execution_count": null,
   "metadata": {},
   "outputs": [],
   "source": [
    "# Find the number of rows and columnds in counties\n",
    "dim(counties)\n"
   ]
  },
  {
   "cell_type": "markdown",
   "metadata": {},
   "source": [
    "\n"
   ]
  },
  {
   "cell_type": "code",
   "execution_count": null,
   "metadata": {},
   "outputs": [],
   "source": [
    "# Look at the first couple of rows in our sf object\n",
    "head(counties)\n"
   ]
  },
  {
   "cell_type": "markdown",
   "metadata": {},
   "source": [
    "\n"
   ]
  },
  {
   "cell_type": "code",
   "execution_count": null,
   "metadata": {},
   "outputs": [],
   "source": [
    "# Look at all the variables included in our data\n",
    "colnames(counties)\n"
   ]
  },
  {
   "cell_type": "markdown",
   "metadata": {},
   "source": [
    "It looks like we have a good amount of information about the total population for different years and the densities, as well as race, age, and occupancy info.\n",
    "\n",
    "## 2.4 Plotting `sf` objects\n",
    "\n",
    "We're able to map our `sf` object because of the extra `geometry` column.\n",
    "\n",
    "### `sf` Geometries\n",
    "There are three main types of geometries that can be associated with your `sf` object: points, lines and polygons:\n",
    "\n",
    "<img src =\"https://datacarpentry.org/organization-geospatial/fig/dc-spatial-vector/pnt_line_poly.png\" width=\"450\"></img>\n",
    "\n",
    "In an `sf data.frame` these geometries are encoded in a format known as [Well-Known Text (WKT)](https://en.wikipedia.org/wiki/Well-known_text_representation_of_geometry). For example:\n",
    "\n",
    "> - POINT (30 10)\n",
    "> - LINESTRING (30 10, 10 30, 40 40)\n",
    "> - POLYGON ((30 10, 40 40, 20 40, 10 20, 30 10))\n",
    ">\n",
    "> *where coordinates are separated by a space and coordinate pairs by a comma*\n",
    "\n",
    "Your `sf` object may also include the variants **multipoints, multilines, and multipolgyons** if some of the features are composed multiple parts. For example, if we had data representing US states (one per row), we could use a POLYGON geometry for states like Utah or Colorado, but would need a MULTIPOLYGON for states like Hawaii, which includes many islands.\n",
    "\n",
    "\n",
    "<img src=\"http://www.pngall.com/wp-content/uploads/2016/03/Light-Bulb-Free-PNG-Image.png\" width=\"20\" align=left >  **Question** What kind of geometry would a roads `sf` object have? What about one that includes landmarks in the San Francisco Bay Area?\n",
    "\n",
    "\n",
    "\n",
    "\n",
    "Just like with other plots we can make in R, we can start customizing our maps' colors, title, etc.\n",
    "\n",
    "The most rudimentary way to do this would be to use base R's `plot` function to plot our `sf` objects geometries.\n"
   ]
  },
  {
   "cell_type": "code",
   "execution_count": null,
   "metadata": {},
   "outputs": [],
   "source": [
    "# Plot our geometries, coloring them pale, with dark green borders\n",
    "plot(counties$geometry, col='tan', border='darkgreen', main=\"CA counties\")\n"
   ]
  },
  {
   "cell_type": "markdown",
   "metadata": {},
   "source": [
    "However, we'll get much more customizability if we use a special-purpose mapping package, rather than just relying on `sf` methods of base R functions.\n",
    "\n",
    "Our go-to mapping package of choice will be [`tmap`](https://github.com/mtennekes/tmap). Its name stands for \"thematic maps\", i.e. maps in which we use dimensions of our dataset to control the visualization parameters of our maps, thus creating effective data visualizations. \n",
    "\n",
    "You'll get plenty of introduction here in the workshop, but for additional support you can check out the [tmap vignette](https://cran.r-project.org/web/packages/tmap/vignettes/tmap-getstarted.html) or Google other tutorials and references.\n",
    "\n",
    "Let's start by loading the package and creating a 'quick tmap'.\n"
   ]
  },
  {
   "cell_type": "code",
   "execution_count": null,
   "metadata": {},
   "outputs": [],
   "source": [
    "# load tmap\n",
    "library(tmap)\n",
    "\n",
    "# plot a 'quick tmap'\n",
    "qtm(counties)\n"
   ]
  },
  {
   "cell_type": "markdown",
   "metadata": {},
   "source": [
    "Nice!\n",
    "\n",
    "That's the quickest, simplest example of a static map that `tmap` can make. However, `tmap` has 2 modes:\n",
    "    - 'plot' mode: static maps\n",
    "    - 'view' mode: interactive maps\n",
    "\n",
    "`tmap` loads up in 'plot' mode. Let's switch it to 'view' mode and then take a look at that same map. \n",
    "\n",
    "We could either set the mode explicitly (`tmap_mode('view')`) or just toggle back and forth using the `ttm` ('toggle tmap mode') function. Let's use the latter.\n"
   ]
  },
  {
   "cell_type": "code",
   "execution_count": null,
   "metadata": {},
   "outputs": [],
   "source": [
    "# toggle the mode\n",
    "ttm()\n",
    "# then make our quick tmap again\n",
    "qtm(counties)\n"
   ]
  },
  {
   "cell_type": "markdown",
   "metadata": {},
   "source": [
    "That's outstanding! We get a clickable, scrollable, zoomable map built in Javascript's Leaflet package... right out of the box!\n",
    "\n",
    "And to create thematic maps, we can use `tmap`'s more verbose mapping functions to create a new `tmap` object and then add geometry layers to it, setting different aesthetic aspects of those layers.\n",
    "\n",
    "For now, let's recreate that same map from above, but this time using `tmap` instead of the `sf` method of base R's `plot`.\n"
   ]
  },
  {
   "cell_type": "code",
   "execution_count": null,
   "metadata": {},
   "outputs": [],
   "source": [
    "tm_shape(counties) +  # use the `tm_shape` function to create a tmap object\n",
    "  tm_polygons(col='tan', border.col='darkgreen', # add `tm_polygons` layer, coloring as before, \n",
    "              alpha=0.5) # & making transparent\n"
   ]
  },
  {
   "cell_type": "markdown",
   "metadata": {},
   "source": [
    "Nice! Looks pretty much the same as above, except now it's interactive, and overlaid on a super-sweet basemap!\n",
    "\n",
    "Now we have two mapping methods:\n",
    "    - base R `plot`: nice for simple, pared down plotting tasks\n",
    "    - `tmap`: quick maps, both static and interactive, with greater flexibility\n",
    "\n",
    "## 2.5 Subset the `sf` object\n",
    "\n",
    "Since we'll be focusing on Berkeley later in the workshop, let's subset our `sf` object to just be for Alameda County.\n"
   ]
  },
  {
   "cell_type": "code",
   "execution_count": null,
   "metadata": {},
   "outputs": [],
   "source": [
    "# See the vector of all county names included in our dataset\n",
    "counties$'NAME'\n"
   ]
  },
  {
   "cell_type": "markdown",
   "metadata": {},
   "source": [
    "It looks like Alameda county is specified as \"Alameda\" in this dataset.\n",
    "\n"
   ]
  },
  {
   "cell_type": "code",
   "execution_count": null,
   "metadata": {},
   "outputs": [],
   "source": [
    "counties[counties$NAME == 'Alameda',]\n",
    "\n"
   ]
  },
  {
   "cell_type": "markdown",
   "metadata": {},
   "source": [
    "Now we can create a new `sf` object called `alameda_county` that is a subset of our counties geodataframe.\n",
    "\n"
   ]
  },
  {
   "cell_type": "code",
   "execution_count": null,
   "metadata": {},
   "outputs": [],
   "source": [
    "alameda_county = counties[counties$NAME == 'Alameda',]\n",
    "\n"
   ]
  },
  {
   "cell_type": "markdown",
   "metadata": {},
   "source": [
    "\n"
   ]
  },
  {
   "cell_type": "code",
   "execution_count": null,
   "metadata": {},
   "outputs": [],
   "source": [
    "# Plot our newly subsetted sf object\n",
    "plot(alameda_county$geometry, col='pink', border='green', lwd=5, main='Why not?')\n"
   ]
  },
  {
   "cell_type": "markdown",
   "metadata": {},
   "source": [
    "Nice! Looks like we have what we were looking for.\n",
    "\n",
    "*FYI*: You can also make dynamic plots of one or more county without saving to a new gdf.\n"
   ]
  },
  {
   "cell_type": "code",
   "execution_count": null,
   "metadata": {},
   "outputs": [],
   "source": [
    "bay_area_counties = c('Alameda', 'Contra Costa', 'Marin', 'Napa', 'San Francisco', \n",
    "                      'San Mateo', 'Santa Clara', 'Santa Cruz', 'Solano', 'Sonoma')\n",
    "qtm(counties[counties$NAME %in% bay_area_counties,])\n"
   ]
  },
  {
   "cell_type": "markdown",
   "metadata": {},
   "source": [
    "## 2.6 Save your Data\n",
    "\n",
    "Let's not forget to save out our `alameda_county` object. This way we won't need to repeat the processing steps and attribute join we did above.\n",
    "\n",
    "We can save it as a shapefile.\n"
   ]
  },
  {
   "cell_type": "code",
   "execution_count": null,
   "metadata": {},
   "outputs": [],
   "source": [
    "st_write(alameda_county, \"outdata/alameda_county.shp\", delete_dsn=T)\n",
    "\n"
   ]
  },
  {
   "cell_type": "markdown",
   "metadata": {},
   "source": [
    "One of the problems of saving to a shapefile is that our column names get truncated to 10 characters (a shapefile limitation.) \n",
    "\n",
    "Instead of renaming all columns with obscure names that are less than 10 characters, we can save our `sf` object to a spatial data file format that does not have this limation - [GeoJSON](https://en.wikipedia.org/wiki/GeoJSON) or [GPKG](https://en.wikipedia.org/wiki/GeoPackage) (geopackage) file.\n",
    "- These formats have the added benefit of outputting only one file in contrast tothe multi-file shapefile format.\n"
   ]
  },
  {
   "cell_type": "code",
   "execution_count": null,
   "metadata": {},
   "outputs": [],
   "source": [
    "st_write(alameda_county, \"outdata/alameda_county.json\", driver=\"GeoJSON\", delete_dsn=T)\n",
    "\n"
   ]
  },
  {
   "cell_type": "markdown",
   "metadata": {},
   "source": [
    "\n"
   ]
  },
  {
   "cell_type": "code",
   "execution_count": null,
   "metadata": {},
   "outputs": [],
   "source": [
    "st_write(alameda_county, \"outdata/alameda_county.gpkg\", driver=\"GPKG\", delete_dsn=TRUE)\n",
    "\n"
   ]
  },
  {
   "cell_type": "markdown",
   "metadata": {},
   "source": [
    "You can read these in, just as you would a shapefile, with `st_read`\n",
    "\n"
   ]
  },
  {
   "cell_type": "code",
   "execution_count": null,
   "metadata": {},
   "outputs": [],
   "source": [
    "gpkg_test = st_read(\"outdata/alameda_county.gpkg\")\n",
    "plot(gpkg_test)\n"
   ]
  },
  {
   "cell_type": "markdown",
   "metadata": {},
   "source": [
    "\n"
   ]
  },
  {
   "cell_type": "code",
   "execution_count": null,
   "metadata": {},
   "outputs": [],
   "source": [
    "json_test = st_read(\"outdata/alameda_county.json\")\n",
    "plot(json_test)\n"
   ]
  },
  {
   "cell_type": "markdown",
   "metadata": {},
   "source": [
    "There are also many other formats we could use for data output.\n",
    "\n",
    "**NOTE**: If you're working with point data (i.e. a single latitude and longitude value per feature),\n",
    "then CSV might be a good option!\n",
    "\n",
    "## 2.7 Recap\n",
    "\n",
    "In this lesson we learned about...\n",
    "\n",
    "- The `sf` package \n",
    "- Reading in shapefiles \n",
    "    - `st_read`\n",
    "- `sf` data structures\n",
    "    - `dim`, `head`, `colnames`, `str`\n",
    "- Plotting `sf` objects\n",
    "    - `plot`\n",
    "    - `tmap`\n",
    "- Subsetting `sf` objects\n",
    "    - matrix subsetting syntax\n",
    "- Saving `sf` objects to file\n",
    "    - `st_write`\n",
    "\n",
    "## Exercise: IO, Manipulation, and Mapping\n",
    "\n",
    "Now you'll get a chance to practice the operations we learned above.\n",
    "\n",
    "In the following cell, compose code to:\n",
    "\n",
    "1. Read in the California places data (`notebook_data/census/Places/cb_2018_06_place_500k.shp`)\n",
    "2. Subset the data to Berkeley\n",
    "3. Plot using base R `plot`, and customize as desired\n",
    "4. Save out as a shapefile (`outdata/berkeley_places.shp`)\n",
    "\n",
    "\n",
    "\n",
    "To see the solution, look at the hidden text below.\n"
   ]
  },
  {
   "cell_type": "code",
   "execution_count": null,
   "metadata": {},
   "outputs": [],
   "source": [
    "# YOUR CODE HERE\n",
    "\n"
   ]
  },
  {
   "cell_type": "markdown",
   "metadata": {},
   "source": [
    "## Solution hidden here!\n",
    "\n",
    "<!--\n",
    "# SOLUTION\n",
    "\n",
    "# 1. Read in the California places data \n",
    "california_places = st_read('./notebook_data/census/Places/cb_2018_06_place_500k.shp')\n",
    "head(california_places)\n",
    "\n",
    "# 2. Subset the data to Berkeley\n",
    "berkeley_places = california_places[california_places$NAME=='Berkeley',]\n",
    "\n",
    "# 3. Plot and customize\n",
    "plot(berkeley_places, col='lightgreen', border='grey')\n",
    "\n",
    "# 4. Save to a shapefile\n",
    "st_write(berkeley_places, \"outdata/berkeley_places.shp\")\n",
    "\n",
    "-->\n",
    "\n",
    "---\n",
    "<div style=\"display:inline-block;vertical-align:middle;\">\n",
    "<a href=\"https://dlab.berkeley.edu/\" target=\"_blank\"><img src =\"assets/images/dlab_logo.png\" width=\"75\" align=\"left\">\n",
    "</a>\n",
    "</div>\n",
    "\n",
    "<div style=\"display:inline-block;vertical-align:middle;\">\n",
    "<div style=\"font-size:larger\">&nbsp;D-Lab @ University of California - Berkeley</div>\n",
    "<div>&nbsp;Team Geo<div>\n",
    "</div>\n",
    "        \n"
   ]
  }
 ],
 "metadata": {
  "anaconda-cloud": "",
  "kernelspec": {
   "display_name": "R",
   "language": "R",
   "name": "ir"
  },
  "language_info": {
   "codemirror_mode": "r",
   "file_extension": ".r",
   "mimetype": "text/x-r-source",
   "name": "R",
   "pygments_lexer": "r",
   "version": "4.0.3"
  }
 },
 "nbformat": 4,
 "nbformat_minor": 1
}
