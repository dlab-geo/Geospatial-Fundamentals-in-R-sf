{
 "cells": [
  {
   "cell_type": "markdown",
   "metadata": {},
   "source": [
    "# Lesson 7. Attribute and Spatial Joins\n",
    "\n",
    "Now that we understand the logic of spatial relationship queries,\n",
    "let's take a look at another fundamental spatial operation that relies on them.\n",
    "\n",
    "This operation, called a **spatial join**, is the process by which we can\n",
    "leverage the spatial relationships between distinct datasets to merge\n",
    "their information into a new, synthetic dataset.\n",
    "\n",
    "This operation can be thought as the spatial equivalent of an\n",
    "**attribute join**, in which multiple tabular datasets can be merged by\n",
    "aligning matching values in a common column that they both contain.\n",
    "Thus, we'll start by developing an understanding of this operation first!\n",
    "\n",
    "- 7.0 Data Input and Prep\n",
    "- 7.1 Attribute Joins\n",
    "- **Exercise**: Choropleth Map\n",
    "- 7.2 Spatial Joins\n",
    "- 7.3 Aggregation\n",
    "- **Exercise**: Aggregation\n",
    "- 7.4 Recap\n",
    "\n",
    "<br>\n",
    "<font color='grey'>\n",
    "    <b>Instructor Notes</b>\n",
    "\n",
    "- Datasets used\n",
    "    - 'notebook_data/census/ACS5yr/census_variables_CA.csv'\n",
    "    - 'notebook_data/census/Tracts/cb_2013_06_tract_500k.zip'\n",
    "    - 'notebook_data/alco_schools.csv'\n",
    "    \n",
    "- Expected time to complete\n",
    "    - Lecture + Questions: 45 minutes\n",
    "    - Exercises: 20 minutes\n",
    "</font>\n"
   ]
  },
  {
   "cell_type": "code",
   "execution_count": null,
   "metadata": {},
   "outputs": [],
   "source": [
    "library(sf)\n",
    "library(tmap)\n"
   ]
  },
  {
   "cell_type": "markdown",
   "metadata": {},
   "source": [
    "# 7.0 Data Input and Prep\n",
    "\n",
    "Let's read in a table of data from the US Census' 5-year American Community Survey (ACS5).\n"
   ]
  },
  {
   "cell_type": "code",
   "execution_count": null,
   "metadata": {},
   "outputs": [],
   "source": [
    "# Read in the ACS5 data for CA into an `sf` object.\n",
    "# Note: We force the FIPS_11_digit to be read in as a string to preserve any leading zeroes.\n",
    "acs5_df = read.csv(\"notebook_data/census/ACS5yr/census_variables_CA.csv\")\n",
    "head(acs5_df)\n"
   ]
  },
  {
   "cell_type": "markdown",
   "metadata": {},
   "source": [
    "**Brief summary of the data**:\n",
    "\n",
    "Below is a table of the variables in this table. They were combined from \n",
    "different ACS 5 year tables.\n",
    "\n",
    "<u>NOTE</u>:\n",
    "- variables that start with `c_` are counts\n",
    "- variables that start with `med_` are medians\n",
    "- variables that end in `_moe` are margin of error estimates\n",
    "- variables that start with `_p` are proportions calcuated from the counts divided by the table denominator (the total count for whom that variable was assessed)\n",
    "\n",
    "\n",
    "| Variable        | Description                                     |\n",
    "|-----------------|-------------------------------------------------|\n",
    "|`c_race`         |Total population                                 \n",
    "|`c_white`        |Total white non-Latinx\n",
    "| `c_black`       | Total black and African American non-Latinx\n",
    "| `c_asian`       | Total Asian non-Latinx\n",
    "| `c_latinx`      | Total Latinx\n",
    "| `state_fips`    | State level FIPS code\n",
    "| `county_fips`   | County level FIPS code\n",
    "| `tract_fips`    |Tracts level FIPS code\n",
    "| `med_rent`      |Median rent\n",
    "| `med_hhinc`     |Median household income\n",
    "| `c_tenants`     |Total tenants\n",
    "| `c_owners`      |Total owners\n",
    "| `c_renters`     |Total renters\n",
    "| `c_movers`      |Total number of people who moved\n",
    "| `c_stay`        |Total number of people who stayed\n",
    "| `c_movelocal`   |Number of people who moved locally\n",
    "| `c_movecounty`  |Number of people who moved counties\n",
    "| `c_movestate`   | Number of people who moved states\n",
    "| `c_moveabroad`  |Number of people who moved abroad\n",
    "| `c_commute`     |Total number of commuters\n",
    "| `c_car`         | Number of commuters who use a car\n",
    "| `c_carpool`     | Number of commuters who carpool\n",
    "| `c_transit`     |Number of commuters who use public transit\n",
    "| `c_bike`        |Number of commuters who bike\n",
    "| `c_walk`        |Number of commuters who bike\n",
    "| `year`          | ACS data year\n",
    "| `FIPS_11_digit` | 11-digit FIPS code\n",
    "\n",
    "We're going to drop all of our `moe` columns by identifying all of those that end with `_moe`. We can do that in two steps, first by using `filter` to identify columns that contain the string `_moe`.\n",
    "\n",
    "`tidyverse` will help with this!\n"
   ]
  },
  {
   "cell_type": "code",
   "execution_count": null,
   "metadata": {},
   "outputs": [],
   "source": [
    "library(tidyverse) \n",
    "acs5_df = acs5_df %>% select(-contains(\"_moe\"))\n"
   ]
  },
  {
   "cell_type": "markdown",
   "metadata": {},
   "source": [
    "Unfortunately, when this dataset reads in, the 11-digit FIPS codes that should be strings actually read in as numerics, and thus the leading 0 gets truncated. We're going to need those FIPS code in the correct format later, so let's reformat them now.\n",
    "\n"
   ]
  },
  {
   "cell_type": "code",
   "execution_count": null,
   "metadata": {},
   "outputs": [],
   "source": [
    "# recast the FIPS 11-digit codes as strings, pasting a 0 at the front of each\n",
    "acs5_df$FIPS_11_digit = paste0('0', acs5_df$FIPS_11_digit)\n"
   ]
  },
  {
   "cell_type": "markdown",
   "metadata": {},
   "source": [
    "And lastly, let's grab only the rows for year 2018 and county FIPS code 1 (i.e. Alameda County)\n",
    "\n"
   ]
  },
  {
   "cell_type": "code",
   "execution_count": null,
   "metadata": {},
   "outputs": [],
   "source": [
    "acs5_df_ac = acs5_df[acs5_df$year==2018 & acs5_df$county_fips==1, ]\n",
    "\n"
   ]
  },
  {
   "cell_type": "markdown",
   "metadata": {},
   "source": [
    "\n"
   ]
  },
  {
   "cell_type": "code",
   "execution_count": null,
   "metadata": {},
   "outputs": [],
   "source": [
    "head(acs5_df_ac)\n",
    "\n"
   ]
  },
  {
   "cell_type": "markdown",
   "metadata": {},
   "source": [
    "Now let's also read in our census tracts again!\n",
    "\n"
   ]
  },
  {
   "cell_type": "code",
   "execution_count": null,
   "metadata": {},
   "outputs": [],
   "source": [
    "tracts_sf = st_read(\"./notebook_data/census/Tracts/cb_2013_06_tract_500k.shp\", )\n",
    "\n"
   ]
  },
  {
   "cell_type": "markdown",
   "metadata": {},
   "source": [
    "\n"
   ]
  },
  {
   "cell_type": "code",
   "execution_count": null,
   "metadata": {},
   "outputs": [],
   "source": [
    "head(tracts_sf)\n",
    "\n"
   ]
  },
  {
   "cell_type": "markdown",
   "metadata": {},
   "source": [
    "\n"
   ]
  },
  {
   "cell_type": "code",
   "execution_count": null,
   "metadata": {},
   "outputs": [],
   "source": [
    "tracts_sf_ac = tracts_sf[tracts_sf$COUNTYFP == '001',]\n",
    "plot(tracts_sf_ac$geometry)\n"
   ]
  },
  {
   "cell_type": "markdown",
   "metadata": {},
   "source": [
    "# 7.1 Attribute Joins\n",
    "\n",
    "**Attribute Joins  between `sf` data.frames and plain data.frames**\n",
    "\n",
    "*We just mapped the census tracts. But what makes a map powerful is when you map the data associated with the locations.*\n",
    "\n",
    "- `tracts_sf_ac`: These are polygon data in an `sf` data.frame. However, as we saw in the `head` of that dataset, they no attributes of interest!\n",
    "\n",
    "- `acs5_df_ac`: These are 2018 ACS data from a CSV file ('census_variables_CA.csv'), imported and read in as a plain data.frame. However, they have no geometries!\n",
    "\n",
    "In order to map the ACS data we need to associate it with the tracts. Let's do that now, by joining the columns from `acs5_df_ac` to the columns of `tracts_gdf_ac` using a common column as the key for matching rows. This process is called an **attribute join**.\n",
    "\n",
    "\n",
    "\n",
    "\n",
    "\n",
    "\n",
    "\n",
    "<img src=\"https://shanelynnwebsite-mid9n9g1q9y8tt.netdna-ssl.com/wp-content/uploads/2017/03/join-types-merge-names.jpg\">\n",
    "\n",
    "\n",
    "<img src=\"http://www.pngall.com/wp-content/uploads/2016/03/Light-Bulb-Free-PNG-Image.png\" width=\"20\" align=left >  **Question**\n",
    "\n",
    "The image above gives us a nice conceptual summary of the types of joins we could run.\n",
    "\n",
    "1. In general, why might we choose one type of join over another?\n",
    "1. In our case, do we want an inner, left, right, or outer (AKA 'full') join? \n",
    "\n",
    "(**NOTE**: You can read more about merging `sf` and plain data.frames [here](https://r-spatial.github.io/sf/reference/merge.sf.html).)\n",
    "\n",
    "\n",
    "Okay, here we go!\n",
    "\n",
    "Let's take a look at the common column in both our data.frames.\n"
   ]
  },
  {
   "cell_type": "code",
   "execution_count": null,
   "metadata": {},
   "outputs": [],
   "source": [
    "head(tracts_sf_ac['GEOID'])\n",
    "\n"
   ]
  },
  {
   "cell_type": "markdown",
   "metadata": {},
   "source": [
    "\n"
   ]
  },
  {
   "cell_type": "code",
   "execution_count": null,
   "metadata": {},
   "outputs": [],
   "source": [
    "head(acs5_df_ac['FIPS_11_digit'])\n",
    "\n"
   ]
  },
  {
   "cell_type": "markdown",
   "metadata": {},
   "source": [
    "Note that they are **not named the same thing**. \n",
    "        \n",
    "        That's okay! We just need to know that they contain the same information.\n",
    "\n",
    "Also note that they are **not in the same order**. \n",
    "        \n",
    "        That's not only okay... That's the point! (If they were in the same order already then we could just join them side by side, without having R find and line up the matching rows from each!)\n",
    "\n",
    "\n",
    "\n",
    "\n",
    "\n",
    "Let's do a `left` join to keep all of the census tracts in Alameda County and only the ACS data for those tracts.\n",
    "\n",
    "**NOTE**: To figure out how to do this we could always take a peek at the documentation by calling\n",
    "`?base::merge`.\n"
   ]
  },
  {
   "cell_type": "code",
   "execution_count": null,
   "metadata": {},
   "outputs": [],
   "source": [
    "?base::merge\n",
    "\n"
   ]
  },
  {
   "cell_type": "markdown",
   "metadata": {},
   "source": [
    "\n"
   ]
  },
  {
   "cell_type": "code",
   "execution_count": null,
   "metadata": {},
   "outputs": [],
   "source": [
    "# Left join keeps all tracts and the acs data for those tracts\n",
    "tracts_acs_sf_ac = base::merge(tracts_sf_ac, acs5_df_ac, by.x = 'GEOID', by.y = \"FIPS_11_digit\", all.x=TRUE)\n",
    "head(tracts_acs_sf_ac)\n"
   ]
  },
  {
   "cell_type": "markdown",
   "metadata": {},
   "source": [
    "Let's check that we have all the variables we have in our dataset now.\n",
    "\n"
   ]
  },
  {
   "cell_type": "code",
   "execution_count": null,
   "metadata": {},
   "outputs": [],
   "source": [
    "colnames(tracts_acs_sf_ac)\n",
    "\n"
   ]
  },
  {
   "cell_type": "markdown",
   "metadata": {},
   "source": [
    "<img src=\"http://www.pngall.com/wp-content/uploads/2016/03/Light-Bulb-Free-PNG-Image.png\" width=\"20\" align=left >  **Question**\n",
    "\n",
    "It's always important to run sanity checks on our results, at each step of the way!\n",
    "\n",
    "In this case, how many rows and columns should we have?\n"
   ]
  },
  {
   "cell_type": "code",
   "execution_count": null,
   "metadata": {},
   "outputs": [],
   "source": [
    "print(\"Rows and columns in the Alameda County Census tract gdf:\")\n",
    "print(dim(tracts_sf_ac))\n",
    "print(\"Row and columns in the ACS5 2018 data:\")\n",
    "print(dim(acs5_df_ac))\n",
    "print(\"Rows and columns in the Alameda County Census tract gdf joined to the ACS data:\")\n",
    "print(dim(tracts_acs_sf_ac))\n"
   ]
  },
  {
   "cell_type": "markdown",
   "metadata": {},
   "source": [
    "Let's save out our merged data so we can use it in the final notebook.\n",
    "\n"
   ]
  },
  {
   "cell_type": "code",
   "execution_count": null,
   "metadata": {},
   "outputs": [],
   "source": [
    "st_write(tracts_acs_sf_ac, './outdata/tracts_acs_gdf_ac.json', driver='GeoJSON', delete_dsn=T)\n",
    "\n"
   ]
  },
  {
   "cell_type": "markdown",
   "metadata": {},
   "source": [
    "## Exercise: Choropleth Map\n",
    "We can now make choropleth maps using our attribute joined geodataframe. Go ahead and pick one variable to color the map, then map it using `tmap` (since it's too easy using the `plot` method). You can go back to lesson 5 if you need a refresher on how to make this!\n",
    "\n",
    "To see the solution, look at the hidden text below.\n"
   ]
  },
  {
   "cell_type": "code",
   "execution_count": null,
   "metadata": {},
   "outputs": [],
   "source": [
    "head(tracts_acs_sf_ac)\n",
    "\n"
   ]
  },
  {
   "cell_type": "markdown",
   "metadata": {},
   "source": [
    "\n"
   ]
  },
  {
   "cell_type": "code",
   "execution_count": null,
   "metadata": {},
   "outputs": [],
   "source": [
    "# YOUR CODE HERE\n",
    "\n"
   ]
  },
  {
   "cell_type": "markdown",
   "metadata": {},
   "source": [
    "## Solution hidden here!\n",
    "\n",
    "<!--\n",
    "\n",
    "# SOLUTION:\n",
    "tm_shape(tracts_acs_sf_ac) + \n",
    "  tm_polygons(col = 'p_renters',\n",
    "              style = 'quantile',\n",
    "              palette = 'PuBuGn',\n",
    "              title = 'Percentage of Renters')\n",
    "\n",
    "\n",
    "-->\n",
    "\n",
    "\n",
    "# 7.2 Spatial Joins\n",
    "\n",
    "Great! We've wrapped our heads around the concept of an attribute join.\n",
    "\n",
    "Now let's extend that concept to its spatially explicit equivalent: the **spatial join**!\n",
    "\n",
    "\n",
    "<br>\n",
    "\n",
    "To start, we'll read in some other data: The Alameda County schools data.\n",
    "\n",
    "Then we'll work with that data and our `tracts_acs_sf_ac` data together.\n"
   ]
  },
  {
   "cell_type": "code",
   "execution_count": null,
   "metadata": {},
   "outputs": [],
   "source": [
    "schools_df = read.csv('notebook_data/alco_schools.csv')\n",
    "schools_sf = st_as_sf(schools_df, coords = c('X', 'Y'), crs=4326)\n"
   ]
  },
  {
   "cell_type": "markdown",
   "metadata": {},
   "source": [
    "Let's check if we have to transform the schools to match the`tracts_acs_sf_ac`'s CRS.\n",
    "\n"
   ]
  },
  {
   "cell_type": "code",
   "execution_count": null,
   "metadata": {},
   "outputs": [],
   "source": [
    "print('schools_sf CRS:')\n",
    "print(st_crs(schools_sf))\n",
    "print('tracts_acs_sf_ac CRS:')\n",
    "print(st_crs(tracts_acs_sf_ac))\n"
   ]
  },
  {
   "cell_type": "markdown",
   "metadata": {},
   "source": [
    "Yes we do! Let's do that.\n",
    "\n",
    "**NOTE**: Explicit syntax aiming at that dataset's CRS leaves less room for human error!\n"
   ]
  },
  {
   "cell_type": "code",
   "execution_count": null,
   "metadata": {},
   "outputs": [],
   "source": [
    "schools_sf = st_transform(schools_sf, st_crs(tracts_acs_sf_ac))\n",
    "\n",
    "print('schools_sf CRS:')\n",
    "print(st_crs(schools_sf))\n",
    "print('tracts_acs_sf_ac CRS:')\n",
    "print(st_crs(tracts_acs_sf_ac))\n"
   ]
  },
  {
   "cell_type": "markdown",
   "metadata": {},
   "source": [
    "Now we're ready to combine the datasets in an analysis.\n",
    "\n",
    "**In this case, we want to get data from the census tract within which each school is located.**\n",
    "\n",
    "But how can we do that? The two datasets don't share a common column to use for a join.\n"
   ]
  },
  {
   "cell_type": "code",
   "execution_count": null,
   "metadata": {},
   "outputs": [],
   "source": [
    "colnames(tracts_acs_sf_ac)\n",
    "\n"
   ]
  },
  {
   "cell_type": "markdown",
   "metadata": {},
   "source": [
    "\n"
   ]
  },
  {
   "cell_type": "code",
   "execution_count": null,
   "metadata": {},
   "outputs": [],
   "source": [
    "colnames(schools_sf)\n",
    "\n"
   ]
  },
  {
   "cell_type": "markdown",
   "metadata": {},
   "source": [
    "However, they do have a shared relationship by way of space! \n",
    "\n",
    "So, we'll use a spatial relationship query to figure out the census tract that\n",
    "each school is in, then associate the tract's data with that school (as additional data in the school's row).\n",
    "This is a **spatial join**!\n",
    "\n",
    "\n",
    "\n",
    "\n",
    "### Census Tract Data Associated with Each School\n",
    "\n",
    "In this case, let's say we're interested in the relationship between the median household income\n",
    "in a census tract (`tracts_acs_sf_ac$med_hhinc`) and a school's Academic Performance Index\n",
    "(`schools_gdf$API`).\n",
    "\n",
    "To start, let's take a look at the distributions of our two variables of interest.\n"
   ]
  },
  {
   "cell_type": "code",
   "execution_count": null,
   "metadata": {},
   "outputs": [],
   "source": [
    "head(tracts_acs_sf_ac)\n",
    "\n"
   ]
  },
  {
   "cell_type": "markdown",
   "metadata": {},
   "source": [
    "\n"
   ]
  },
  {
   "cell_type": "code",
   "execution_count": null,
   "metadata": {},
   "outputs": [],
   "source": [
    "hist(tracts_acs_sf_ac$med_hhinc)\n",
    "\n"
   ]
  },
  {
   "cell_type": "markdown",
   "metadata": {},
   "source": [
    "\n"
   ]
  },
  {
   "cell_type": "code",
   "execution_count": null,
   "metadata": {},
   "outputs": [],
   "source": [
    "hist(schools_sf$API)\n",
    "\n"
   ]
  },
  {
   "cell_type": "markdown",
   "metadata": {},
   "source": [
    "Oh, right! Those pesky schools with no reported APIs (i.e. API == 0)! Let's drop those.\n",
    "\n"
   ]
  },
  {
   "cell_type": "code",
   "execution_count": null,
   "metadata": {},
   "outputs": [],
   "source": [
    "schools_sf_api = schools_sf[schools_sf$API > 0, ]\n",
    "\n"
   ]
  },
  {
   "cell_type": "markdown",
   "metadata": {},
   "source": [
    "\n"
   ]
  },
  {
   "cell_type": "code",
   "execution_count": null,
   "metadata": {},
   "outputs": [],
   "source": [
    "hist(schools_sf_api$API)\n",
    "\n"
   ]
  },
  {
   "cell_type": "markdown",
   "metadata": {},
   "source": [
    "Much better!\n",
    "\n",
    "Now, maybe we think there ought to be some correlation between the two variables?\n",
    "As a first pass at this possibility, let's overlay the two datasets, coloring each one by\n",
    "its variable of interest. This should give us a sense of whether or not similar values co-occur.\n"
   ]
  },
  {
   "cell_type": "code",
   "execution_count": null,
   "metadata": {},
   "outputs": [],
   "source": [
    "tm_shape(tracts_acs_sf_ac) + \n",
    "  tm_polygons(col = 'med_hhinc',\n",
    "             palette = 'RdPu') + \n",
    "tm_shape(schools_sf_api) + \n",
    "  tm_dots(col = 'API',\n",
    "          palette = 'RdPu',\n",
    "          size = 0.15)\n"
   ]
  },
  {
   "cell_type": "markdown",
   "metadata": {},
   "source": [
    "### Spatially Joining our Schools and Census Tracts\n",
    "\n",
    "Though it's hard to say for sure, it certainly looks possible.\n",
    "It would be ideal to scatterplot the variables! But in order to do that, \n",
    "we need to know the median household income in each school's tract, which\n",
    "means we definitely need our **spatial join**!\n",
    "\n",
    "We'll first take a look at the documentation for the spatial join function, `st_join`.\n"
   ]
  },
  {
   "cell_type": "code",
   "execution_count": null,
   "metadata": {},
   "outputs": [],
   "source": [
    "?st_join\n",
    "\n"
   ]
  },
  {
   "cell_type": "markdown",
   "metadata": {},
   "source": [
    "Looks like the key arguments to consider are:\n",
    "- the two `sf` data.frames (**`x`** and **`y`**)\n",
    "- the type of join to run (**`left`**), which is a left join if `TRUE`, or an inner join if `FALSE`\n",
    "- the spatial relationship query to use (**`join`**)\n",
    "\n",
    "**NOTE**:\n",
    "- By default `st_join` is a left join, because `left` defaults to TRUE. \n",
    "\n",
    "- By default `st_join` maintains the geometries of the first `sf` data.frame input to the operation (i.e. the geometries of `x`). \n",
    "\n",
    "<img src=\"http://www.pngall.com/wp-content/uploads/2016/03/Light-Bulb-Free-PNG-Image.png\" width=\"20\" align=left >  **Question**\n",
    "\n",
    "1. Which `sf` data.frame are we joining onto which (i.e. which one is getting the other one's data added to it)?\n",
    "2. What happened to 'outer' as a join type?\n",
    "3. Thus, in our operation, which `sf` data.frame should be `x`, which should be `y`, and should `left` be `TRUE` or `FALSE`?\n",
    "\n",
    "\n",
    "Alright! Let's run our join!\n"
   ]
  },
  {
   "cell_type": "code",
   "execution_count": null,
   "metadata": {},
   "outputs": [],
   "source": [
    "schools_jointracts = st_join(schools_sf_api, tracts_acs_sf_ac, left=T, join=st_within)\n",
    "\n"
   ]
  },
  {
   "cell_type": "markdown",
   "metadata": {},
   "source": [
    "### Checking Our Output\n",
    "\n",
    "<br>\n",
    "\n",
    "<img src=\"http://www.pngall.com/wp-content/uploads/2016/03/Light-Bulb-Free-PNG-Image.png\" width=\"20\" align=left >  **Question**\n",
    "\n",
    "As always, we want to sanity-check our intermediate result before we rush ahead.\n",
    "\n",
    "One way to do that is to introspect the structure of the result object a bit.\n",
    "\n",
    "1. What type of object should that have given us?\n",
    "2. What should the dimensions of that object be, and why?\n",
    "3. If we wanted a visual check of our results (i.e. a plot or map), what could we do?\n"
   ]
  },
  {
   "cell_type": "code",
   "execution_count": null,
   "metadata": {},
   "outputs": [],
   "source": [
    "print(dim(schools_jointracts))\n",
    "print(dim(schools_sf))\n",
    "print(dim(tracts_acs_sf_ac))\n"
   ]
  },
  {
   "cell_type": "markdown",
   "metadata": {},
   "source": [
    "\n"
   ]
  },
  {
   "cell_type": "code",
   "execution_count": null,
   "metadata": {},
   "outputs": [],
   "source": [
    "head(schools_jointracts)\n",
    "\n"
   ]
  },
  {
   "cell_type": "markdown",
   "metadata": {},
   "source": [
    "Confirmed! The output of the our `st_join` operation is an `sf` data.frame (`schools_jointracts`) with:\n",
    "- a row for each school that is located inside a census tract (all of them are)\n",
    "- the **point geometry** of that school\n",
    "- all of the attribute data columns (non-geometry columns) from both input `sf` data.frames\n",
    "\n",
    "\n",
    "\n",
    "Let's also take a look at an overlay map of the schools on the tracts.\n",
    "If we color the schools categorically by their tracts IDs, then we should see\n",
    "that all schools within a given tract polygon are the same color.\n"
   ]
  },
  {
   "cell_type": "code",
   "execution_count": null,
   "metadata": {},
   "outputs": [],
   "source": [
    "tm_shape(tracts_acs_sf_ac) + \n",
    "  tm_polygons(col='white', border.col='black') + \n",
    "tm_shape(schools_jointracts) + \n",
    "  tm_dots(col='GEOID', size=0.2)\n"
   ]
  },
  {
   "cell_type": "markdown",
   "metadata": {},
   "source": [
    "### Assessing the Relationship between Median Household Income and API\n",
    "\n",
    "Fantastic! That looks right!\n",
    "\n",
    "Now we can create that scatterplot we were thinking about!\n"
   ]
  },
  {
   "cell_type": "code",
   "execution_count": null,
   "metadata": {},
   "outputs": [],
   "source": [
    "plot(schools_jointracts$med_hhinc, schools_jointracts$API,\n",
    "     xlab = 'median household income ($)',\n",
    "     ylab = 'API')\n"
   ]
  },
  {
   "cell_type": "markdown",
   "metadata": {},
   "source": [
    "Wow! Just as we suspected based on our overlay map,\n",
    "there's a pretty obvious, strong, and positive correlation\n",
    "between median household income in a school's tract\n",
    "and the school's API.\n",
    "\n",
    "# 7.3: Aggregation\n",
    "\n",
    "We just saw that a spatial join in one way to leverage the spatial relationship\n",
    "between two datasets in order to create a new, synthetic dataset.\n",
    "\n",
    "An **aggregation** is another way we can generate new data from this relationship.\n",
    "In this case, for each feature in one dataset we find all the features in another\n",
    "dataset that satisfy our chosen spatial relationship query with it (e.g. within, intersects),\n",
    "then aggregate them using some summary function (e.g. count, mean).\n",
    "\n",
    "\n",
    "\n",
    "\n",
    "### Getting the Aggregated School Counts\n",
    "\n",
    "Let's take this for a spin with our data. We'll count all the schools within each census tract.\n",
    "\n",
    "We could do this using an aspatial group-by operation on the GEOID column of the new, spatially joined dataset that we just made. However, since we're in a geospatial workshop let's use a spatial aggregation instead!\n",
    "\n",
    "(Also, to get the correct count, lets use all our schools, not just those with APIs > 0.)\n"
   ]
  },
  {
   "cell_type": "code",
   "execution_count": null,
   "metadata": {},
   "outputs": [],
   "source": [
    "schools_for_count = schools_sf['geometry']\n",
    "schools_for_count$count = 1\n",
    "schools_countsbytract = sf:::aggregate.sf(x=schools_for_count, by=tracts_acs_sf_ac, FUN=sum)\n"
   ]
  },
  {
   "cell_type": "markdown",
   "metadata": {},
   "source": [
    "Let's see what we got out.\n",
    "\n"
   ]
  },
  {
   "cell_type": "code",
   "execution_count": null,
   "metadata": {},
   "outputs": [],
   "source": [
    "print(\"Counts, rows and columns:\")\n",
    "print(dim(schools_countsbytract))\n",
    "print(\"Tracts, rows and columns:\")\n",
    "print(dim(tracts_acs_sf_ac))\n",
    "\n",
    "# take a look at the data\n",
    "head(schools_countsbytract)\n"
   ]
  },
  {
   "cell_type": "markdown",
   "metadata": {},
   "source": [
    "<img src=\"http://www.pngall.com/wp-content/uploads/2016/03/Light-Bulb-Free-PNG-Image.png\" width=\"20\" align=left >  **Question**\n",
    "\n",
    "1. Above we selected the geometry column, added a column of 1s, then aggregated. Why?\n",
    "1. What explains the dimensions of the new object (361, 2)?\n",
    "\n",
    "\n",
    "### Mapping our Spatial Join Output\n",
    "\n",
    "As a sanity-check, we can now map the school counts for all census tracts.\n"
   ]
  },
  {
   "cell_type": "code",
   "execution_count": null,
   "metadata": {},
   "outputs": [],
   "source": [
    "tm_shape(schools_countsbytract) + \n",
    "  tm_polygons(col='count') + \n",
    "tm_shape(schools_sf) + \n",
    "  tm_dots(col='black', alpha=0.75, size=0.1)\n"
   ]
  },
  {
   "cell_type": "markdown",
   "metadata": {},
   "source": [
    "# Exercise: Aggregation\n",
    "\n",
    "#### What is the mean API of each census tract?\n",
    "\n",
    "As we mentioned, the spatial aggregation workflow that we just put together above\n",
    "could have been used not to generate a new count variable, but also\n",
    "to generate any other new variable the results from calling an aggregation function\n",
    "on an attribute column.\n",
    "\n",
    "In this case, we want to calculate and map the mean API of the schools in each census tract.\n",
    "\n",
    "Copy and paste code from above where useful, then tweak and/or add to that code such that your new code:\n",
    "\n",
    "1. joins the schools onto the tracts (**HINT**: make sure to decide whether or not you want to include schools with API = 0!)\n",
    "2. dissolves that joined object by the tract IDs, giving you a new GeoDataFrame with each tract's mean API (**HINT**: because this is now a different calculation, different problems may arise and need handling!)\n",
    "3. plots the tracts, colored by API scores (**HINT**: overlay the schools points again, visualizing them in a way that will help you visually check your results!)\n",
    "\n",
    "To see the solution, look at the hidden text below.\n"
   ]
  },
  {
   "cell_type": "code",
   "execution_count": null,
   "metadata": {},
   "outputs": [],
   "source": [
    "# YOUR CODE HERE:\n",
    "\n"
   ]
  },
  {
   "cell_type": "markdown",
   "metadata": {},
   "source": [
    "## Solution hidden here!\n",
    "\n",
    "<!--\n",
    "\n",
    "# SOLUTION:\n",
    "\n",
    "\n",
    "tracts_meanAPI = sf:::aggregate.sf(x=schools_sf_api['API'], by=tracts_acs_sf_ac, FUN=mean)\n",
    "\n",
    "# plot the tracts, coloring them by mean API\n",
    "tm_shape(tracts_meanAPI) + \n",
    "  tm_polygons(col = 'API',\n",
    "             palette = 'RdYlGn',\n",
    "             style = 'equal',\n",
    "             border.col = 'grey',\n",
    "             title = 'mean API (tracts)') + \n",
    "tm_shape(schools_sf_api) + \n",
    "  tm_dots(col='API',\n",
    "          palette='RdYlGn',\n",
    "          size=0.1,\n",
    "          title='API (schools)')\n",
    "\n",
    "\n",
    "-->\n",
    "\n",
    "\n",
    "\n",
    "## 7.4 Recap\n",
    "We discussed how we can combine datasets to enhance any geospatial data analyses you could do. Key concepts include:\n",
    "\n",
    "-  Attribute joins\n",
    "\t- `merge()`\n",
    "- Spatial joins (order matters!)\n",
    "\t- `st_join`\n",
    "- Aggregation\n",
    "\t- `aggregate.sf`\n",
    "\n",
    "---\n",
    "<div style=\"display:inline-block;vertical-align:middle;\">\n",
    "<a href=\"https://dlab.berkeley.edu/\" target=\"_blank\"><img src =\"assets/images/dlab_logo.png\" width=\"75\" align=\"left\">\n",
    "</a>\n",
    "</div>\n",
    "\n",
    "<div style=\"display:inline-block;vertical-align:middle;\">\n",
    "<div style=\"font-size:larger\">&nbsp;D-Lab @ University of California - Berkeley</div>\n",
    "<div>&nbsp;Team Geo<div>\n",
    "</div>\n",
    "        \n"
   ]
  }
 ],
 "metadata": {
  "anaconda-cloud": "",
  "kernelspec": {
   "display_name": "R",
   "language": "R",
   "name": "ir"
  },
  "language_info": {
   "codemirror_mode": "r",
   "file_extension": ".r",
   "mimetype": "text/x-r-source",
   "name": "R",
   "pygments_lexer": "r",
   "version": "4.0.3"
  }
 },
 "nbformat": 4,
 "nbformat_minor": 1
}
