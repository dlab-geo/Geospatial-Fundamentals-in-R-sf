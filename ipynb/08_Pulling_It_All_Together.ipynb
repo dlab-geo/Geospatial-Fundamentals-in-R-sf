{
 "cells": [
  {
   "cell_type": "markdown",
   "metadata": {},
   "source": [
    "# 08. Pulling it all Together\n",
    "\n",
    "For this last lesson, we'll practice going through a full workflow!! We'll answer the question:\n",
    "## What is the total grocery-store sales volume of each census tract?\n",
    "\n",
    "\n",
    "### WORKFLOW:\n",
    "\n",
    "<br>\n",
    "Here's a set of steps that we will implement in the labeled cells below:\n",
    "\n",
    "<u> 8.1 Read in and Prep Data</u>\n",
    "\n",
    "- read in tracts ACS joined data\n",
    "- read our grocery-data CSV into a plain data.frame (it lives at `'notebook_data/other/ca_grocery_stores_2019_wgs84.csv`)\n",
    "- coerce it to an `sf` data.frame\n",
    "- define its CRS (EPSG:4326)\n",
    "- transform it to match the CRS of the tracts\n",
    "- take a peek\n",
    "\n",
    "<u>8.2 Aggregation</u>\n",
    "\n",
    "- aggregate the grocery points by tract and calculate the total grocery-store sales volume of each tract\n",
    "- don't forget to check the dimensions, contents, and any other relevant aspects of your results\n",
    "\n",
    "<u>8.3 Plot and Review</u>\n",
    "\n",
    "- plot the tracts, coloring them by total grocery-store sales volume\n",
    "- plot the grocery stores on top\n",
    "- bonus points for devising a nice visualization scheme that helps you heuristically check your results!\n",
    "\n",
    "\n",
    "\n",
    "### INSTRUCTIONS:\n",
    "**We've written out some of the code for you, but you'll need to replace the ellipses with the correct\n",
    "content.**\n",
    "\n",
    "*You can check your answers by the hidden solutions where indicated.*\n",
    "\n",
    "\n",
    "<br>\n",
    "<font color='grey'>\n",
    "    <b>Instructor Notes</b>\n",
    "\n",
    "- Datasets used\n",
    "    - 'outdata/tracts_acs_gdf_ac.json'\n",
    "    - 'notebook_data/other/ca_grocery_stores_2019_wgs84.csv'\n",
    "\n",
    "- Expected time to complete\n",
    "    - Lecture + Questions: N/A\n",
    "    - Exercises: 30 minutes\n",
    "</font>\n",
    "\n",
    "\n",
    "\n",
    "-----------------\n",
    "\n",
    "\n",
    "---------------------------------------\n",
    "\n",
    "\n",
    "### Load Packages\n"
   ]
  },
  {
   "cell_type": "code",
   "execution_count": null,
   "metadata": {},
   "outputs": [],
   "source": [
    "library(sf)\n",
    "library(tmap)\n"
   ]
  },
  {
   "cell_type": "markdown",
   "metadata": {},
   "source": [
    "------------------\n",
    "\n",
    "## 8.1 Read in the Prep Data\n",
    "\n",
    "We first need to prepare our data by loading both our tracts/acs and grocery data, and conduct our usual steps to make there they have the same CRS.\n",
    "\n",
    "- read in our tracts acs joined data \n",
    "- read our grocery-data CSV into a plain data.frame (it lives at `'notebook_data/other/ca_grocery_stores_2019_wgs84.csv`)\n",
    "- coerce it to an `sf` data.frame\n",
    "- define its CRS (EPSG:4326)\n",
    "- transform it to match the CRS of the tracts\n",
    "- take a peek\n"
   ]
  },
  {
   "cell_type": "code",
   "execution_count": null,
   "metadata": {},
   "outputs": [],
   "source": [
    "# read in tracts acs data\n",
    "\n",
    "tracts_acs_ac = st_read(..)\n"
   ]
  },
  {
   "cell_type": "markdown",
   "metadata": {},
   "source": [
    "\n"
   ]
  },
  {
   "cell_type": "code",
   "execution_count": null,
   "metadata": {},
   "outputs": [],
   "source": [
    "# read our grocery-data CSV into a plain data.frame\n",
    "\n",
    "grocery_pts_df = read.csv(...)\n"
   ]
  },
  {
   "cell_type": "markdown",
   "metadata": {},
   "source": [
    "\n"
   ]
  },
  {
   "cell_type": "code",
   "execution_count": null,
   "metadata": {},
   "outputs": [],
   "source": [
    "# coerce it to an `sf` data.frame, and define its CRS as 4326\n",
    "\n",
    "grocery_pts_sf = st_as_sf(grocery_pts_df, \n",
    "                          coords = c(...),\n",
    "                          crs = ...)\n"
   ]
  },
  {
   "cell_type": "markdown",
   "metadata": {},
   "source": [
    "\n"
   ]
  },
  {
   "cell_type": "code",
   "execution_count": null,
   "metadata": {},
   "outputs": [],
   "source": [
    "# transform it to match the CRS of tracts_acs_ac\n",
    "\n",
    "grocery_pts_sf = st_transform(..., ...)\n"
   ]
  },
  {
   "cell_type": "markdown",
   "metadata": {},
   "source": [
    "\n"
   ]
  },
  {
   "cell_type": "code",
   "execution_count": null,
   "metadata": {},
   "outputs": [],
   "source": [
    "# take a peek\n",
    "\n",
    "head(grocery_pts_sf)\n"
   ]
  },
  {
   "cell_type": "markdown",
   "metadata": {},
   "source": [
    "## Solution hidden here!\n",
    "\n",
    "<!--\n",
    "\n",
    "# SOLUTION:\n",
    "\n",
    "########################\n",
    "# read in and prep data:\n",
    "#-----------------------\n",
    "# read in tracts acs data\n",
    "tracts_acs_ac = st_read('outdata/tracts_acs_gdf_ac.json')\n",
    "# read in the grocery-store data\n",
    "grocery_pts_df = read.csv('notebook_data/other/ca_grocery_stores_2019_wgs84.csv')\n",
    "# coerce to an `sf` data.frame, and define the CRS\n",
    "grocery_pts_sf = st_as_sf(grocery_pts_df, \n",
    "                          coords=c('X', 'Y'),\n",
    "                          crs = 4326)\n",
    "# transform to our census-tract CRS\n",
    "grocery_pts_sf = st_transform(grocery_pts_sf, st_crs(tracts_acs_ac))\n",
    "head(grocery_pts_sf)\n",
    "\n",
    "-->\n",
    "\n",
    "-----------------------\n",
    "\n",
    "## 8.2 Aggregation\n",
    "\n",
    "Now that we have our data and they're in the same projection, we're going to *aggregate* our data to calculate the total sales volume of each tract.\n",
    "\n",
    "- aggregate the groceries to the tracts and calculate the total sales volume\n",
    "- don't forget to check the dimensions, contents, and any other relevant aspects of your results\n"
   ]
  },
  {
   "cell_type": "code",
   "execution_count": null,
   "metadata": {},
   "outputs": [],
   "source": [
    "# join the two datasets in such a way that you can then...\n",
    "\n",
    "tracts_joingrocery = st_join(..., ..., left = ..., join = ...)\n"
   ]
  },
  {
   "cell_type": "markdown",
   "metadata": {},
   "source": [
    "\n"
   ]
  },
  {
   "cell_type": "code",
   "execution_count": null,
   "metadata": {},
   "outputs": [],
   "source": [
    "# aggregate groceries by tract and calculate the total sales volume\n",
    "\n",
    "tracts_totsalesvol = sf:::aggregate.sf(x = ..., by = ..., FUN = ...)\n"
   ]
  },
  {
   "cell_type": "markdown",
   "metadata": {},
   "source": [
    "\n"
   ]
  },
  {
   "cell_type": "code",
   "execution_count": null,
   "metadata": {},
   "outputs": [],
   "source": [
    "# don't forget to check the dimensions, contents, and any other relevant aspects of your results\n",
    "\n",
    "# check the dimensions\n",
    "print('Dimensions of result:')\n",
    "print(...)\n",
    "print('Dimesions of census tracts:')\n",
    "print(...)\n"
   ]
  },
  {
   "cell_type": "markdown",
   "metadata": {},
   "source": [
    "\n"
   ]
  },
  {
   "cell_type": "code",
   "execution_count": null,
   "metadata": {},
   "outputs": [],
   "source": [
    "# check the result\n",
    "head(tracts_totsalesvol)\n"
   ]
  },
  {
   "cell_type": "markdown",
   "metadata": {},
   "source": [
    "## Solution hidden here!\n",
    "\n",
    "<!--\n",
    "\n",
    "# SOLUTION:\n",
    "\n",
    "############################\n",
    "# spatial join and dissolve:\n",
    "#---------------------------\n",
    "# aggregate groceries by tract and calculate the total sales volume\n",
    "tracts_totsalesvol = sf:::aggregate.sf(x = grocery_pts_sf['SALESVOL'], by = tracts_acs_ac, FUN = sum)\n",
    "\n",
    "# check the dimensions\n",
    "print('Dimensions of result:')\n",
    "print(dim(tracts_totsalesvol))\n",
    "print('Dimesions of census tracts:')\n",
    "print(dim(tracts_acs_ac))\n",
    "\n",
    "# check the result\n",
    "head(tracts_totsalesvol)\n",
    "\n",
    "-->\n",
    "\n",
    "----------------------\n",
    "\n",
    "## 8.3 Plot and Review\n",
    "\n",
    "With any time of geospatial analysis you do, it's always nice to plot and visualize your results to check your work and start to understand the full story of your analysis.\n",
    "\n",
    "- Plot the tracts, coloring them by total grocery-store sales volume\n",
    "- Plot the grocery stores on top\n",
    "- Bonus points for devising a nice visualization scheme that helps you heuristically check your results!\n"
   ]
  },
  {
   "cell_type": "code",
   "execution_count": null,
   "metadata": {},
   "outputs": [],
   "source": [
    "# plot the tracts, coloring by total SALESVOL\n",
    "final_map = tm_shape(tracts_totsalesvol) + \n",
    "  tm_...(col=..., style='quantile',\n",
    "         palette='RdYlGn',\n",
    "         border.col='darkgrey')\n"
   ]
  },
  {
   "cell_type": "markdown",
   "metadata": {},
   "source": [
    "\n"
   ]
  },
  {
   "cell_type": "code",
   "execution_count": null,
   "metadata": {},
   "outputs": [],
   "source": [
    "# subset the stores for only those within our tracts, to keep map within region of interest\n",
    "\n",
    "grocery_pts_sf_ac = st_intersection(..., ...)\n"
   ]
  },
  {
   "cell_type": "markdown",
   "metadata": {},
   "source": [
    "\n"
   ]
  },
  {
   "cell_type": "code",
   "execution_count": null,
   "metadata": {},
   "outputs": [],
   "source": [
    "# add the grocery stores, coloring by SALESVOL, for a visual check\n",
    "final_map + \n",
    "  tm_shape(grocery_pts_sf_ac) + \n",
    "  tm_...(col = ... , palette = ...,\n",
    "         size= ...)\n"
   ]
  },
  {
   "cell_type": "markdown",
   "metadata": {},
   "source": [
    "## Solution hidden here!\n",
    "\n",
    "<!--\n",
    "\n",
    "# SOLUTION:\n",
    "\n",
    "##################\n",
    "# plot and review:\n",
    "#-----------------\n",
    "\n",
    "final_map = tm_shape(tracts_totsalesvol) + \n",
    "  tm_polygons(col = 'SALESVOL', style='quantile',\n",
    "         palette='RdYlGn',\n",
    "         border.col='darkgrey')\n",
    "\n",
    "grocery_pts_sf_ac = st_intersection(grocery_pts_sf, tracts_totsalesvol)\n",
    "\n",
    "final_map + \n",
    "  tm_shape(grocery_pts_sf_ac) + \n",
    "  tm_dots(col = 'SALESVOL' , palette = 'RdYlGn',\n",
    "         size= 0.15)\n",
    "\n",
    "-->\n",
    "\n",
    "-------------------\n",
    "\n",
    "<br>\n",
    "<br>\n",
    "<br>\n",
    "<br>\n",
    "<br>\n",
    "<br>\n",
    "\n",
    "***\n",
    "\n",
    "# Congrats!! Thanks for Joining Us for Geospatial Fundamentals!!\n",
    "\n",
    "<img src=\"https://statmodeling.stat.columbia.edu/wp-content/uploads/2016/07/cat-globe.png\">\n",
    "\n",
    "---\n",
    "<div style=\"display:inline-block;vertical-align:middle;\">\n",
    "<a href=\"https://dlab.berkeley.edu/\" target=\"_blank\"><img src =\"assets/images/dlab_logo.png\" width=\"75\" align=\"left\">\n",
    "</a>\n",
    "</div>\n",
    "\n",
    "<div style=\"display:inline-block;vertical-align:middle;\">\n",
    "<div style=\"font-size:larger\">&nbsp;D-Lab @ University of California - Berkeley</div>\n",
    "<div>&nbsp;Team Geo<div>\n",
    "</div>\n",
    "        \n"
   ]
  }
 ],
 "metadata": {
  "anaconda-cloud": "",
  "kernelspec": {
   "display_name": "R",
   "language": "R",
   "name": "ir"
  },
  "language_info": {
   "codemirror_mode": "r",
   "file_extension": ".r",
   "mimetype": "text/x-r-source",
   "name": "R",
   "pygments_lexer": "r",
   "version": "4.0.3"
  }
 },
 "nbformat": 4,
 "nbformat_minor": 1
}
