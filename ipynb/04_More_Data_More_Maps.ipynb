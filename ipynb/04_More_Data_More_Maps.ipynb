{
 "cells": [
  {
   "cell_type": "markdown",
   "metadata": {},
   "source": [
    "# Lesson 4. More Data, More Maps!\n",
    "\n",
    "Now that we know how to pull in data, check and transform Coordinate Reference Systems (CRS), and plot `sf` data.frames together - let's practice doing the same thing with other geometry types. In this notebook we'll be bringing in bike boulevards and schools, which will get us primed to think about spatial relationship queries.\n",
    "\n",
    "- 4.1 Berkeley Bike Boulevards\n",
    "- 4.2 Alameda County Schools\n",
    "- **Exercise**: Even More Data!\n",
    "- 4.3 Map Overlays with Matplotlib\n",
    "- 4.4 Recap\n",
    "- **Exercise**: Overlay Mapping\n",
    "- 4.5 Teaser for Day 2\n",
    "\n",
    "\n",
    "<br>\n",
    "<font color='grey'>\n",
    "    <b>Instructor Notes</b>\n",
    "\n",
    "- Datasets used\n",
    "    - 'notebook_data/transportation/BerkeleyBikeBlvds.geojson'\n",
    "    - 'notebook_data/alco_schools.csv'\n",
    "    - 'notebook_data/parcels/parcel_pts_rand30pct.geojson'\n",
    "    - ‘notebook_data/berkeley/BerkeleyCityLimits.shp’\n",
    "\n",
    "- Expected time to complete\n",
    "    - Lecture + Questions: 30 minutes\n",
    "    - Exercises: 20 minutes\n",
    "</font>\n",
    "\n",
    "### Import Libraries\n"
   ]
  },
  {
   "cell_type": "code",
   "execution_count": null,
   "metadata": {},
   "outputs": [],
   "source": [
    "library(sf)\n",
    "library(tmap)\n"
   ]
  },
  {
   "cell_type": "markdown",
   "metadata": {},
   "source": [
    "## 4.1 Berkeley Bike Boulevards\n",
    "\n",
    "We're going to bring in data bike boulevards in Berkeley. Note two things that are different from our previous data:\n",
    "\n",
    "- We're bringing in a [GeoJSON](https://en.wikipedia.org/wiki/GeoJSON) this time and not a shapefile\n",
    "\n",
    "- We have a **line** geometry GeoDataFrame (our county and states data had **polygon** geometries)\n"
   ]
  },
  {
   "cell_type": "code",
   "execution_count": null,
   "metadata": {},
   "outputs": [],
   "source": [
    "bike_blvds = st_read('notebook_data/transportation/BerkeleyBikeBlvds.geojson')\n",
    "plot(bike_blvds$geometry)\n"
   ]
  },
  {
   "cell_type": "markdown",
   "metadata": {},
   "source": [
    "Of course, we could also use `tmap` to plot our lines:\n",
    "\n"
   ]
  },
  {
   "cell_type": "code",
   "execution_count": null,
   "metadata": {},
   "outputs": [],
   "source": [
    "# set to view mode\n",
    "tmap_mode('view')\n",
    "\n",
    "tm_shape(bike_blvds) +\n",
    "  tm_lines()\n"
   ]
  },
  {
   "cell_type": "markdown",
   "metadata": {},
   "source": [
    "As usual, we'll want to do our usual data exploration...\n",
    "\n"
   ]
  },
  {
   "cell_type": "code",
   "execution_count": null,
   "metadata": {},
   "outputs": [],
   "source": [
    "head(bike_blvds)\n",
    "\n"
   ]
  },
  {
   "cell_type": "markdown",
   "metadata": {},
   "source": [
    "\n"
   ]
  },
  {
   "cell_type": "code",
   "execution_count": null,
   "metadata": {},
   "outputs": [],
   "source": [
    "dim(bike_blvds)\n",
    "\n"
   ]
  },
  {
   "cell_type": "markdown",
   "metadata": {},
   "source": [
    "\n"
   ]
  },
  {
   "cell_type": "code",
   "execution_count": null,
   "metadata": {},
   "outputs": [],
   "source": [
    "colnames(bike_blvds)\n",
    "\n"
   ]
  },
  {
   "cell_type": "markdown",
   "metadata": {},
   "source": [
    "Our bike boulevard data includes the following information:\n",
    "\n",
    " - `BB_STRNAM` - bike boulevard Streetname\n",
    " - `BB_STRID` - bike boulevard Street ID\n",
    " - `BB_FRO` - bike boulevard origin street\n",
    " - `BB_TO` - bike boulevard end street\n",
    " - `BB_SECID`- bike boulevard section id\n",
    " - `DIR_` - cardinal directions the bike boulevard runs\n",
    " - `Status` - status on whether the bike boulevard exists\n",
    " - `ALT_bikeCA` - ? \n",
    " - `Shape_len` - length of the boulevard in meters \n",
    " - `len_km` - length of the boulevard in kilometers\n",
    " - `geometry`\n",
    "\n",
    "\n",
    "<img src=\"http://www.pngall.com/wp-content/uploads/2016/03/Light-Bulb-Free-PNG-Image.png\" width=\"20\" align=left >  **Question**\n",
    "\n",
    "Why are there 211 features when we only have 8 bike boulevards?\n",
    "\n",
    "\n",
    "And now take a look at our CRS...\n"
   ]
  },
  {
   "cell_type": "code",
   "execution_count": null,
   "metadata": {},
   "outputs": [],
   "source": [
    "st_crs(bike_blvds)\n",
    "\n"
   ]
  },
  {
   "cell_type": "markdown",
   "metadata": {},
   "source": [
    "Let's tranform our CRS to UTM Zone 10N, NAD83 that we used in the last lesson.\n",
    "\n"
   ]
  },
  {
   "cell_type": "code",
   "execution_count": null,
   "metadata": {},
   "outputs": [],
   "source": [
    "bike_blvds_utm10 = st_transform(bike_blvds, crs = 26910)\n",
    "\n"
   ]
  },
  {
   "cell_type": "markdown",
   "metadata": {},
   "source": [
    "\n"
   ]
  },
  {
   "cell_type": "code",
   "execution_count": null,
   "metadata": {},
   "outputs": [],
   "source": [
    "head(bike_blvds_utm10)\n",
    "\n"
   ]
  },
  {
   "cell_type": "markdown",
   "metadata": {},
   "source": [
    "## 4.2 Alameda County Schools\n",
    "\n",
    "Alright! Now that we have our bike boulevard data squared away, we're going to bring in our Alameda County school data.\n"
   ]
  },
  {
   "cell_type": "code",
   "execution_count": null,
   "metadata": {},
   "outputs": [],
   "source": [
    "schools_df = read.csv('notebook_data/alco_schools.csv')\n",
    "head(schools_df)\n"
   ]
  },
  {
   "cell_type": "markdown",
   "metadata": {},
   "source": [
    "\n"
   ]
  },
  {
   "cell_type": "code",
   "execution_count": null,
   "metadata": {},
   "outputs": [],
   "source": [
    "dim(schools_df)\n",
    "\n"
   ]
  },
  {
   "cell_type": "markdown",
   "metadata": {},
   "source": [
    "<img src=\"http://www.pngall.com/wp-content/uploads/2016/03/Light-Bulb-Free-PNG-Image.png\" width=\"20\" align=left >  **Questions** Without looking ahead:\n",
    "\n",
    "1. Is this a geodataframe? \n",
    "2. How do you know?\n",
    "\n",
    "\n",
    "\n",
    "<br>\n",
    "<br>\n",
    "This is not an `sf` data.frame! A couple of clues to figure that out are..\n",
    "\n",
    "1. We're pulling in a Comma Separated Value (CSV) file, which is not a geospatial data format\n",
    "2. There is no geometry column (although we do have latitude and longitude values)\n",
    "\n",
    "\n",
    "-------------------------------\n",
    "\n",
    "Although our school data is not starting off as an `sf` data.frame, we actually have the tools and information to make it one. Using the `st_as_sf` function, we can coerce our plain data.frame into an `sf` data.frame (specifying the columns containings the points' coordinates and the EPSG code of the CRS).\n"
   ]
  },
  {
   "cell_type": "code",
   "execution_count": null,
   "metadata": {},
   "outputs": [],
   "source": [
    "schools_sf = st_as_sf(schools_df,\n",
    "                       coords = c('X', 'Y'),\n",
    "                       crs = 4326)\n",
    "head(schools_sf)\n"
   ]
  },
  {
   "cell_type": "markdown",
   "metadata": {},
   "source": [
    "\n"
   ]
  },
  {
   "cell_type": "code",
   "execution_count": null,
   "metadata": {},
   "outputs": [],
   "source": [
    "dim(schools_sf)\n",
    "\n"
   ]
  },
  {
   "cell_type": "markdown",
   "metadata": {},
   "source": [
    "You'll notice that the shape is almost the same as what we had as a data.frame, except with\n",
    "one less column (because the two coordinate columns, `X`, and `Y`, were consumed into a single\n",
    "`geometry` column.\n",
    "\n",
    "Now that it's an `sf` data.frame, we can use the fancy plot method for it just as we did for our other data sets.\n",
    "Notice that this is our first **point** dataset.\n"
   ]
  },
  {
   "cell_type": "code",
   "execution_count": null,
   "metadata": {},
   "outputs": [],
   "source": [
    "plot(schools_sf)\n",
    "\n"
   ]
  },
  {
   "cell_type": "markdown",
   "metadata": {},
   "source": [
    "But of course we'll want to transform the CRS, so that we can later plot it with our bike boulevard data.\n",
    "\n"
   ]
  },
  {
   "cell_type": "code",
   "execution_count": null,
   "metadata": {},
   "outputs": [],
   "source": [
    "schools_utm10 = st_transform(schools_sf, crs = 26910)\n",
    "\n"
   ]
  },
  {
   "cell_type": "markdown",
   "metadata": {},
   "source": [
    "And keep in mind that we can always use `tmap` to plot any of our datasets.\n",
    "\n",
    "Here's how we'd use tmap for point data:\n"
   ]
  },
  {
   "cell_type": "code",
   "execution_count": null,
   "metadata": {},
   "outputs": [],
   "source": [
    "tm_shape(schools_utm10) +\n",
    "  tm_dots(col='green', size=0.2)\n"
   ]
  },
  {
   "cell_type": "markdown",
   "metadata": {},
   "source": [
    "*In Lesson 2 we discussed that you can save out `sf` data.frames in multiple file formats. You could opt for a GeoJSON, a shapefile, etc... However, for point data sets it is also an option to save it out as a CSV since each geometry only has a single X and single Y value.*\n",
    "\n",
    "## Exercise: Even More Data!\n",
    "Let's play around with another points dataset.\n",
    "\n",
    "In the code cell provided below, compose code to:\n",
    "\n",
    "1. Read in the parcel points data (`notebook_data/parcels/parcel_pts_rand30pct.geojson`)\n",
    "1. Set the CRS to be 4326\n",
    "1. Transform the CRS to 26910\n",
    "1. Use `tmap` to plot and customize as desired!\n",
    "\n",
    "To see the solution, look at the hidden text below.\n"
   ]
  },
  {
   "cell_type": "code",
   "execution_count": null,
   "metadata": {},
   "outputs": [],
   "source": [
    "# YOUR CODE HERE:\n",
    "\n"
   ]
  },
  {
   "cell_type": "markdown",
   "metadata": {},
   "source": [
    "## Solution hidden here!\n",
    "\n",
    "<!--\n",
    "\n",
    "# SOLUTION\n",
    "# 1. Read in the parcel points data ('notebook_data/parcels/parcel_pts_rand30pct.geojson')\n",
    "parcel_pts = st_read('notebook_data/parcels/parcel_pts_rand30pct.geojson')\n",
    "head(parcel_pts)\n",
    "# 2. Transform CRS to EPSG code 4326 if need be\n",
    "st_crs(parcel_pts)\n",
    "parcel_pts_utm10 = st_transform(parcel_pts, crs = 26910)\n",
    "\n",
    "# 3. Plot and customize!\n",
    "tm_shape(parcel_pts_utm10) +\n",
    "  tm_dots(size=0.2, col='limegreen',\n",
    "          border.col='black',\n",
    "          alpha=0.3)\n",
    "-->\n",
    "\n",
    "-------------------------\n",
    "\n",
    "## 4.3 Map Overlays with Matplotlib\n",
    "\n",
    "No matter the geometry type we have for our `sf` data.frame, we can create overlay plots.\n",
    "\n",
    "Since we've already done the legwork of transforming our CRS, we can go ahead and plot them together.\n"
   ]
  },
  {
   "cell_type": "code",
   "execution_count": null,
   "metadata": {},
   "outputs": [],
   "source": [
    "tm_shape(schools_utm10) + \n",
    "  tm_dots(size=0.1) +\n",
    "tm_shape(bike_blvds_utm10) +\n",
    "  tm_lines(col='red')\n"
   ]
  },
  {
   "cell_type": "markdown",
   "metadata": {},
   "source": [
    "If we want to answer questions like *\"What schools are close to bike boulevards in Berkeley?\"*, the above plot isn't super helpful, since the extent covers all of Alameda county.\n",
    "\n",
    "Luckily, it is easy for us to crop a `sf` data.frame, so that we only retain the rows\n",
    "whose geometries are within the bounding box (or extent) of another dataset. \n",
    "\n",
    "We do this with the `st_crop` function.\n"
   ]
  },
  {
   "cell_type": "code",
   "execution_count": null,
   "metadata": {},
   "outputs": [],
   "source": [
    "schools_utm10_crop = st_crop(schools_utm10, bike_blvds_utm10)\n",
    "\n"
   ]
  },
  {
   "cell_type": "markdown",
   "metadata": {},
   "source": [
    "Now what's see what that last plot looks like using our cropped data.\n",
    "\n"
   ]
  },
  {
   "cell_type": "code",
   "execution_count": null,
   "metadata": {},
   "outputs": [],
   "source": [
    "tm_shape(schools_utm10_crop) + \n",
    "  tm_dots(size=0.1) +\n",
    "tm_shape(bike_blvds_utm10) +\n",
    "  tm_lines(col='red')\n"
   ]
  },
  {
   "cell_type": "markdown",
   "metadata": {},
   "source": [
    "## 4.4 Recap\n",
    "\n",
    "In this lesson we learned a several new skills:\n",
    "\n",
    "- Transformed an aspatial data.frame into an `sf` data.frame\n",
    "- Worked with point and line datasets\n",
    "- Overlayed point and line datasets\n",
    "- Cropped one dataset to the extent of another\n",
    "    - `st_crop`\n",
    "\n",
    "## Exercise: Overlay Mapping\n",
    "\n",
    "Let's take some time to practice reading in and reconciling new datasets, then mapping them together.\n",
    "\n",
    "In the code cell provided below, write code to:\n",
    "\n",
    "1. Bring in your Berkeley places shapefile (and don't forget to check/transform the crs!) (`notebook_data/berkeley/BerkeleyCityLimits.shp`)\n",
    "2. Overlay the parcel points on top of the bike boulevards\n",
    "3. Create the same plot, but limit it to Berkeley by cropping to the extent of Berkeley city limits\n",
    "\n",
    "***BONUS***: *Add the Berkeley outline to your last plot!*\n",
    "\n",
    "To see the solution, look at the hidden text below.\n"
   ]
  },
  {
   "cell_type": "code",
   "execution_count": null,
   "metadata": {},
   "outputs": [],
   "source": [
    "# YOUR CODE HERE:\n",
    "\n"
   ]
  },
  {
   "cell_type": "markdown",
   "metadata": {},
   "source": [
    "## Solution hidden here!\n",
    "\n",
    "<!--\n",
    "\n",
    "# SOLUTION\n",
    "\n",
    "# 1. Bring in your Berkeley places shapefile\n",
    "berkeley_places = st_read(\"./notebook_data/berkeley/BerkeleyCityLimits.shp\")\n",
    "st_crs(berkeley_places)\n",
    "berkeley_places_utm10 = st_transform(berkeley_places, crs = 26910)\n",
    "\n",
    "# 2. Overlay the parcel points on top of the bike boulevards\n",
    "tm_shape(parcel_pts_utm10) + \n",
    "  tm_dots(col='orange', size=0.1) +\n",
    "tm_shape(bike_blvds_utm10) + \n",
    "  tm_lines(col='black')\n",
    "\n",
    "# 3. Create the same plot but limit it to the extent of Berkeley city limits\n",
    "bike_blvds_utm10_crop = st_crop(bike_blvds_utm10, berkeley_places_utm10)\n",
    "parcel_pts_utm10_crop = st_crop(parcel_pts_utm10, berkeley_places_utm10)\n",
    "crop_map = tm_shape(parcel_pts_utm10_crop) + \n",
    "  tm_dots(col='orange', size=0.1) + \n",
    "tm_shape(bike_blvds_utm10_crop) + \n",
    "  tm_lines(col='black') + \n",
    "crop_map\n",
    "\n",
    "# BONUS: Add the Berkeley outline to your last plot\n",
    "crop_map + \n",
    "  tm_shape(berkeley_places_utm10) + \n",
    "  tm_polygons(border.col='darkgrey', alpha=0)\n",
    "\n",
    "\n",
    "-->\n",
    "\n",
    "-----------------------------------\n",
    "\n",
    "## 4.5 Teaser for Day 2...\n",
    "\n",
    "You may be wondering if and how we could make our maps more interesting and informative than we have so far.\n",
    "\n",
    "To give you a tantalizing taste of Day 2, the answer is: Yes, we can! And here's how (using an approach we hinted at earlier on)!\n"
   ]
  },
  {
   "cell_type": "code",
   "execution_count": null,
   "metadata": {},
   "outputs": [],
   "source": [
    "tm_shape(schools_utm10) + \n",
    "  tm_dots(col = 'Org', palette = 'RdYlGn',\n",
    "          size = 0.15, border.col = 'black',\n",
    "          title='Public and Private Schools, Alameda County')\n"
   ]
  },
  {
   "cell_type": "markdown",
   "metadata": {},
   "source": [
    "---\n",
    "<div style=\"display:inline-block;vertical-align:middle;\">\n",
    "<a href=\"https://dlab.berkeley.edu/\" target=\"_blank\"><img src =\"assets/images/dlab_logo.png\" width=\"75\" align=\"left\">\n",
    "</a>\n",
    "</div>\n",
    "\n",
    "<div style=\"display:inline-block;vertical-align:middle;\">\n",
    "<div style=\"font-size:larger\">&nbsp;D-Lab @ University of California - Berkeley</div>\n",
    "<div>&nbsp;Team Geo<div>\n",
    "</div>\n",
    "        \n"
   ]
  }
 ],
 "metadata": {
  "anaconda-cloud": "",
  "kernelspec": {
   "display_name": "R",
   "language": "R",
   "name": "ir"
  },
  "language_info": {
   "codemirror_mode": "r",
   "file_extension": ".r",
   "mimetype": "text/x-r-source",
   "name": "R",
   "pygments_lexer": "r",
   "version": "4.0.3"
  }
 },
 "nbformat": 4,
 "nbformat_minor": 1
}
